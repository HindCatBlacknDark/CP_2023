{
 "cells": [
  {
   "cell_type": "code",
   "execution_count": 1,
   "id": "0c60f51b",
   "metadata": {},
   "outputs": [
    {
     "name": "stderr",
     "output_type": "stream",
     "text": [
      "/home/tchari/.local/lib/python3.7/site-packages/ipykernel_launcher.py:24: TqdmDeprecationWarning: Please use `tqdm.notebook.trange` instead of `tqdm.tnrange`\n"
     ]
    },
    {
     "data": {
      "application/vnd.jupyter.widget-view+json": {
       "model_id": "e6ec65a379ac416e9edc3754d0a20919",
       "version_major": 2,
       "version_minor": 0
      },
      "text/plain": [
       "  0%|          | 0/184203 [00:00<?, ?B/s]"
      ]
     },
     "metadata": {},
     "output_type": "display_data"
    },
    {
     "data": {
      "text/plain": [
       "0"
      ]
     },
     "execution_count": 1,
     "metadata": {},
     "output_type": "execute_result"
    }
   ],
   "source": [
    "#Download datasets\n",
    "\n",
    "import requests\n",
    "import os\n",
    "\n",
    "\n",
    "\n",
    "from tqdm import tnrange, tqdm_notebook\n",
    "def download_file(doi,ext):\n",
    "\turl = 'https://api.datacite.org/dois/'+doi+'/media'\n",
    "\tr = requests.get(url).json()\n",
    "\tnetcdf_url = r['data'][0]['attributes']['url']\n",
    "\tr = requests.get(netcdf_url,stream=True)\n",
    "\t#Set file name\n",
    "\tfname = doi.split('/')[-1]+ext\n",
    "\t#Download file with progress bar\n",
    "\tif r.status_code == 403:\n",
    "\t\tprint(\"File Unavailable\")\n",
    "\tif 'content-length' not in r.headers:\n",
    "\t\tprint(\"Did not get file\")\n",
    "\telse:\n",
    "\t\twith open(fname, 'wb') as f:\n",
    "\t\t\ttotal_length = int(r.headers.get('content-length'))\n",
    "\t\t\tpbar = tnrange(int(total_length/1024), unit=\"B\")\n",
    "\t\t\tfor chunk in r.iter_content(chunk_size=1024):\n",
    "\t\t\t\tif chunk:\n",
    "\t\t\t\t\tpbar.update()\n",
    "\t\t\t\t\tf.write(chunk)\n",
    "\t\treturn fname\n",
    "\n",
    "\n",
    "\n",
    "\n",
    "#De-multiplexed h5ad with gene counts for all NSCs, labeled in each condition (from Gehring et al 2019)\n",
    "download_file('10.22002/D1.1997','.gz')\n",
    "\n",
    "\n",
    "os.system(\"gunzip *.gz\")\n",
    "\n",
    "\n",
    "os.system(\"mv D1.1997 multiplex.h5ad\")\n",
    "\n"
   ]
  },
  {
   "cell_type": "code",
   "execution_count": null,
   "id": "b4a2ddba",
   "metadata": {},
   "outputs": [],
   "source": []
  }
 ],
 "metadata": {
  "kernelspec": {
   "display_name": "Python 3 (ipykernel)",
   "language": "python",
   "name": "python3"
  },
  "language_info": {
   "codemirror_mode": {
    "name": "ipython",
    "version": 3
   },
   "file_extension": ".py",
   "mimetype": "text/x-python",
   "name": "python",
   "nbconvert_exporter": "python",
   "pygments_lexer": "ipython3",
   "version": "3.7.11"
  }
 },
 "nbformat": 4,
 "nbformat_minor": 5
}
