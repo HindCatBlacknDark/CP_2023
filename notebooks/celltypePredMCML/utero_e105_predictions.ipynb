{
  "nbformat": 4,
  "nbformat_minor": 0,
  "metadata": {
    "colab": {
      "provenance": [],
      "include_colab_link": true
    },
    "kernelspec": {
      "display_name": "Python 3",
      "name": "python3"
    },
    "language_info": {
      "name": "python"
    },
    "gpuClass": "standard"
  },
  "cells": [
    {
      "cell_type": "markdown",
      "metadata": {
        "id": "view-in-github",
        "colab_type": "text"
      },
      "source": [
        "<a href=\"https://colab.research.google.com/github/pachterlab/CP_2023/blob/main/notebooks/celltypePredMCML/utero_e105_predictions.ipynb\" target=\"_parent\"><img src=\"https://colab.research.google.com/assets/colab-badge.svg\" alt=\"Open In Colab\"/></a>"
      ]
    },
    {
      "cell_type": "code",
      "metadata": {
        "id": "aghcQdQ-R7u_"
      },
      "source": [
        "import requests\n",
        "import os\n",
        "\n",
        "\n",
        "from tqdm import tnrange, tqdm_notebook\n",
        "def download_file(doi,ext):\n",
        "\turl = 'https://api.datacite.org/dois/'+doi+'/media'\n",
        "\tr = requests.get(url).json()\n",
        "\tnetcdf_url = r['data'][0]['attributes']['url']\n",
        "\tr = requests.get(netcdf_url,stream=True)\n",
        "\t#Set file name\n",
        "\tfname = doi.split('/')[-1]+ext\n",
        "\t#Download file with progress bar\n",
        "\tif r.status_code == 403:\n",
        "\t\tprint(\"File Unavailable\")\n",
        "\tif 'content-length' not in r.headers:\n",
        "\t\tprint(\"Did not get file\")\n",
        "\telse:\n",
        "\t\twith open(fname, 'wb') as f:\n",
        "\t\t\ttotal_length = int(r.headers.get('content-length'))\n",
        "\t\t\tpbar = tnrange(int(total_length/1024), unit=\"B\")\n",
        "\t\t\tfor chunk in r.iter_content(chunk_size=1024):\n",
        "\t\t\t\tif chunk:\n",
        "\t\t\t\t\tpbar.update()\n",
        "\t\t\t\t\tf.write(chunk)\n",
        "\t\treturn fname\n",
        "\n",
        "\n"
      ],
      "execution_count": 1,
      "outputs": []
    },
    {
      "cell_type": "code",
      "source": [
        "#Read in files from NCBI GEO for Integrated Utero E10.5 dataset\n",
        "!wget --quiet https://ftp.ncbi.nlm.nih.gov/geo/series/GSE149nnn/GSE149372/suppl/GSE149372_GSM5068636-GSM5068641_scRNA.MetaData.105.csv.gz\n",
        "!wget --quiet https://ftp.ncbi.nlm.nih.gov/geo/series/GSE149nnn/GSE149372/suppl/GSE149372_GSM5068636-GSM5068641_scRNA.normalized.assay105.csv.gz\n",
        "!wget --quiet https://ftp.ncbi.nlm.nih.gov/geo/series/GSE149nnn/GSE149372/suppl/GSE149372_GSM5068636-GSM5068641_scRNA.integrated.scaled.assay105.csv.gz\n",
        "\n",
        "# !wget --quiet https://ftp.ncbi.nlm.nih.gov/geo/series/GSE149nnn/GSE149372/suppl/GSE149372_scRNA.MetaData.85.csv.gz\n",
        "# !wget --quiet https://ftp.ncbi.nlm.nih.gov/geo/series/GSE149nnn/GSE149372/suppl/GSE149372_scRNA.normalized.assay85.csv.gz\n",
        "#os.system(\"gunzip *.gz\")\n",
        "\n",
        "#integrated.scaled.assay105\n",
        "\n",
        "!gunzip *.gz"
      ],
      "metadata": {
        "id": "UYaevL5QRihv"
      },
      "execution_count": 2,
      "outputs": []
    },
    {
      "cell_type": "code",
      "source": [],
      "metadata": {
        "id": "gNWEi6vdRYNS"
      },
      "execution_count": 2,
      "outputs": []
    },
    {
      "cell_type": "code",
      "metadata": {
        "id": "UKhlS98Sw3fj",
        "outputId": "7b6a5b4f-698c-4485-e59f-0d7eee0adb3a",
        "colab": {
          "base_uri": "https://localhost:8080/"
        }
      },
      "source": [
        "%cd /content"
      ],
      "execution_count": 3,
      "outputs": [
        {
          "output_type": "stream",
          "name": "stdout",
          "text": [
            "/content\n"
          ]
        }
      ]
    },
    {
      "cell_type": "code",
      "metadata": {
        "id": "7cWkFJRvw56Z",
        "outputId": "eff3e4f9-8571-44f1-ff73-1374b0690804",
        "colab": {
          "base_uri": "https://localhost:8080/"
        }
      },
      "source": [
        "!git clone https://github.com/hhcho/densvis.git"
      ],
      "execution_count": 4,
      "outputs": [
        {
          "output_type": "stream",
          "name": "stdout",
          "text": [
            "Cloning into 'densvis'...\n",
            "remote: Enumerating objects: 145, done.\u001b[K\n",
            "remote: Counting objects: 100% (8/8), done.\u001b[K\n",
            "remote: Compressing objects: 100% (6/6), done.\u001b[K\n",
            "remote: Total 145 (delta 3), reused 2 (delta 2), pack-reused 137\u001b[K\n",
            "Receiving objects: 100% (145/145), 419.61 KiB | 6.36 MiB/s, done.\n",
            "Resolving deltas: 100% (75/75), done.\n"
          ]
        }
      ]
    },
    {
      "cell_type": "code",
      "metadata": {
        "id": "sYavhBhmw-PP",
        "outputId": "c6190567-230c-4224-e491-47e85d160de1",
        "colab": {
          "base_uri": "https://localhost:8080/"
        }
      },
      "source": [
        "%cd /content/densvis/densne/"
      ],
      "execution_count": 5,
      "outputs": [
        {
          "output_type": "stream",
          "name": "stdout",
          "text": [
            "/content/densvis/densne\n"
          ]
        }
      ]
    },
    {
      "cell_type": "code",
      "metadata": {
        "id": "W2ISJzxrw_gS",
        "outputId": "cb578cea-d804-4551-f7c8-3af45f0906ce",
        "colab": {
          "base_uri": "https://localhost:8080/"
        }
      },
      "source": [
        "!g++ sptree.cpp densne.cpp densne_main.cpp -o den_sne -O2\n",
        "import densne"
      ],
      "execution_count": 6,
      "outputs": [
        {
          "output_type": "stream",
          "name": "stdout",
          "text": [
            "\u001b[01m\u001b[Kdensne.cpp:\u001b[m\u001b[K In function ‘\u001b[01m\u001b[Kbool DENSNE::load_data(double**, int*, int*, int*, double*, double*, int*, int*, double*, double*, bool*, double**)\u001b[m\u001b[K’:\n",
            "\u001b[01m\u001b[Kdensne.cpp:961:8:\u001b[m\u001b[K \u001b[01;35m\u001b[Kwarning: \u001b[m\u001b[Kignoring return value of ‘\u001b[01m\u001b[Ksize_t fread(void*, size_t, size_t, FILE*)\u001b[m\u001b[K’, declared with attribute warn_unused_result [\u001b[01;35m\u001b[K-Wunused-result\u001b[m\u001b[K]\n",
            "  961 |   \u001b[01;35m\u001b[Kfread(n, sizeof(int), 1, h)\u001b[m\u001b[K;                                            // number of datapoints\n",
            "      |   \u001b[01;35m\u001b[K~~~~~^~~~~~~~~~~~~~~~~~~~~~\u001b[m\u001b[K\n",
            "\u001b[01m\u001b[Kdensne.cpp:962:8:\u001b[m\u001b[K \u001b[01;35m\u001b[Kwarning: \u001b[m\u001b[Kignoring return value of ‘\u001b[01m\u001b[Ksize_t fread(void*, size_t, size_t, FILE*)\u001b[m\u001b[K’, declared with attribute warn_unused_result [\u001b[01;35m\u001b[K-Wunused-result\u001b[m\u001b[K]\n",
            "  962 |   \u001b[01;35m\u001b[Kfread(d, sizeof(int), 1, h)\u001b[m\u001b[K;                                            // original dimensionality\n",
            "      |   \u001b[01;35m\u001b[K~~~~~^~~~~~~~~~~~~~~~~~~~~~\u001b[m\u001b[K\n",
            "\u001b[01m\u001b[Kdensne.cpp:963:8:\u001b[m\u001b[K \u001b[01;35m\u001b[Kwarning: \u001b[m\u001b[Kignoring return value of ‘\u001b[01m\u001b[Ksize_t fread(void*, size_t, size_t, FILE*)\u001b[m\u001b[K’, declared with attribute warn_unused_result [\u001b[01;35m\u001b[K-Wunused-result\u001b[m\u001b[K]\n",
            "  963 |   \u001b[01;35m\u001b[Kfread(theta, sizeof(double), 1, h)\u001b[m\u001b[K;                                        // gradient accuracy\n",
            "      |   \u001b[01;35m\u001b[K~~~~~^~~~~~~~~~~~~~~~~~~~~~~~~~~~~\u001b[m\u001b[K\n",
            "\u001b[01m\u001b[Kdensne.cpp:964:8:\u001b[m\u001b[K \u001b[01;35m\u001b[Kwarning: \u001b[m\u001b[Kignoring return value of ‘\u001b[01m\u001b[Ksize_t fread(void*, size_t, size_t, FILE*)\u001b[m\u001b[K’, declared with attribute warn_unused_result [\u001b[01;35m\u001b[K-Wunused-result\u001b[m\u001b[K]\n",
            "  964 |   \u001b[01;35m\u001b[Kfread(perplexity, sizeof(double), 1, h)\u001b[m\u001b[K;                                // perplexity\n",
            "      |   \u001b[01;35m\u001b[K~~~~~^~~~~~~~~~~~~~~~~~~~~~~~~~~~~~~~~~\u001b[m\u001b[K\n",
            "\u001b[01m\u001b[Kdensne.cpp:965:8:\u001b[m\u001b[K \u001b[01;35m\u001b[Kwarning: \u001b[m\u001b[Kignoring return value of ‘\u001b[01m\u001b[Ksize_t fread(void*, size_t, size_t, FILE*)\u001b[m\u001b[K’, declared with attribute warn_unused_result [\u001b[01;35m\u001b[K-Wunused-result\u001b[m\u001b[K]\n",
            "  965 |   \u001b[01;35m\u001b[Kfread(no_dims, sizeof(int), 1, h)\u001b[m\u001b[K;                                      // output dimensionality\n",
            "      |   \u001b[01;35m\u001b[K~~~~~^~~~~~~~~~~~~~~~~~~~~~~~~~~~\u001b[m\u001b[K\n",
            "\u001b[01m\u001b[Kdensne.cpp:966:8:\u001b[m\u001b[K \u001b[01;35m\u001b[Kwarning: \u001b[m\u001b[Kignoring return value of ‘\u001b[01m\u001b[Ksize_t fread(void*, size_t, size_t, FILE*)\u001b[m\u001b[K’, declared with attribute warn_unused_result [\u001b[01;35m\u001b[K-Wunused-result\u001b[m\u001b[K]\n",
            "  966 |   \u001b[01;35m\u001b[Kfread(max_iter, sizeof(int),1,h)\u001b[m\u001b[K;                                       // maximum number of iterations\n",
            "      |   \u001b[01;35m\u001b[K~~~~~^~~~~~~~~~~~~~~~~~~~~~~~~~~\u001b[m\u001b[K\n",
            "\u001b[01m\u001b[Kdensne.cpp:971:8:\u001b[m\u001b[K \u001b[01;35m\u001b[Kwarning: \u001b[m\u001b[Kignoring return value of ‘\u001b[01m\u001b[Ksize_t fread(void*, size_t, size_t, FILE*)\u001b[m\u001b[K’, declared with attribute warn_unused_result [\u001b[01;35m\u001b[K-Wunused-result\u001b[m\u001b[K]\n",
            "  971 |   \u001b[01;35m\u001b[Kfread(dens_frac, sizeof(double),1,h)\u001b[m\u001b[K;               // fraction of iters with density objective\n",
            "      |   \u001b[01;35m\u001b[K~~~~~^~~~~~~~~~~~~~~~~~~~~~~~~~~~~~~\u001b[m\u001b[K\n",
            "\u001b[01m\u001b[Kdensne.cpp:972:8:\u001b[m\u001b[K \u001b[01;35m\u001b[Kwarning: \u001b[m\u001b[Kignoring return value of ‘\u001b[01m\u001b[Ksize_t fread(void*, size_t, size_t, FILE*)\u001b[m\u001b[K’, declared with attribute warn_unused_result [\u001b[01;35m\u001b[K-Wunused-result\u001b[m\u001b[K]\n",
            "  972 |   \u001b[01;35m\u001b[Kfread(dens_lambda, sizeof(double),1,h)\u001b[m\u001b[K;               // regularization weight for density objective\n",
            "      |   \u001b[01;35m\u001b[K~~~~~^~~~~~~~~~~~~~~~~~~~~~~~~~~~~~~~~\u001b[m\u001b[K\n",
            "\u001b[01m\u001b[Kdensne.cpp:975:8:\u001b[m\u001b[K \u001b[01;35m\u001b[Kwarning: \u001b[m\u001b[Kignoring return value of ‘\u001b[01m\u001b[Ksize_t fread(void*, size_t, size_t, FILE*)\u001b[m\u001b[K’, declared with attribute warn_unused_result [\u001b[01;35m\u001b[K-Wunused-result\u001b[m\u001b[K]\n",
            "  975 |   \u001b[01;35m\u001b[Kfread(&flag, sizeof(char),1,h)\u001b[m\u001b[K;               // whether to output final densities\n",
            "      |   \u001b[01;35m\u001b[K~~~~~^~~~~~~~~~~~~~~~~~~~~~~~~\u001b[m\u001b[K\n",
            "\u001b[01m\u001b[Kdensne.cpp:978:8:\u001b[m\u001b[K \u001b[01;35m\u001b[Kwarning: \u001b[m\u001b[Kignoring return value of ‘\u001b[01m\u001b[Ksize_t fread(void*, size_t, size_t, FILE*)\u001b[m\u001b[K’, declared with attribute warn_unused_result [\u001b[01;35m\u001b[K-Wunused-result\u001b[m\u001b[K]\n",
            "  978 |   \u001b[01;35m\u001b[Kfread(&flag, sizeof(char),1,h)\u001b[m\u001b[K;               // Initial embedding provided\n",
            "      |   \u001b[01;35m\u001b[K~~~~~^~~~~~~~~~~~~~~~~~~~~~~~~\u001b[m\u001b[K\n",
            "\u001b[01m\u001b[Kdensne.cpp:982:8:\u001b[m\u001b[K \u001b[01;35m\u001b[Kwarning: \u001b[m\u001b[Kignoring return value of ‘\u001b[01m\u001b[Ksize_t fread(void*, size_t, size_t, FILE*)\u001b[m\u001b[K’, declared with attribute warn_unused_result [\u001b[01;35m\u001b[K-Wunused-result\u001b[m\u001b[K]\n",
            "  982 |   \u001b[01;35m\u001b[Kfread(*data, sizeof(double), *n * *d, h)\u001b[m\u001b[K;                               // the data\n",
            "      |   \u001b[01;35m\u001b[K~~~~~^~~~~~~~~~~~~~~~~~~~~~~~~~~~~~~~~~~\u001b[m\u001b[K\n",
            "\u001b[01m\u001b[Kdensne.cpp:987:10:\u001b[m\u001b[K \u001b[01;35m\u001b[Kwarning: \u001b[m\u001b[Kignoring return value of ‘\u001b[01m\u001b[Ksize_t fread(void*, size_t, size_t, FILE*)\u001b[m\u001b[K’, declared with attribute warn_unused_result [\u001b[01;35m\u001b[K-Wunused-result\u001b[m\u001b[K]\n",
            "  987 |     \u001b[01;35m\u001b[Kfread(*Y_init, sizeof(double), *n * *no_dims, h)\u001b[m\u001b[K;\n",
            "      |     \u001b[01;35m\u001b[K~~~~~^~~~~~~~~~~~~~~~~~~~~~~~~~~~~~~~~~~~~~~~~~~\u001b[m\u001b[K\n",
            "\u001b[01m\u001b[Kdensne.cpp:992:21:\u001b[m\u001b[K \u001b[01;35m\u001b[Kwarning: \u001b[m\u001b[Kignoring return value of ‘\u001b[01m\u001b[Ksize_t fread(void*, size_t, size_t, FILE*)\u001b[m\u001b[K’, declared with attribute warn_unused_result [\u001b[01;35m\u001b[K-Wunused-result\u001b[m\u001b[K]\n",
            "  992 |   if(!feof(h)) \u001b[01;35m\u001b[Kfread(rand_seed, sizeof(int), 1, h)\u001b[m\u001b[K;                       // random seed\n",
            "      |                \u001b[01;35m\u001b[K~~~~~^~~~~~~~~~~~~~~~~~~~~~~~~~~~~~\u001b[m\u001b[K\n"
          ]
        }
      ]
    },
    {
      "cell_type": "code",
      "metadata": {
        "id": "Y4-EpgaAxFT_",
        "outputId": "1f80d605-fb2b-44ca-a8b1-7440bc93c589",
        "colab": {
          "base_uri": "https://localhost:8080/"
        }
      },
      "source": [
        "\n",
        "%cd /content/"
      ],
      "execution_count": 7,
      "outputs": [
        {
          "output_type": "stream",
          "name": "stdout",
          "text": [
            "/content\n"
          ]
        }
      ]
    },
    {
      "cell_type": "code",
      "metadata": {
        "colab": {
          "base_uri": "https://localhost:8080/"
        },
        "id": "Pxuxe1toQFda",
        "outputId": "f24816bb-4fb9-4627-abcf-c0fce0397774"
      },
      "source": [
        "!git clone https://github.com/pachterlab/CP_2023.git"
      ],
      "execution_count": 8,
      "outputs": [
        {
          "output_type": "stream",
          "name": "stdout",
          "text": [
            "Cloning into 'CP_2023'...\n",
            "remote: Enumerating objects: 905, done.\u001b[K\n",
            "remote: Counting objects: 100% (905/905), done.\u001b[K\n",
            "remote: Compressing objects: 100% (403/403), done.\u001b[K\n",
            "remote: Total 905 (delta 495), reused 836 (delta 472), pack-reused 0\u001b[K\n",
            "Receiving objects: 100% (905/905), 340.29 MiB | 24.49 MiB/s, done.\n",
            "Resolving deltas: 100% (495/495), done.\n",
            "Updating files: 100% (98/98), done.\n"
          ]
        }
      ]
    },
    {
      "cell_type": "code",
      "metadata": {
        "id": "xVtRQxlvxEfT"
      },
      "source": [],
      "execution_count": 8,
      "outputs": []
    },
    {
      "cell_type": "code",
      "metadata": {
        "id": "iA-3Y-DlQOKH",
        "colab": {
          "base_uri": "https://localhost:8080/"
        },
        "outputId": "dce4fc91-9b43-45a4-e220-1a595082b638"
      },
      "source": [
        "!pip3 install --quiet torch\n",
        "# !pip3 install --quiet torch==1.9.0\n",
        "!pip3 install --quiet anndata\n",
        "!pip3 install --quiet matplotlib\n",
        "!pip3 install --quiet scikit-learn\n",
        "!pip3 install --quiet torchsummary\n",
        "!pip install --quiet scanpy\n"
      ],
      "execution_count": 9,
      "outputs": [
        {
          "output_type": "stream",
          "name": "stdout",
          "text": [
            "\u001b[2K     \u001b[90m━━━━━━━━━━━━━━━━━━━━━━━━━━━━━━━━━━━━━━━\u001b[0m \u001b[32m103.0/103.0 kB\u001b[0m \u001b[31m3.3 MB/s\u001b[0m eta \u001b[36m0:00:00\u001b[0m\n",
            "\u001b[2K     \u001b[90m━━━━━━━━━━━━━━━━━━━━━━━━━━━━━━━━━━━━━━━━\u001b[0m \u001b[32m2.0/2.0 MB\u001b[0m \u001b[31m22.2 MB/s\u001b[0m eta \u001b[36m0:00:00\u001b[0m\n",
            "\u001b[2K     \u001b[90m━━━━━━━━━━━━━━━━━━━━━━━━━━━━━━━━━━━━━━━━\u001b[0m \u001b[32m88.2/88.2 kB\u001b[0m \u001b[31m7.9 MB/s\u001b[0m eta \u001b[36m0:00:00\u001b[0m\n",
            "\u001b[?25h  Preparing metadata (setup.py) ... \u001b[?25l\u001b[?25hdone\n",
            "  Preparing metadata (setup.py) ... \u001b[?25l\u001b[?25hdone\n",
            "\u001b[2K     \u001b[90m━━━━━━━━━━━━━━━━━━━━━━━━━━━━━━━━━━━━━━━━\u001b[0m \u001b[32m1.1/1.1 MB\u001b[0m \u001b[31m51.2 MB/s\u001b[0m eta \u001b[36m0:00:00\u001b[0m\n",
            "\u001b[?25h  Preparing metadata (setup.py) ... \u001b[?25l\u001b[?25hdone\n",
            "\u001b[2K     \u001b[90m━━━━━━━━━━━━━━━━━━━━━━━━━━━━━━━━━━━━━━━━\u001b[0m \u001b[32m63.5/63.5 kB\u001b[0m \u001b[31m5.5 MB/s\u001b[0m eta \u001b[36m0:00:00\u001b[0m\n",
            "\u001b[?25h  Building wheel for umap-learn (setup.py) ... \u001b[?25l\u001b[?25hdone\n",
            "  Building wheel for session-info (setup.py) ... \u001b[?25l\u001b[?25hdone\n",
            "  Building wheel for pynndescent (setup.py) ... \u001b[?25l\u001b[?25hdone\n"
          ]
        }
      ]
    },
    {
      "cell_type": "code",
      "metadata": {
        "colab": {
          "base_uri": "https://localhost:8080/"
        },
        "id": "HYT4qYdJxK7V",
        "outputId": "3a6b5082-f6e7-4779-9385-3d1fef76c570"
      },
      "source": [
        "%cd /content/CP_2023/scripts"
      ],
      "execution_count": 10,
      "outputs": [
        {
          "output_type": "stream",
          "name": "stdout",
          "text": [
            "/content/CP_2023/scripts\n"
          ]
        }
      ]
    },
    {
      "cell_type": "markdown",
      "metadata": {
        "id": "xC275rCuQpgV"
      },
      "source": [
        "## **Install Packages**"
      ]
    },
    {
      "cell_type": "code",
      "metadata": {
        "id": "48xvpJbyQSKT"
      },
      "source": [
        "import anndata \n",
        "import pandas as pd\n",
        "import numpy as np\n",
        "\n",
        "\n",
        "import tools as tl\n",
        "import random\n",
        "\n",
        "from sklearn.decomposition import TruncatedSVD\n",
        "from sklearn.manifold import TSNE\n",
        "import matplotlib.pyplot as plt\n",
        "from sklearn.neighbors import NeighborhoodComponentsAnalysis, NearestNeighbors\n",
        "from sklearn.metrics import pairwise_distances\n",
        "from sklearn.metrics import accuracy_score\n",
        "from sklearn.preprocessing import scale\n",
        "import torch\n",
        "import time\n",
        "import scanpy as sc\n",
        "import seaborn as sns\n",
        "import umap\n",
        "from scipy import stats\n",
        "import scipy.io as sio\n",
        "sns.set_style('white')"
      ],
      "execution_count": 11,
      "outputs": []
    },
    {
      "cell_type": "markdown",
      "metadata": {
        "id": "7Xlo5rzVQrqM"
      },
      "source": [
        "### **Import Data**"
      ]
    },
    {
      "cell_type": "code",
      "metadata": {
        "id": "4gtBWZVoQjKh"
      },
      "source": [
        "plt.rcParams[\"font.family\"] = \"sans-serif\"\n",
        "plt.rcParams['axes.linewidth'] = 0.1\n",
        "\n",
        "state = 42\n",
        "ndims = 2\n",
        "\n",
        "data_path = '../..'\n",
        "\n",
        "pcs = 50\n",
        "pcs2 = 100\n",
        "n_latent = 50"
      ],
      "execution_count": 12,
      "outputs": []
    },
    {
      "cell_type": "code",
      "metadata": {
        "id": "NtpIixyGFiMw"
      },
      "source": [
        "def readLgMat(fname, data_path=data_path):\n",
        "\n",
        "  col_names = pd.read_csv(data_path+fname, nrows=0).columns\n",
        "  types_dict = {'Unnamed: 0': str}\n",
        "  types_dict.update({col: np.float16 for col in col_names if col not in types_dict})\n",
        "\n",
        "  chunk = pd.read_csv(data_path+fname,chunksize=1000,index_col=0,dtype=types_dict)\n",
        "  counts = pd.concat(chunk)\n",
        "\n",
        "  return counts"
      ],
      "execution_count": 13,
      "outputs": []
    },
    {
      "cell_type": "code",
      "metadata": {
        "colab": {
          "base_uri": "https://localhost:8080/",
          "height": 0
        },
        "id": "gEafihmahNB8",
        "outputId": "c907c72b-812b-44ad-e224-1349e4a76ab2"
      },
      "source": [
        "counts = readLgMat('/GSE149372_GSM5068636-GSM5068641_scRNA.integrated.scaled.assay105.csv',data_path)\n",
        "counts.head()"
      ],
      "execution_count": 14,
      "outputs": [
        {
          "output_type": "execute_result",
          "data": {
            "text/plain": [
              "         AAACCCAAGCCTCACG-1  AAACCCAAGCTCGACC-1  AAACCCAAGTTAACAG-1  \\\n",
              "Hba-a1            -0.366699           -0.303711           -0.294678   \n",
              "Hbb-bh1           -0.391846           -0.164429           -0.295654   \n",
              "Hba-x              0.409912           -0.145752           -0.494385   \n",
              "Gfod2             -0.947266           -0.459229           -0.254395   \n",
              "Mt1               -0.296143           -0.667480           -0.426270   \n",
              "\n",
              "         AAACCCACACCATATG-1  AAACCCAGTCACGCTG-1  AAACCCAGTGCGTTTA-1  \\\n",
              "Hba-a1             2.830078            3.193359           -0.350342   \n",
              "Hbb-bh1            2.917969            3.232422           -0.368408   \n",
              "Hba-x              2.945312            3.166016           -0.245972   \n",
              "Gfod2             -0.182373            0.062988            0.299316   \n",
              "Mt1                1.979492            1.252930           -0.436035   \n",
              "\n",
              "         AAACCCAGTGGCTCTG-1  AAACCCATCCCATAGA-1  AAACGAAAGAAGCTCG-1  \\\n",
              "Hba-a1             2.978516           -0.426758           -0.448486   \n",
              "Hbb-bh1            2.914062           -0.369385           -0.449463   \n",
              "Hba-x              2.966797           -0.169556           -0.375977   \n",
              "Gfod2              0.217407           -0.358154           -0.587402   \n",
              "Mt1                2.855469            0.118347           -0.274170   \n",
              "\n",
              "         AAACGAAAGACTAAGT-1  ...  TTTGGAGTCCCGAGTG-12  TTTGGTTAGTCTAACC-12  \\\n",
              "Hba-a1            -0.161011  ...            -0.313965            -0.265381   \n",
              "Hbb-bh1           -0.322998  ...            -0.771973            -0.245239   \n",
              "Hba-x             -0.462646  ...            -0.627441            -0.453369   \n",
              "Gfod2             -0.140625  ...             0.168213            -0.163818   \n",
              "Mt1                1.331055  ...            -0.440186            -0.308594   \n",
              "\n",
              "         TTTGGTTCACAAAGCG-12  TTTGGTTGTATGAGGC-12  TTTGGTTTCGTGGCTG-12  \\\n",
              "Hba-a1             -0.435791            -0.354004            -0.579102   \n",
              "Hbb-bh1            -0.029694            -0.744141            -0.196533   \n",
              "Hba-x              -0.015388            -0.108826             0.317627   \n",
              "Gfod2               3.056641            -0.401123             1.704102   \n",
              "Mt1                -0.475098            -0.369385            -0.430664   \n",
              "\n",
              "         TTTGTTGAGCAGCGAT-12  TTTGTTGCAGTCCGTG-12  TTTGTTGCAGTTCACA-12  \\\n",
              "Hba-a1             -0.314209             2.933594            -0.290771   \n",
              "Hbb-bh1            -0.491455             2.970703             0.188110   \n",
              "Hba-x              -0.010666             2.923828            -0.601562   \n",
              "Gfod2              -0.355225            -0.213501            -0.847656   \n",
              "Mt1                -0.371094             2.318359            -0.437744   \n",
              "\n",
              "         TTTGTTGGTCGTGTTA-12  TTTGTTGTCCAACCAA-12  \n",
              "Hba-a1             -0.413330            -0.441895  \n",
              "Hbb-bh1            -0.280029            -0.370117  \n",
              "Hba-x              -0.346924             0.152100  \n",
              "Gfod2               0.135742             1.581055  \n",
              "Mt1                -0.575684            -0.642090  \n",
              "\n",
              "[5 rows x 56528 columns]"
            ],
            "text/html": [
              "\n",
              "  <div id=\"df-515264cb-e60c-4b31-81a1-094b1e8c20e1\">\n",
              "    <div class=\"colab-df-container\">\n",
              "      <div>\n",
              "<style scoped>\n",
              "    .dataframe tbody tr th:only-of-type {\n",
              "        vertical-align: middle;\n",
              "    }\n",
              "\n",
              "    .dataframe tbody tr th {\n",
              "        vertical-align: top;\n",
              "    }\n",
              "\n",
              "    .dataframe thead th {\n",
              "        text-align: right;\n",
              "    }\n",
              "</style>\n",
              "<table border=\"1\" class=\"dataframe\">\n",
              "  <thead>\n",
              "    <tr style=\"text-align: right;\">\n",
              "      <th></th>\n",
              "      <th>AAACCCAAGCCTCACG-1</th>\n",
              "      <th>AAACCCAAGCTCGACC-1</th>\n",
              "      <th>AAACCCAAGTTAACAG-1</th>\n",
              "      <th>AAACCCACACCATATG-1</th>\n",
              "      <th>AAACCCAGTCACGCTG-1</th>\n",
              "      <th>AAACCCAGTGCGTTTA-1</th>\n",
              "      <th>AAACCCAGTGGCTCTG-1</th>\n",
              "      <th>AAACCCATCCCATAGA-1</th>\n",
              "      <th>AAACGAAAGAAGCTCG-1</th>\n",
              "      <th>AAACGAAAGACTAAGT-1</th>\n",
              "      <th>...</th>\n",
              "      <th>TTTGGAGTCCCGAGTG-12</th>\n",
              "      <th>TTTGGTTAGTCTAACC-12</th>\n",
              "      <th>TTTGGTTCACAAAGCG-12</th>\n",
              "      <th>TTTGGTTGTATGAGGC-12</th>\n",
              "      <th>TTTGGTTTCGTGGCTG-12</th>\n",
              "      <th>TTTGTTGAGCAGCGAT-12</th>\n",
              "      <th>TTTGTTGCAGTCCGTG-12</th>\n",
              "      <th>TTTGTTGCAGTTCACA-12</th>\n",
              "      <th>TTTGTTGGTCGTGTTA-12</th>\n",
              "      <th>TTTGTTGTCCAACCAA-12</th>\n",
              "    </tr>\n",
              "  </thead>\n",
              "  <tbody>\n",
              "    <tr>\n",
              "      <th>Hba-a1</th>\n",
              "      <td>-0.366699</td>\n",
              "      <td>-0.303711</td>\n",
              "      <td>-0.294678</td>\n",
              "      <td>2.830078</td>\n",
              "      <td>3.193359</td>\n",
              "      <td>-0.350342</td>\n",
              "      <td>2.978516</td>\n",
              "      <td>-0.426758</td>\n",
              "      <td>-0.448486</td>\n",
              "      <td>-0.161011</td>\n",
              "      <td>...</td>\n",
              "      <td>-0.313965</td>\n",
              "      <td>-0.265381</td>\n",
              "      <td>-0.435791</td>\n",
              "      <td>-0.354004</td>\n",
              "      <td>-0.579102</td>\n",
              "      <td>-0.314209</td>\n",
              "      <td>2.933594</td>\n",
              "      <td>-0.290771</td>\n",
              "      <td>-0.413330</td>\n",
              "      <td>-0.441895</td>\n",
              "    </tr>\n",
              "    <tr>\n",
              "      <th>Hbb-bh1</th>\n",
              "      <td>-0.391846</td>\n",
              "      <td>-0.164429</td>\n",
              "      <td>-0.295654</td>\n",
              "      <td>2.917969</td>\n",
              "      <td>3.232422</td>\n",
              "      <td>-0.368408</td>\n",
              "      <td>2.914062</td>\n",
              "      <td>-0.369385</td>\n",
              "      <td>-0.449463</td>\n",
              "      <td>-0.322998</td>\n",
              "      <td>...</td>\n",
              "      <td>-0.771973</td>\n",
              "      <td>-0.245239</td>\n",
              "      <td>-0.029694</td>\n",
              "      <td>-0.744141</td>\n",
              "      <td>-0.196533</td>\n",
              "      <td>-0.491455</td>\n",
              "      <td>2.970703</td>\n",
              "      <td>0.188110</td>\n",
              "      <td>-0.280029</td>\n",
              "      <td>-0.370117</td>\n",
              "    </tr>\n",
              "    <tr>\n",
              "      <th>Hba-x</th>\n",
              "      <td>0.409912</td>\n",
              "      <td>-0.145752</td>\n",
              "      <td>-0.494385</td>\n",
              "      <td>2.945312</td>\n",
              "      <td>3.166016</td>\n",
              "      <td>-0.245972</td>\n",
              "      <td>2.966797</td>\n",
              "      <td>-0.169556</td>\n",
              "      <td>-0.375977</td>\n",
              "      <td>-0.462646</td>\n",
              "      <td>...</td>\n",
              "      <td>-0.627441</td>\n",
              "      <td>-0.453369</td>\n",
              "      <td>-0.015388</td>\n",
              "      <td>-0.108826</td>\n",
              "      <td>0.317627</td>\n",
              "      <td>-0.010666</td>\n",
              "      <td>2.923828</td>\n",
              "      <td>-0.601562</td>\n",
              "      <td>-0.346924</td>\n",
              "      <td>0.152100</td>\n",
              "    </tr>\n",
              "    <tr>\n",
              "      <th>Gfod2</th>\n",
              "      <td>-0.947266</td>\n",
              "      <td>-0.459229</td>\n",
              "      <td>-0.254395</td>\n",
              "      <td>-0.182373</td>\n",
              "      <td>0.062988</td>\n",
              "      <td>0.299316</td>\n",
              "      <td>0.217407</td>\n",
              "      <td>-0.358154</td>\n",
              "      <td>-0.587402</td>\n",
              "      <td>-0.140625</td>\n",
              "      <td>...</td>\n",
              "      <td>0.168213</td>\n",
              "      <td>-0.163818</td>\n",
              "      <td>3.056641</td>\n",
              "      <td>-0.401123</td>\n",
              "      <td>1.704102</td>\n",
              "      <td>-0.355225</td>\n",
              "      <td>-0.213501</td>\n",
              "      <td>-0.847656</td>\n",
              "      <td>0.135742</td>\n",
              "      <td>1.581055</td>\n",
              "    </tr>\n",
              "    <tr>\n",
              "      <th>Mt1</th>\n",
              "      <td>-0.296143</td>\n",
              "      <td>-0.667480</td>\n",
              "      <td>-0.426270</td>\n",
              "      <td>1.979492</td>\n",
              "      <td>1.252930</td>\n",
              "      <td>-0.436035</td>\n",
              "      <td>2.855469</td>\n",
              "      <td>0.118347</td>\n",
              "      <td>-0.274170</td>\n",
              "      <td>1.331055</td>\n",
              "      <td>...</td>\n",
              "      <td>-0.440186</td>\n",
              "      <td>-0.308594</td>\n",
              "      <td>-0.475098</td>\n",
              "      <td>-0.369385</td>\n",
              "      <td>-0.430664</td>\n",
              "      <td>-0.371094</td>\n",
              "      <td>2.318359</td>\n",
              "      <td>-0.437744</td>\n",
              "      <td>-0.575684</td>\n",
              "      <td>-0.642090</td>\n",
              "    </tr>\n",
              "  </tbody>\n",
              "</table>\n",
              "<p>5 rows × 56528 columns</p>\n",
              "</div>\n",
              "      <button class=\"colab-df-convert\" onclick=\"convertToInteractive('df-515264cb-e60c-4b31-81a1-094b1e8c20e1')\"\n",
              "              title=\"Convert this dataframe to an interactive table.\"\n",
              "              style=\"display:none;\">\n",
              "        \n",
              "  <svg xmlns=\"http://www.w3.org/2000/svg\" height=\"24px\"viewBox=\"0 0 24 24\"\n",
              "       width=\"24px\">\n",
              "    <path d=\"M0 0h24v24H0V0z\" fill=\"none\"/>\n",
              "    <path d=\"M18.56 5.44l.94 2.06.94-2.06 2.06-.94-2.06-.94-.94-2.06-.94 2.06-2.06.94zm-11 1L8.5 8.5l.94-2.06 2.06-.94-2.06-.94L8.5 2.5l-.94 2.06-2.06.94zm10 10l.94 2.06.94-2.06 2.06-.94-2.06-.94-.94-2.06-.94 2.06-2.06.94z\"/><path d=\"M17.41 7.96l-1.37-1.37c-.4-.4-.92-.59-1.43-.59-.52 0-1.04.2-1.43.59L10.3 9.45l-7.72 7.72c-.78.78-.78 2.05 0 2.83L4 21.41c.39.39.9.59 1.41.59.51 0 1.02-.2 1.41-.59l7.78-7.78 2.81-2.81c.8-.78.8-2.07 0-2.86zM5.41 20L4 18.59l7.72-7.72 1.47 1.35L5.41 20z\"/>\n",
              "  </svg>\n",
              "      </button>\n",
              "      \n",
              "  <style>\n",
              "    .colab-df-container {\n",
              "      display:flex;\n",
              "      flex-wrap:wrap;\n",
              "      gap: 12px;\n",
              "    }\n",
              "\n",
              "    .colab-df-convert {\n",
              "      background-color: #E8F0FE;\n",
              "      border: none;\n",
              "      border-radius: 50%;\n",
              "      cursor: pointer;\n",
              "      display: none;\n",
              "      fill: #1967D2;\n",
              "      height: 32px;\n",
              "      padding: 0 0 0 0;\n",
              "      width: 32px;\n",
              "    }\n",
              "\n",
              "    .colab-df-convert:hover {\n",
              "      background-color: #E2EBFA;\n",
              "      box-shadow: 0px 1px 2px rgba(60, 64, 67, 0.3), 0px 1px 3px 1px rgba(60, 64, 67, 0.15);\n",
              "      fill: #174EA6;\n",
              "    }\n",
              "\n",
              "    [theme=dark] .colab-df-convert {\n",
              "      background-color: #3B4455;\n",
              "      fill: #D2E3FC;\n",
              "    }\n",
              "\n",
              "    [theme=dark] .colab-df-convert:hover {\n",
              "      background-color: #434B5C;\n",
              "      box-shadow: 0px 1px 3px 1px rgba(0, 0, 0, 0.15);\n",
              "      filter: drop-shadow(0px 1px 2px rgba(0, 0, 0, 0.3));\n",
              "      fill: #FFFFFF;\n",
              "    }\n",
              "  </style>\n",
              "\n",
              "      <script>\n",
              "        const buttonEl =\n",
              "          document.querySelector('#df-515264cb-e60c-4b31-81a1-094b1e8c20e1 button.colab-df-convert');\n",
              "        buttonEl.style.display =\n",
              "          google.colab.kernel.accessAllowed ? 'block' : 'none';\n",
              "\n",
              "        async function convertToInteractive(key) {\n",
              "          const element = document.querySelector('#df-515264cb-e60c-4b31-81a1-094b1e8c20e1');\n",
              "          const dataTable =\n",
              "            await google.colab.kernel.invokeFunction('convertToInteractive',\n",
              "                                                     [key], {});\n",
              "          if (!dataTable) return;\n",
              "\n",
              "          const docLinkHtml = 'Like what you see? Visit the ' +\n",
              "            '<a target=\"_blank\" href=https://colab.research.google.com/notebooks/data_table.ipynb>data table notebook</a>'\n",
              "            + ' to learn more about interactive tables.';\n",
              "          element.innerHTML = '';\n",
              "          dataTable['output_type'] = 'display_data';\n",
              "          await google.colab.output.renderOutput(dataTable, element);\n",
              "          const docLink = document.createElement('div');\n",
              "          docLink.innerHTML = docLinkHtml;\n",
              "          element.appendChild(docLink);\n",
              "        }\n",
              "      </script>\n",
              "    </div>\n",
              "  </div>\n",
              "  "
            ]
          },
          "metadata": {},
          "execution_count": 14
        }
      ]
    },
    {
      "cell_type": "code",
      "source": [
        "cellMeta = pd.read_csv(data_path+'/GSE149372_GSM5068636-GSM5068641_scRNA.MetaData.105.csv')\n",
        "print(cellMeta.head())\n",
        "\n",
        "labs = pd.Categorical(cellMeta['integrated_snn_res.0.3'])"
      ],
      "metadata": {
        "colab": {
          "base_uri": "https://localhost:8080/"
        },
        "id": "gvLic2F8SFXC",
        "outputId": "642facab-506e-40c6-c772-9c088e9366b7"
      },
      "execution_count": 15,
      "outputs": [
        {
          "output_type": "stream",
          "name": "stdout",
          "text": [
            "           Unnamed: 0 orig.ident  nCount_RNA  nFeature_RNA  samples Utero  \\\n",
            "0  AAACCCAAGCCTCACG-1      p10.5        4451          2028        1  ExUt   \n",
            "1  AAACCCAAGCTCGACC-1      p10.5        8096          2793        1  ExUt   \n",
            "2  AAACCCAAGTTAACAG-1      p10.5        6994          2760        1  ExUt   \n",
            "3  AAACCCACACCATATG-1      p10.5       19467          3424        1  ExUt   \n",
            "4  AAACCCAGTCACGCTG-1      p10.5        8205          1481        1  ExUt   \n",
            "\n",
            "   percent.mt  integrated_snn_res.0.3  \n",
            "0    5.526848                       7  \n",
            "1    4.088439                       5  \n",
            "2    3.345725                       5  \n",
            "3    4.166025                       3  \n",
            "4    1.962218                       3  \n"
          ]
        }
      ]
    },
    {
      "cell_type": "code",
      "source": [
        "#Center and scale data\n",
        "count_mat = counts.values.T\n",
        "\n",
        "adata = anndata.AnnData(X = count_mat)\n",
        "adata.obs_names = list(counts.columns)\n",
        "adata.var_names = list(counts.index)\n",
        "adata.obs['Utero'] = pd.Categorical(cellMeta.Utero)\n",
        "adata.obs['Cluster'] = pd.Categorical(cellMeta['integrated_snn_res.0.3'])\n",
        "adata"
      ],
      "metadata": {
        "colab": {
          "base_uri": "https://localhost:8080/"
        },
        "id": "4kMPCGffSZqs",
        "outputId": "3a37116e-2774-427e-b86f-074da2d2f4eb"
      },
      "execution_count": 16,
      "outputs": [
        {
          "output_type": "execute_result",
          "data": {
            "text/plain": [
              "AnnData object with n_obs × n_vars = 56528 × 2000\n",
              "    obs: 'Utero', 'Cluster'"
            ]
          },
          "metadata": {},
          "execution_count": 16
        }
      ]
    },
    {
      "cell_type": "code",
      "source": [
        "#In paper, use top 2000 HVGs and 15 PCs\n",
        "adata.obsm['log'] = adata.X #Data is already scaled so 'log' here is not just log-normalized\n",
        "\n",
        "sc.pp.scale(adata, max_value=10) #Already scaled\n",
        "adata"
      ],
      "metadata": {
        "colab": {
          "base_uri": "https://localhost:8080/"
        },
        "id": "4iBLwnGzSd60",
        "outputId": "8b6d2081-8047-427a-d98b-916ed7601f33"
      },
      "execution_count": 17,
      "outputs": [
        {
          "output_type": "execute_result",
          "data": {
            "text/plain": [
              "AnnData object with n_obs × n_vars = 56528 × 2000\n",
              "    obs: 'Utero', 'Cluster'\n",
              "    var: 'mean', 'std'\n",
              "    obsm: 'log'"
            ]
          },
          "metadata": {},
          "execution_count": 17
        }
      ]
    },
    {
      "cell_type": "code",
      "source": [
        "count_mat = adata.obsm['log']\n",
        "scaled_mat = adata.X"
      ],
      "metadata": {
        "id": "TIVmILjMSfCf"
      },
      "execution_count": 18,
      "outputs": []
    },
    {
      "cell_type": "code",
      "source": [],
      "metadata": {
        "id": "xFl-BpWMSozS"
      },
      "execution_count": 18,
      "outputs": []
    },
    {
      "cell_type": "code",
      "source": [
        "counts2_orig = readLgMat('/GSE149372_GSM5068636-GSM5068641_scRNA.normalized.assay105.csv')\n",
        "counts2 = counts2_orig.loc[list(adata.var_names)]\n",
        "counts2.shape"
      ],
      "metadata": {
        "colab": {
          "base_uri": "https://localhost:8080/"
        },
        "id": "8hnxhZF6So2i",
        "outputId": "3aa419f6-2601-4655-a0f2-38f050c2c49e"
      },
      "execution_count": 19,
      "outputs": [
        {
          "output_type": "execute_result",
          "data": {
            "text/plain": [
              "(2000, 56528)"
            ]
          },
          "metadata": {},
          "execution_count": 19
        }
      ]
    },
    {
      "cell_type": "code",
      "source": [
        "\n",
        "count_mat_orig = counts2.values.T"
      ],
      "metadata": {
        "id": "3XLv_QpjSq0W"
      },
      "execution_count": 20,
      "outputs": []
    },
    {
      "cell_type": "code",
      "source": [
        "adata2 = anndata.AnnData(X = count_mat_orig)\n",
        "adata2.obs_names = list(counts2.columns)\n",
        "adata2.var_names = list(counts2.index)\n",
        "adata2.obs['Utero'] = pd.Categorical(cellMeta.Utero)\n",
        "adata2.obs['Cluster'] = pd.Categorical(cellMeta['integrated_snn_res.0.3'])\n",
        "adata2"
      ],
      "metadata": {
        "colab": {
          "base_uri": "https://localhost:8080/"
        },
        "id": "X8_UV_KjSs0V",
        "outputId": "79c89147-b2c9-42c2-bb64-1ce619918a19"
      },
      "execution_count": 21,
      "outputs": [
        {
          "output_type": "execute_result",
          "data": {
            "text/plain": [
              "AnnData object with n_obs × n_vars = 56528 × 2000\n",
              "    obs: 'Utero', 'Cluster'"
            ]
          },
          "metadata": {},
          "execution_count": 21
        }
      ]
    },
    {
      "cell_type": "code",
      "source": [
        "adata2.obsm['log'] = adata2.X #Data matrix is log-normalized \n",
        "\n",
        "adata2.raw = adata2.copy()\n",
        "\n",
        "sc.pp.scale(adata2, max_value=10)\n",
        "adata2"
      ],
      "metadata": {
        "colab": {
          "base_uri": "https://localhost:8080/"
        },
        "id": "dqZuxaQ3Ss71",
        "outputId": "4ba11921-6505-4eac-9a13-3d47b5dceada"
      },
      "execution_count": 22,
      "outputs": [
        {
          "output_type": "execute_result",
          "data": {
            "text/plain": [
              "AnnData object with n_obs × n_vars = 56528 × 2000\n",
              "    obs: 'Utero', 'Cluster'\n",
              "    var: 'mean', 'std'\n",
              "    obsm: 'log'"
            ]
          },
          "metadata": {},
          "execution_count": 22
        }
      ]
    },
    {
      "cell_type": "code",
      "source": [
        "count_mat_orig = adata2.obsm['log']\n",
        "scaled_mat_orig = adata2.X"
      ],
      "metadata": {
        "id": "6HeES9iDSz4V"
      },
      "execution_count": 23,
      "outputs": []
    },
    {
      "cell_type": "code",
      "metadata": {
        "id": "hz3pgsoK4qmz"
      },
      "source": [
        "def knn_infer(embd_space, labeled_idx, labeled_lab, unlabeled_idx,n_neighbors=50):\n",
        "\t\"\"\"\n",
        "\tPredicts the labels of unlabeled data in the embedded space with KNN.\n",
        "\tParameters\n",
        "\t----------\n",
        "\tembd_space : ndarray (n_samples, embedding_dim)\n",
        "\t\tEach sample is described by the features in the embedded space.\n",
        "\t\tContains all samples, both labeled and unlabeled.\n",
        "\tlabeled_idx : list\n",
        "\t\tIndices of the labeled samples (used for training the classifier).\n",
        "\tlabeled_lab : ndarray (n_labeled_samples)\n",
        "\t\tLabels of the labeled samples.\n",
        "\tunlabeled_idx : list\n",
        "\t\tIndices of the unlabeled samples.\n",
        "\tReturns\n",
        "\t-------\n",
        "\tpred_lab : ndarray (n_unlabeled_samples)\n",
        "\t\tInferred labels of the unlabeled samples.\n",
        "\t\"\"\"\n",
        "\n",
        "\t# obtain labeled data and unlabled data from indices\n",
        "\tlabeled_samp = embd_space[labeled_idx, :]\n",
        "\tunlabeled_samp = embd_space[unlabeled_idx, :]\n",
        "\n",
        "\tfrom sklearn.neighbors import KNeighborsClassifier\n",
        "\n",
        "\tknn = KNeighborsClassifier(n_neighbors=n_neighbors)\n",
        "\tknn.fit(labeled_samp, labeled_lab)\n",
        "\n",
        "\tpred_lab = knn.predict(unlabeled_samp)\n",
        "\treturn pred_lab\n"
      ],
      "execution_count": 24,
      "outputs": []
    },
    {
      "cell_type": "code",
      "metadata": {
        "id": "D45aXRHOUopk"
      },
      "source": [
        "def getJac(orig_indices,latents, latentLab, n_neighbors=30,p=1):\n",
        "  emb = []\n",
        "\n",
        "  xs = []\n",
        "\n",
        "  ys = []\n",
        "\n",
        "  knnDF = pd.DataFrame()\n",
        "\n",
        "  for p in range(len(latents)):\n",
        "    i = latents[p]\n",
        "    l = latentLab[p]\n",
        "\n",
        "    ind = tl.getNeighbors(i, n_neigh = n_neighbors,p=p)\n",
        "\n",
        "    x = tl.getJaccard(orig_indices,ind)\n",
        "\n",
        "    xs += x\n",
        "    #ys += list(y)\n",
        "\n",
        "    emb += [l]*len(x)\n",
        "\n",
        "    print(l)\n",
        "\n",
        "    print(np.mean(tl.getJaccard(orig_indices,ind)))\n",
        "\n",
        "\n",
        "\n",
        "  knnDF['x'] = xs\n",
        "  #knnDF['y'] = ys\n",
        "  knnDF['latent'] = emb\n",
        "\n",
        "  return knnDF"
      ],
      "execution_count": 25,
      "outputs": []
    },
    {
      "cell_type": "markdown",
      "metadata": {
        "id": "VdbWog1mhOse"
      },
      "source": [
        "### **Prediction Accuracy for Cell Type Labels Across Benchmarks**\n",
        "Tests accuracy on sex labels as well\n"
      ]
    },
    {
      "cell_type": "markdown",
      "metadata": {
        "id": "EXCUt_VrhYdg"
      },
      "source": [
        "Set up metadata for MCML"
      ]
    },
    {
      "cell_type": "code",
      "metadata": {
        "id": "Cv4A-t8BfdLW"
      },
      "source": [
        "lab4 = list(cellMeta['integrated_snn_res.0.3'])\n"
      ],
      "execution_count": 26,
      "outputs": []
    },
    {
      "cell_type": "code",
      "source": [],
      "metadata": {
        "id": "Mm-GGKUTv1KM"
      },
      "execution_count": 26,
      "outputs": []
    },
    {
      "cell_type": "markdown",
      "metadata": {
        "id": "Zc6n_BO3IOVw"
      },
      "source": [
        "First test 2D space predictions (t-SNE, UMAP, UMAP-Supervised)"
      ]
    },
    {
      "cell_type": "code",
      "source": [
        "adata = adata2"
      ],
      "metadata": {
        "id": "P4raDW4XyKNs"
      },
      "execution_count": 27,
      "outputs": []
    },
    {
      "cell_type": "code",
      "metadata": {
        "id": "iwbEThDEITO7"
      },
      "source": [
        "ndims = 2\n",
        "acc_score_2D = []\n",
        "\n",
        "for i in range(3):\n",
        "  reducer = umap.UMAP(n_components = ndims)\n",
        "  tsne = TSNE(n_components = ndims) \n",
        "\n",
        "\n",
        "  tsvd = TruncatedSVD(n_components=pcs)\n",
        "  x_pca = tsvd.fit_transform(scaled_mat_orig)\n",
        "\n",
        "  pcaUMAP = reducer.fit_transform(x_pca)\n",
        "  pcaTSNE = tsne.fit_transform(x_pca)\n",
        "\n",
        "  #Partially labeled UMAP\n",
        "\n",
        "  labels = np.array([lab4]).copy().astype(np.int8)\n",
        "  train_inds = np.random.choice(len(scaled_mat_orig), size = int(0.7*len(scaled_mat_orig)),replace=False) #0.7 for training fraction\n",
        "  #Set 30% to no label (nan)\n",
        "  unlab_inds = [i for i in range(len(adata)) if i not in train_inds]\n",
        "  labels[:, unlab_inds] = -1\n",
        "\n",
        "  pcaUMAPLab = reducer.fit_transform(x_pca,y=labels[0])\n",
        "\n",
        "  preds = knn_infer(pcaUMAPLab, train_inds, adata.obs['Cluster'].values[train_inds], unlab_inds)\n",
        "  acc = accuracy_score(adata.obs['Cluster'].values[unlab_inds], preds)\n",
        "  acc_score_2D.append(acc)\n",
        "\n",
        "\n",
        "\n",
        "  preds = knn_infer(pcaUMAP, train_inds, adata.obs['Cluster'].values[train_inds], unlab_inds)\n",
        "  acc = accuracy_score(adata.obs['Cluster'].values[unlab_inds], preds)\n",
        "  acc_score_2D.append(acc)\n",
        "\n",
        "  preds = knn_infer(pcaTSNE, train_inds, adata.obs['Cluster'].values[train_inds], unlab_inds)\n",
        "  acc = accuracy_score(adata.obs['Cluster'].values[unlab_inds], preds)\n",
        "  acc_score_2D.append(acc)"
      ],
      "execution_count": 28,
      "outputs": []
    },
    {
      "cell_type": "code",
      "source": [
        "print(acc_score_2D)"
      ],
      "metadata": {
        "id": "CETxO7Sb4BGV",
        "outputId": "ca58a043-d248-46bd-9edd-2ed6a632f7e4",
        "colab": {
          "base_uri": "https://localhost:8080/"
        }
      },
      "execution_count": 31,
      "outputs": [
        {
          "output_type": "stream",
          "name": "stdout",
          "text": [
            "[0.8889085441358571, 0.8488708060616782, 0.8851937024588714, 0.8810071348546494, 0.8504039153251961, 0.8842502506043989, 0.8928002830355564, 0.8590718792381626, 0.8879650922813845]\n"
          ]
        }
      ]
    },
    {
      "cell_type": "code",
      "metadata": {
        "id": "fjV9ZYvmgqjr"
      },
      "source": [
        "acc_score_2D = [0.8889085441358571, 0.8488708060616782, 0.8851937024588714, 0.8810071348546494, 0.8504039153251961, 0.8842502506043989, 0.8928002830355564, 0.8590718792381626, 0.8879650922813845]"
      ],
      "execution_count": 28,
      "outputs": []
    },
    {
      "cell_type": "code",
      "source": [
        "ndims = 2\n",
        "acc_score_15_2D = []\n",
        "\n",
        "for i in range(3):\n",
        "  reducer = umap.UMAP(n_components = ndims)\n",
        "  tsne = TSNE(n_components = ndims) \n",
        "\n",
        "\n",
        "  tsvd = TruncatedSVD(n_components=15)\n",
        "  x_pca = tsvd.fit_transform(scaled_mat_orig)\n",
        "\n",
        "  pcaUMAP = reducer.fit_transform(x_pca)\n",
        "  pcaTSNE = tsne.fit_transform(x_pca)\n",
        "\n",
        "  #Partially labeled UMAP\n",
        "\n",
        "  labels = np.array([lab4]).copy().astype(np.int8)\n",
        "  train_inds = np.random.choice(len(scaled_mat_orig), size = int(0.7*len(scaled_mat_orig)),replace=False) #0.7 for training fraction\n",
        "  #Set 30% to no label (nan)\n",
        "  unlab_inds = [i for i in range(len(adata)) if i not in train_inds]\n",
        "  labels[:, unlab_inds] = -1\n",
        "\n",
        "  pcaUMAPLab = reducer.fit_transform(x_pca,y=labels[0])\n",
        "\n",
        "  preds = knn_infer(pcaUMAPLab, train_inds, adata.obs['Cluster'].values[train_inds], unlab_inds)\n",
        "  acc = accuracy_score(adata.obs['Cluster'].values[unlab_inds], preds)\n",
        "  acc_score_15_2D.append(acc)\n",
        "\n",
        "\n",
        "\n",
        "  preds = knn_infer(pcaUMAP, train_inds, adata.obs['Cluster'].values[train_inds], unlab_inds)\n",
        "  acc = accuracy_score(adata.obs['Cluster'].values[unlab_inds], preds)\n",
        "  acc_score_15_2D.append(acc)\n",
        "\n",
        "  preds = knn_infer(pcaTSNE, train_inds, adata.obs['Cluster'].values[train_inds], unlab_inds)\n",
        "  acc = accuracy_score(adata.obs['Cluster'].values[unlab_inds], preds)\n",
        "  acc_score_15_2D.append(acc)"
      ],
      "metadata": {
        "id": "zYU-2DxOzhA6"
      },
      "execution_count": 29,
      "outputs": []
    },
    {
      "cell_type": "code",
      "metadata": {
        "id": "prbipeo-6G4w",
        "colab": {
          "base_uri": "https://localhost:8080/"
        },
        "outputId": "d0cb1852-4f42-42ed-a36f-2934211cd188"
      },
      "source": [
        "print(acc_score_15_2D)"
      ],
      "execution_count": 30,
      "outputs": [
        {
          "output_type": "stream",
          "name": "stdout",
          "text": [
            "[0.8748746978005779, 0.8377262810307211, 0.8703933014918332, 0.8723981366825874, 0.8592487764608763, 0.8754053894687187, 0.8718084792735421, 0.8481042514299192, 0.8717495135326375]\n"
          ]
        }
      ]
    },
    {
      "cell_type": "markdown",
      "metadata": {
        "id": "Ezadu5uXLs88"
      },
      "source": [
        "PCA 50D"
      ]
    },
    {
      "cell_type": "code",
      "metadata": {
        "id": "dMQdSd9cLwRC"
      },
      "source": [
        "\n",
        "acc_scorePCA = []\n",
        "\n",
        "\n",
        "for i in range(3):\n",
        "\n",
        "  tsvd = TruncatedSVD(n_components=pcs)\n",
        "  x_pca = tsvd.fit_transform(scaled_mat_orig)\n",
        "  \n",
        "  labels = np.array([lab4]).copy().astype(np.int8)\n",
        "  train_inds = np.random.choice(len(scaled_mat_orig), size = int(0.7*len(scaled_mat_orig)),replace=False) #0.7 for training fraction\n",
        "  #Set 30% to no label (nan)\n",
        "  unlab_inds = [i for i in range(len(adata)) if i not in train_inds]\n",
        "  labels[:, unlab_inds] = -1\n",
        "  \n",
        "  unlabeled_idx = []\n",
        "  for i in range(len(adata)):\n",
        "      if i not in train_inds:\n",
        "          unlabeled_idx.append(i)\n",
        "\n",
        "  preds = knn_infer(x_pca, train_inds, adata.obs['Cluster'].values[train_inds], unlabeled_idx)\n",
        "  acc = accuracy_score(adata.obs['Cluster'].values[unlabeled_idx], preds)\n",
        "  acc_scorePCA.append(acc)\n",
        "\n",
        " \n",
        "  # print(f\"nnNCA fit in {toc - tic:0.4f} seconds\")"
      ],
      "execution_count": 33,
      "outputs": []
    },
    {
      "cell_type": "code",
      "metadata": {
        "id": "6p6oknUGLwj4",
        "colab": {
          "base_uri": "https://localhost:8080/"
        },
        "outputId": "92cc52b8-5ea5-4f44-da86-9bf96e5823c2"
      },
      "source": [
        "print(acc_scorePCA)"
      ],
      "execution_count": 34,
      "outputs": [
        {
          "output_type": "stream",
          "name": "stdout",
          "text": [
            "[0.9053599858482222, 0.9072468895571673, 0.9040627395483224]\n"
          ]
        }
      ]
    },
    {
      "cell_type": "code",
      "source": [],
      "metadata": {
        "id": "yCZYq_r4yVFi"
      },
      "execution_count": null,
      "outputs": []
    },
    {
      "cell_type": "markdown",
      "source": [
        "PCA 100D"
      ],
      "metadata": {
        "id": "pKpbcOZBLdUb"
      }
    },
    {
      "cell_type": "code",
      "source": [
        "\n",
        "acc_scorePCA100D = []\n",
        "\n",
        "for i in range(3):\n",
        "\n",
        "  tsvd = TruncatedSVD(n_components=100)\n",
        "  x_pca = tsvd.fit_transform(scaled_mat_orig)\n",
        "  \n",
        "  labels = np.array([lab4]).copy().astype(np.int8)\n",
        "  train_inds = np.random.choice(len(scaled_mat_orig), size = int(0.7*len(scaled_mat_orig)),replace=False)\n",
        "  unlab_inds = [i for i in range(len(adata)) if i not in train_inds]\n",
        "  labels[:, unlab_inds] = -1\n",
        "  \n",
        "  unlabeled_idx = []\n",
        "  for i in range(len(adata)):\n",
        "      if i not in train_inds:\n",
        "          unlabeled_idx.append(i)\n",
        "\n",
        "  preds = knn_infer(x_pca, train_inds, adata.obs['Cluster'].values[train_inds], unlabeled_idx)\n",
        "  acc = accuracy_score(adata.obs['Cluster'].values[unlabeled_idx], preds)\n",
        "  acc_scorePCA100D.append(acc)\n",
        "\n",
        " \n",
        "  # print(f\"nnNCA fit in {toc - tic:0.4f} seconds\")"
      ],
      "metadata": {
        "id": "idPeWWNNLcKT"
      },
      "execution_count": 35,
      "outputs": []
    },
    {
      "cell_type": "code",
      "source": [
        "print(acc_scorePCA100D)"
      ],
      "metadata": {
        "colab": {
          "base_uri": "https://localhost:8080/"
        },
        "id": "xQbzrtodLcNS",
        "outputId": "73d0e46e-3c97-463e-926a-6a9f37136179"
      },
      "execution_count": 36,
      "outputs": [
        {
          "output_type": "stream",
          "name": "stdout",
          "text": [
            "[0.8901468246948523, 0.8936847691491243, 0.8935668376673153]\n"
          ]
        }
      ]
    },
    {
      "cell_type": "code",
      "source": [],
      "metadata": {
        "id": "sh5vkVz8LcP0"
      },
      "execution_count": null,
      "outputs": []
    },
    {
      "cell_type": "markdown",
      "source": [
        "PCA 15D"
      ],
      "metadata": {
        "id": "7iYqtvwWVNSC"
      }
    },
    {
      "cell_type": "code",
      "source": [
        "\n",
        "acc_scorePCA15D = []\n",
        "\n",
        "for i in range(3):\n",
        "\n",
        "  tsvd = TruncatedSVD(n_components=15)\n",
        "  x_pca = tsvd.fit_transform(scaled_mat_orig)\n",
        "  \n",
        "  labels = np.array([lab4]).copy().astype(np.int8)\n",
        "  train_inds = np.random.choice(len(scaled_mat_orig), size = int(0.7*len(scaled_mat_orig)),replace=False)\n",
        "  unlab_inds = [i for i in range(len(adata)) if i not in train_inds]\n",
        "  labels[:, unlab_inds] = -1\n",
        "  \n",
        "  unlabeled_idx = []\n",
        "  for i in range(len(adata)):\n",
        "      if i not in train_inds:\n",
        "          unlabeled_idx.append(i)\n",
        "\n",
        "  preds = knn_infer(x_pca, train_inds, adata.obs['Cluster'].values[train_inds], unlabeled_idx)\n",
        "  acc = accuracy_score(adata.obs['Cluster'].values[unlabeled_idx], preds)\n",
        "  acc_scorePCA15D.append(acc)\n",
        "\n",
        " \n",
        "  # print(f\"nnNCA fit in {toc - tic:0.4f} seconds\")"
      ],
      "metadata": {
        "id": "OAflZkLnVOnb"
      },
      "execution_count": 37,
      "outputs": []
    },
    {
      "cell_type": "code",
      "source": [
        "print(acc_scorePCA15D)"
      ],
      "metadata": {
        "colab": {
          "base_uri": "https://localhost:8080/"
        },
        "id": "cef2mXAUVOqv",
        "outputId": "6a9d99bc-b6ca-46d2-f3c7-d4d25c59f49d"
      },
      "execution_count": 38,
      "outputs": [
        {
          "output_type": "stream",
          "name": "stdout",
          "text": [
            "[0.8929182145173654, 0.8933899404446017, 0.8939206321127425]\n"
          ]
        }
      ]
    },
    {
      "cell_type": "code",
      "source": [],
      "metadata": {
        "id": "5BD4e7hGVOtx"
      },
      "execution_count": 38,
      "outputs": []
    },
    {
      "cell_type": "markdown",
      "metadata": {
        "id": "ZwVU28-k-3yP"
      },
      "source": [
        "### **Save Analysis Output**"
      ]
    },
    {
      "cell_type": "code",
      "metadata": {
        "id": "zoobDgWX4acW"
      },
      "source": [
        "vals = pd.DataFrame()\n",
        "\n",
        "vals['Accuracy'] = acc_score_2D + acc_score_15_2D + acc_scorePCA  +acc_scorePCA100D + acc_scorePCA15D#+ netAE_score + netAE_score2"
      ],
      "execution_count": 39,
      "outputs": []
    },
    {
      "cell_type": "code",
      "metadata": {
        "id": "AJY7DMRA642i"
      },
      "source": [
        "vals['Embed'] = ['PCA 50D UMAP Sup.','PCA 50D UMAP','PCA 50D t-SNE']*3 + ['PCA 15D UMAP Sup.','PCA 15D UMAP','PCA 15D t-SNE']*3 + ['PCA 50D']*3  + ['PCA 100D']*3 + ['PCA 15D']*3#+ ['netAE']*2"
      ],
      "execution_count": 40,
      "outputs": []
    },
    {
      "cell_type": "code",
      "metadata": {
        "id": "Is7_EmhR7tKn"
      },
      "source": [
        "vals['Label'] = ['CellType']*27#+  ['CellType1'] #+  ['Gender2']"
      ],
      "execution_count": 41,
      "outputs": []
    },
    {
      "cell_type": "code",
      "metadata": {
        "id": "cZBM1dlG8K5E",
        "colab": {
          "base_uri": "https://localhost:8080/",
          "height": 896
        },
        "outputId": "979f991f-9535-40a1-e8b4-870e807e96c1"
      },
      "source": [
        "vals\n"
      ],
      "execution_count": 42,
      "outputs": [
        {
          "output_type": "execute_result",
          "data": {
            "text/plain": [
              "    Accuracy              Embed     Label\n",
              "0   0.888909  PCA 50D UMAP Sup.  CellType\n",
              "1   0.848871       PCA 50D UMAP  CellType\n",
              "2   0.885194      PCA 50D t-SNE  CellType\n",
              "3   0.881007  PCA 50D UMAP Sup.  CellType\n",
              "4   0.850404       PCA 50D UMAP  CellType\n",
              "5   0.884250      PCA 50D t-SNE  CellType\n",
              "6   0.892800  PCA 50D UMAP Sup.  CellType\n",
              "7   0.859072       PCA 50D UMAP  CellType\n",
              "8   0.887965      PCA 50D t-SNE  CellType\n",
              "9   0.874875  PCA 15D UMAP Sup.  CellType\n",
              "10  0.837726       PCA 15D UMAP  CellType\n",
              "11  0.870393      PCA 15D t-SNE  CellType\n",
              "12  0.872398  PCA 15D UMAP Sup.  CellType\n",
              "13  0.859249       PCA 15D UMAP  CellType\n",
              "14  0.875405      PCA 15D t-SNE  CellType\n",
              "15  0.871808  PCA 15D UMAP Sup.  CellType\n",
              "16  0.848104       PCA 15D UMAP  CellType\n",
              "17  0.871750      PCA 15D t-SNE  CellType\n",
              "18  0.905360            PCA 50D  CellType\n",
              "19  0.907247            PCA 50D  CellType\n",
              "20  0.904063            PCA 50D  CellType\n",
              "21  0.890147           PCA 100D  CellType\n",
              "22  0.893685           PCA 100D  CellType\n",
              "23  0.893567           PCA 100D  CellType\n",
              "24  0.892918            PCA 15D  CellType\n",
              "25  0.893390            PCA 15D  CellType\n",
              "26  0.893921            PCA 15D  CellType"
            ],
            "text/html": [
              "\n",
              "  <div id=\"df-5238feb3-434d-4aef-b834-804ec2d97c69\">\n",
              "    <div class=\"colab-df-container\">\n",
              "      <div>\n",
              "<style scoped>\n",
              "    .dataframe tbody tr th:only-of-type {\n",
              "        vertical-align: middle;\n",
              "    }\n",
              "\n",
              "    .dataframe tbody tr th {\n",
              "        vertical-align: top;\n",
              "    }\n",
              "\n",
              "    .dataframe thead th {\n",
              "        text-align: right;\n",
              "    }\n",
              "</style>\n",
              "<table border=\"1\" class=\"dataframe\">\n",
              "  <thead>\n",
              "    <tr style=\"text-align: right;\">\n",
              "      <th></th>\n",
              "      <th>Accuracy</th>\n",
              "      <th>Embed</th>\n",
              "      <th>Label</th>\n",
              "    </tr>\n",
              "  </thead>\n",
              "  <tbody>\n",
              "    <tr>\n",
              "      <th>0</th>\n",
              "      <td>0.888909</td>\n",
              "      <td>PCA 50D UMAP Sup.</td>\n",
              "      <td>CellType</td>\n",
              "    </tr>\n",
              "    <tr>\n",
              "      <th>1</th>\n",
              "      <td>0.848871</td>\n",
              "      <td>PCA 50D UMAP</td>\n",
              "      <td>CellType</td>\n",
              "    </tr>\n",
              "    <tr>\n",
              "      <th>2</th>\n",
              "      <td>0.885194</td>\n",
              "      <td>PCA 50D t-SNE</td>\n",
              "      <td>CellType</td>\n",
              "    </tr>\n",
              "    <tr>\n",
              "      <th>3</th>\n",
              "      <td>0.881007</td>\n",
              "      <td>PCA 50D UMAP Sup.</td>\n",
              "      <td>CellType</td>\n",
              "    </tr>\n",
              "    <tr>\n",
              "      <th>4</th>\n",
              "      <td>0.850404</td>\n",
              "      <td>PCA 50D UMAP</td>\n",
              "      <td>CellType</td>\n",
              "    </tr>\n",
              "    <tr>\n",
              "      <th>5</th>\n",
              "      <td>0.884250</td>\n",
              "      <td>PCA 50D t-SNE</td>\n",
              "      <td>CellType</td>\n",
              "    </tr>\n",
              "    <tr>\n",
              "      <th>6</th>\n",
              "      <td>0.892800</td>\n",
              "      <td>PCA 50D UMAP Sup.</td>\n",
              "      <td>CellType</td>\n",
              "    </tr>\n",
              "    <tr>\n",
              "      <th>7</th>\n",
              "      <td>0.859072</td>\n",
              "      <td>PCA 50D UMAP</td>\n",
              "      <td>CellType</td>\n",
              "    </tr>\n",
              "    <tr>\n",
              "      <th>8</th>\n",
              "      <td>0.887965</td>\n",
              "      <td>PCA 50D t-SNE</td>\n",
              "      <td>CellType</td>\n",
              "    </tr>\n",
              "    <tr>\n",
              "      <th>9</th>\n",
              "      <td>0.874875</td>\n",
              "      <td>PCA 15D UMAP Sup.</td>\n",
              "      <td>CellType</td>\n",
              "    </tr>\n",
              "    <tr>\n",
              "      <th>10</th>\n",
              "      <td>0.837726</td>\n",
              "      <td>PCA 15D UMAP</td>\n",
              "      <td>CellType</td>\n",
              "    </tr>\n",
              "    <tr>\n",
              "      <th>11</th>\n",
              "      <td>0.870393</td>\n",
              "      <td>PCA 15D t-SNE</td>\n",
              "      <td>CellType</td>\n",
              "    </tr>\n",
              "    <tr>\n",
              "      <th>12</th>\n",
              "      <td>0.872398</td>\n",
              "      <td>PCA 15D UMAP Sup.</td>\n",
              "      <td>CellType</td>\n",
              "    </tr>\n",
              "    <tr>\n",
              "      <th>13</th>\n",
              "      <td>0.859249</td>\n",
              "      <td>PCA 15D UMAP</td>\n",
              "      <td>CellType</td>\n",
              "    </tr>\n",
              "    <tr>\n",
              "      <th>14</th>\n",
              "      <td>0.875405</td>\n",
              "      <td>PCA 15D t-SNE</td>\n",
              "      <td>CellType</td>\n",
              "    </tr>\n",
              "    <tr>\n",
              "      <th>15</th>\n",
              "      <td>0.871808</td>\n",
              "      <td>PCA 15D UMAP Sup.</td>\n",
              "      <td>CellType</td>\n",
              "    </tr>\n",
              "    <tr>\n",
              "      <th>16</th>\n",
              "      <td>0.848104</td>\n",
              "      <td>PCA 15D UMAP</td>\n",
              "      <td>CellType</td>\n",
              "    </tr>\n",
              "    <tr>\n",
              "      <th>17</th>\n",
              "      <td>0.871750</td>\n",
              "      <td>PCA 15D t-SNE</td>\n",
              "      <td>CellType</td>\n",
              "    </tr>\n",
              "    <tr>\n",
              "      <th>18</th>\n",
              "      <td>0.905360</td>\n",
              "      <td>PCA 50D</td>\n",
              "      <td>CellType</td>\n",
              "    </tr>\n",
              "    <tr>\n",
              "      <th>19</th>\n",
              "      <td>0.907247</td>\n",
              "      <td>PCA 50D</td>\n",
              "      <td>CellType</td>\n",
              "    </tr>\n",
              "    <tr>\n",
              "      <th>20</th>\n",
              "      <td>0.904063</td>\n",
              "      <td>PCA 50D</td>\n",
              "      <td>CellType</td>\n",
              "    </tr>\n",
              "    <tr>\n",
              "      <th>21</th>\n",
              "      <td>0.890147</td>\n",
              "      <td>PCA 100D</td>\n",
              "      <td>CellType</td>\n",
              "    </tr>\n",
              "    <tr>\n",
              "      <th>22</th>\n",
              "      <td>0.893685</td>\n",
              "      <td>PCA 100D</td>\n",
              "      <td>CellType</td>\n",
              "    </tr>\n",
              "    <tr>\n",
              "      <th>23</th>\n",
              "      <td>0.893567</td>\n",
              "      <td>PCA 100D</td>\n",
              "      <td>CellType</td>\n",
              "    </tr>\n",
              "    <tr>\n",
              "      <th>24</th>\n",
              "      <td>0.892918</td>\n",
              "      <td>PCA 15D</td>\n",
              "      <td>CellType</td>\n",
              "    </tr>\n",
              "    <tr>\n",
              "      <th>25</th>\n",
              "      <td>0.893390</td>\n",
              "      <td>PCA 15D</td>\n",
              "      <td>CellType</td>\n",
              "    </tr>\n",
              "    <tr>\n",
              "      <th>26</th>\n",
              "      <td>0.893921</td>\n",
              "      <td>PCA 15D</td>\n",
              "      <td>CellType</td>\n",
              "    </tr>\n",
              "  </tbody>\n",
              "</table>\n",
              "</div>\n",
              "      <button class=\"colab-df-convert\" onclick=\"convertToInteractive('df-5238feb3-434d-4aef-b834-804ec2d97c69')\"\n",
              "              title=\"Convert this dataframe to an interactive table.\"\n",
              "              style=\"display:none;\">\n",
              "        \n",
              "  <svg xmlns=\"http://www.w3.org/2000/svg\" height=\"24px\"viewBox=\"0 0 24 24\"\n",
              "       width=\"24px\">\n",
              "    <path d=\"M0 0h24v24H0V0z\" fill=\"none\"/>\n",
              "    <path d=\"M18.56 5.44l.94 2.06.94-2.06 2.06-.94-2.06-.94-.94-2.06-.94 2.06-2.06.94zm-11 1L8.5 8.5l.94-2.06 2.06-.94-2.06-.94L8.5 2.5l-.94 2.06-2.06.94zm10 10l.94 2.06.94-2.06 2.06-.94-2.06-.94-.94-2.06-.94 2.06-2.06.94z\"/><path d=\"M17.41 7.96l-1.37-1.37c-.4-.4-.92-.59-1.43-.59-.52 0-1.04.2-1.43.59L10.3 9.45l-7.72 7.72c-.78.78-.78 2.05 0 2.83L4 21.41c.39.39.9.59 1.41.59.51 0 1.02-.2 1.41-.59l7.78-7.78 2.81-2.81c.8-.78.8-2.07 0-2.86zM5.41 20L4 18.59l7.72-7.72 1.47 1.35L5.41 20z\"/>\n",
              "  </svg>\n",
              "      </button>\n",
              "      \n",
              "  <style>\n",
              "    .colab-df-container {\n",
              "      display:flex;\n",
              "      flex-wrap:wrap;\n",
              "      gap: 12px;\n",
              "    }\n",
              "\n",
              "    .colab-df-convert {\n",
              "      background-color: #E8F0FE;\n",
              "      border: none;\n",
              "      border-radius: 50%;\n",
              "      cursor: pointer;\n",
              "      display: none;\n",
              "      fill: #1967D2;\n",
              "      height: 32px;\n",
              "      padding: 0 0 0 0;\n",
              "      width: 32px;\n",
              "    }\n",
              "\n",
              "    .colab-df-convert:hover {\n",
              "      background-color: #E2EBFA;\n",
              "      box-shadow: 0px 1px 2px rgba(60, 64, 67, 0.3), 0px 1px 3px 1px rgba(60, 64, 67, 0.15);\n",
              "      fill: #174EA6;\n",
              "    }\n",
              "\n",
              "    [theme=dark] .colab-df-convert {\n",
              "      background-color: #3B4455;\n",
              "      fill: #D2E3FC;\n",
              "    }\n",
              "\n",
              "    [theme=dark] .colab-df-convert:hover {\n",
              "      background-color: #434B5C;\n",
              "      box-shadow: 0px 1px 3px 1px rgba(0, 0, 0, 0.15);\n",
              "      filter: drop-shadow(0px 1px 2px rgba(0, 0, 0, 0.3));\n",
              "      fill: #FFFFFF;\n",
              "    }\n",
              "  </style>\n",
              "\n",
              "      <script>\n",
              "        const buttonEl =\n",
              "          document.querySelector('#df-5238feb3-434d-4aef-b834-804ec2d97c69 button.colab-df-convert');\n",
              "        buttonEl.style.display =\n",
              "          google.colab.kernel.accessAllowed ? 'block' : 'none';\n",
              "\n",
              "        async function convertToInteractive(key) {\n",
              "          const element = document.querySelector('#df-5238feb3-434d-4aef-b834-804ec2d97c69');\n",
              "          const dataTable =\n",
              "            await google.colab.kernel.invokeFunction('convertToInteractive',\n",
              "                                                     [key], {});\n",
              "          if (!dataTable) return;\n",
              "\n",
              "          const docLinkHtml = 'Like what you see? Visit the ' +\n",
              "            '<a target=\"_blank\" href=https://colab.research.google.com/notebooks/data_table.ipynb>data table notebook</a>'\n",
              "            + ' to learn more about interactive tables.';\n",
              "          element.innerHTML = '';\n",
              "          dataTable['output_type'] = 'display_data';\n",
              "          await google.colab.output.renderOutput(dataTable, element);\n",
              "          const docLink = document.createElement('div');\n",
              "          docLink.innerHTML = docLinkHtml;\n",
              "          element.appendChild(docLink);\n",
              "        }\n",
              "      </script>\n",
              "    </div>\n",
              "  </div>\n",
              "  "
            ]
          },
          "metadata": {},
          "execution_count": 42
        }
      ]
    },
    {
      "cell_type": "code",
      "metadata": {
        "id": "mOwQUKce8L7f",
        "colab": {
          "base_uri": "https://localhost:8080/",
          "height": 17
        },
        "outputId": "4ef073c7-1693-48f0-d5fb-0b0cce8a0afe"
      },
      "source": [
        "from google.colab import files\n",
        "\n",
        "vals.to_csv('allUtero105Preds.csv')\n",
        "files.download('allUtero105Preds.csv')"
      ],
      "execution_count": 43,
      "outputs": [
        {
          "output_type": "display_data",
          "data": {
            "text/plain": [
              "<IPython.core.display.Javascript object>"
            ],
            "application/javascript": [
              "\n",
              "    async function download(id, filename, size) {\n",
              "      if (!google.colab.kernel.accessAllowed) {\n",
              "        return;\n",
              "      }\n",
              "      const div = document.createElement('div');\n",
              "      const label = document.createElement('label');\n",
              "      label.textContent = `Downloading \"${filename}\": `;\n",
              "      div.appendChild(label);\n",
              "      const progress = document.createElement('progress');\n",
              "      progress.max = size;\n",
              "      div.appendChild(progress);\n",
              "      document.body.appendChild(div);\n",
              "\n",
              "      const buffers = [];\n",
              "      let downloaded = 0;\n",
              "\n",
              "      const channel = await google.colab.kernel.comms.open(id);\n",
              "      // Send a message to notify the kernel that we're ready.\n",
              "      channel.send({})\n",
              "\n",
              "      for await (const message of channel.messages) {\n",
              "        // Send a message to notify the kernel that we're ready.\n",
              "        channel.send({})\n",
              "        if (message.buffers) {\n",
              "          for (const buffer of message.buffers) {\n",
              "            buffers.push(buffer);\n",
              "            downloaded += buffer.byteLength;\n",
              "            progress.value = downloaded;\n",
              "          }\n",
              "        }\n",
              "      }\n",
              "      const blob = new Blob(buffers, {type: 'application/binary'});\n",
              "      const a = document.createElement('a');\n",
              "      a.href = window.URL.createObjectURL(blob);\n",
              "      a.download = filename;\n",
              "      div.appendChild(a);\n",
              "      a.click();\n",
              "      div.remove();\n",
              "    }\n",
              "  "
            ]
          },
          "metadata": {}
        },
        {
          "output_type": "display_data",
          "data": {
            "text/plain": [
              "<IPython.core.display.Javascript object>"
            ],
            "application/javascript": [
              "download(\"download_7674fee9-2ead-4d97-87e1-1164b728c70c\", \"allUtero105Preds.csv\", 1194)"
            ]
          },
          "metadata": {}
        }
      ]
    },
    {
      "cell_type": "code",
      "metadata": {
        "id": "ccJzxZkICUXW"
      },
      "source": [],
      "execution_count": 43,
      "outputs": []
    }
  ]
}