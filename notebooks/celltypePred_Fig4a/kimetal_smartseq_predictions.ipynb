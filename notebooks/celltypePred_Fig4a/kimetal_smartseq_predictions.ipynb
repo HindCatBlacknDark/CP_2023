{
 "cells": [
  {
   "cell_type": "markdown",
   "metadata": {
    "colab_type": "text",
    "id": "view-in-github"
   },
   "source": [
    "<a href=\"https://colab.research.google.com/github/pachterlab/CP_2023/blob/main/notebooks/celltypePred_Fig4a/kimetal_smartseq_predictions.ipynb\" target=\"_parent\"><img src=\"https://colab.research.google.com/assets/colab-badge.svg\" alt=\"Open In Colab\"/></a>"
   ]
  },
  {
   "cell_type": "code",
   "execution_count": null,
   "metadata": {
    "colab": {
     "base_uri": "https://localhost:8080/",
     "height": 201,
     "referenced_widgets": [
      "242b45cd803e49e9a66a039c669219b5",
      "be0c4d9c042b445e90c67b78b520741b",
      "8f276704eef44164b5bee0d5480c4caa",
      "bd8a2c23ff5e4bad95aeb0e00dd6da92",
      "018f83a83a30480693752b48a32b38c7",
      "3bc69c18b7db44b4889dd5e62c7eaf4e",
      "03c4a840a57740e8bffe0a57b3dd4b9e",
      "1db2a70521444656b883283d132f4d7a",
      "0b4866d49e8f4db7a62483d36b6813b9",
      "963694defd2342a9b3cc1c10702e195e",
      "4d6ab59d003844d2b530a0038044af91",
      "31d2f98e1d9c45d6aa08087d88557634",
      "4eb3a28d875749b4a444b079a2d0056e",
      "82a782507a7c4eb7badd0df1937599b4",
      "0d2f324766ae4c23a940b751d0cb8d00",
      "1dc90c2b8ab24d7a9b8de558e64783ce",
      "2e6cd5dd93d747cf97500d07fc9b4030",
      "6f37c0a8fcc142659504d642c298ce4f",
      "e4f7780d8fb34553a14902a4849d5cd3",
      "5281d320bad94a3fa99c405d6e14aaeb",
      "59f8baf3160144faa5c2f6ec1128ebbc",
      "724fc9d4fe2a44c498acff7054a6c834",
      "8adb1eda51414b52a2340852fbb7e973",
      "a146be479e694a9899a7f4bbb48fc620",
      "6d3a0dc3988c46dd8f077ec1ba5d050b",
      "21686e86677442698a3a4b274363dafd",
      "dc27445aef5447569ebae8ab499933b9",
      "9d299ef4be824463b8a87d21ef272f15",
      "d20dbb266c8044b5901540e301cc3942",
      "d4627ebe1d944237bcc845bafd8ad1e1",
      "f2d195a97a2d4b6cb3e97bba35c63106",
      "41b59c75e6a84d5dbe0898f81b68ce39",
      "eb3395006cba46de85a8efc78e6329d6",
      "d66c204d54354b47b0b03af7fc2a7d39",
      "de5006eadbfe40769daec38aaea87452",
      "58faae5bea2a4002bba21a0aadc5b64c",
      "79c8b8142e38417dbf491856a6fc9839",
      "3433e61bcd8f43eaac2bc98eaf6c8c0e",
      "6bc98782492c4dabb20c5ea694fabf03",
      "b032a7cbe2a047fa88510035586306c6",
      "e283bdc4daed49bbb88dbbb07558ce59",
      "780b51b90b93479cbf9a125fcb5376e2",
      "c8b8652d12124f10811ab11cbc307d3f",
      "e853078dd8464727b1020a054db23f4b"
     ]
    },
    "id": "MyVLNOaZSjZ-",
    "outputId": "f7d676b8-cf2b-4e47-f7a2-585177b2900b"
   },
   "outputs": [
    {
     "name": "stderr",
     "output_type": "stream",
     "text": [
      "/usr/local/lib/python3.7/dist-packages/ipykernel_launcher.py:21: TqdmDeprecationWarning: Please use `tqdm.notebook.trange` instead of `tqdm.tnrange`\n"
     ]
    },
    {
     "data": {
      "application/vnd.jupyter.widget-view+json": {
       "model_id": "242b45cd803e49e9a66a039c669219b5",
       "version_major": 2,
       "version_minor": 0
      },
      "text/plain": [
       "  0%|          | 0/64 [00:00<?, ?B/s]"
      ]
     },
     "metadata": {},
     "output_type": "display_data"
    },
    {
     "data": {
      "application/vnd.jupyter.widget-view+json": {
       "model_id": "31d2f98e1d9c45d6aa08087d88557634",
       "version_major": 2,
       "version_minor": 0
      },
      "text/plain": [
       "  0%|          | 0/26700 [00:00<?, ?B/s]"
      ]
     },
     "metadata": {},
     "output_type": "display_data"
    },
    {
     "data": {
      "application/vnd.jupyter.widget-view+json": {
       "model_id": "8adb1eda51414b52a2340852fbb7e973",
       "version_major": 2,
       "version_minor": 0
      },
      "text/plain": [
       "  0%|          | 0/16654 [00:00<?, ?B/s]"
      ]
     },
     "metadata": {},
     "output_type": "display_data"
    },
    {
     "data": {
      "application/vnd.jupyter.widget-view+json": {
       "model_id": "d66c204d54354b47b0b03af7fc2a7d39",
       "version_major": 2,
       "version_minor": 0
      },
      "text/plain": [
       "  0%|          | 0/11 [00:00<?, ?B/s]"
      ]
     },
     "metadata": {},
     "output_type": "display_data"
    },
    {
     "data": {
      "text/plain": [
       "0"
      ]
     },
     "execution_count": 1,
     "metadata": {},
     "output_type": "execute_result"
    }
   ],
   "source": [
    "import requests\n",
    "import os\n",
    "\n",
    "\n",
    "from tqdm import tnrange, tqdm_notebook\n",
    "def download_file(doi,ext):\n",
    "\turl = 'https://api.datacite.org/dois/'+doi+'/media'\n",
    "\tr = requests.get(url).json()\n",
    "\tnetcdf_url = r['data'][0]['attributes']['url']\n",
    "\tr = requests.get(netcdf_url,stream=True)\n",
    "\t#Set file name\n",
    "\tfname = doi.split('/')[-1]+ext\n",
    "\t#Download file with progress bar\n",
    "\tif r.status_code == 403:\n",
    "\t\tprint(\"File Unavailable\")\n",
    "\tif 'content-length' not in r.headers:\n",
    "\t\tprint(\"Did not get file\")\n",
    "\telse:\n",
    "\t\twith open(fname, 'wb') as f:\n",
    "\t\t\ttotal_length = int(r.headers.get('content-length'))\n",
    "\t\t\tpbar = tnrange(int(total_length/1024), unit=\"B\")\n",
    "\t\t\tfor chunk in r.iter_content(chunk_size=1024):\n",
    "\t\t\t\tif chunk:\n",
    "\t\t\t\t\tpbar.update()\n",
    "\t\t\t\t\tf.write(chunk)\n",
    "\t\treturn fname\n",
    "\n",
    "\n",
    "#SMART-seq VMH data\n",
    "#metadata.csv\n",
    "download_file('10.22002/D1.2067','.gz')\n",
    "\n",
    "#smartseq.mtx (log counts)\n",
    "download_file('10.22002/D1.2071','.gz')\n",
    "\n",
    "#smartseq.mtx (raw counts)\n",
    "download_file('10.22002/D1.2070','.gz')\n",
    "\n",
    "#gene names\n",
    "download_file('10.22002/D1.2068','.gz')\n",
    "\n",
    "\n",
    "os.system(\"gunzip *.gz\")\n",
    "\n",
    "os.system(\"mv D1.2067 metadata.csv\")\n",
    "os.system(\"mv D1.2071 smartseq.mtx\")\n",
    "\n",
    "os.system(\"mv D1.2070 smartseqCount.mtx\")\n",
    "os.system(\"mv D1.2068 gene_names.npy\")"
   ]
  },
  {
   "cell_type": "code",
   "execution_count": null,
   "metadata": {
    "colab": {
     "base_uri": "https://localhost:8080/"
    },
    "id": "Pxuxe1toQFda",
    "outputId": "876c64ac-e9a3-4d1f-8279-dad037a0d222"
   },
   "outputs": [
    {
     "name": "stdout",
     "output_type": "stream",
     "text": [
      "Cloning into 'CP_2022'...\n",
      "remote: Enumerating objects: 470, done.\u001b[K\n",
      "remote: Counting objects: 100% (46/46), done.\u001b[K\n",
      "remote: Compressing objects: 100% (41/41), done.\u001b[K\n",
      "remote: Total 470 (delta 19), reused 19 (delta 5), pack-reused 424\u001b[K\n",
      "Receiving objects: 100% (470/470), 159.66 MiB | 16.87 MiB/s, done.\n",
      "Resolving deltas: 100% (232/232), done.\n"
     ]
    }
   ],
   "source": [
    "!git clone https://github.com/pachterlab/CP_2023.git"
   ]
  },
  {
   "cell_type": "code",
   "execution_count": null,
   "metadata": {
    "colab": {
     "base_uri": "https://localhost:8080/"
    },
    "id": "F94aH4Shey2P",
    "outputId": "869bc53f-b023-4cfb-fd5f-22d6da51178d"
   },
   "outputs": [
    {
     "name": "stdout",
     "output_type": "stream",
     "text": [
      "/content\n"
     ]
    }
   ],
   "source": [
    "!pwd"
   ]
  },
  {
   "cell_type": "code",
   "execution_count": null,
   "metadata": {
    "colab": {
     "base_uri": "https://localhost:8080/"
    },
    "id": "kSBCaM47iK19",
    "outputId": "b71a7143-5941-4d67-e019-1dfcf4689ba1"
   },
   "outputs": [],
   "source": []
  },
  {
   "cell_type": "code",
   "execution_count": null,
   "metadata": {
    "colab": {
     "base_uri": "https://localhost:8080/"
    },
    "id": "iA-3Y-DlQOKH",
    "outputId": "686147ec-7793-4935-a4f4-ee2bbbb0911e"
   },
   "outputs": [
    {
     "name": "stdout",
     "output_type": "stream",
     "text": [
      "\u001b[K     |████████████████████████████████| 96 kB 4.1 MB/s \n",
      "\u001b[K     |████████████████████████████████| 7.7 MB 36.0 MB/s \n",
      "\u001b[K     |████████████████████████████████| 88 kB 8.3 MB/s \n",
      "\u001b[K     |████████████████████████████████| 42 kB 1.6 MB/s \n",
      "\u001b[K     |████████████████████████████████| 1.1 MB 56.4 MB/s \n",
      "\u001b[K     |████████████████████████████████| 63 kB 1.6 MB/s \n",
      "\u001b[?25h  Building wheel for umap-learn (setup.py) ... \u001b[?25l\u001b[?25hdone\n",
      "  Building wheel for pynndescent (setup.py) ... \u001b[?25l\u001b[?25hdone\n",
      "  Building wheel for sinfo (setup.py) ... \u001b[?25l\u001b[?25hdone\n",
      "\u001b[K     |████████████████████████████████| 296 kB 32.9 MB/s \n",
      "\u001b[K     |████████████████████████████████| 708 kB 57.0 MB/s \n",
      "\u001b[K     |████████████████████████████████| 722 kB 67.8 MB/s \n",
      "\u001b[K     |████████████████████████████████| 77 kB 7.5 MB/s \n",
      "\u001b[K     |████████████████████████████████| 237 kB 66.1 MB/s \n",
      "\u001b[K     |████████████████████████████████| 529 kB 66.6 MB/s \n",
      "\u001b[K     |████████████████████████████████| 85 kB 4.4 MB/s \n",
      "\u001b[K     |████████████████████████████████| 185 kB 72.9 MB/s \n",
      "\u001b[K     |████████████████████████████████| 292 kB 70.9 MB/s \n",
      "\u001b[K     |████████████████████████████████| 145 kB 68.6 MB/s \n",
      "\u001b[K     |████████████████████████████████| 51 kB 7.9 MB/s \n",
      "\u001b[K     |████████████████████████████████| 1.6 MB 59.1 MB/s \n",
      "\u001b[?25h  Building wheel for docrep (setup.py) ... \u001b[?25l\u001b[?25hdone\n",
      "  Building wheel for ml-collections (setup.py) ... \u001b[?25l\u001b[?25hdone\n"
     ]
    }
   ],
   "source": [
    "!pip3 install --quiet torch\n",
    "!pip3 install --quiet anndata\n",
    "!pip3 install --quiet matplotlib\n",
    "!pip3 install --quiet scikit-learn\n",
    "!pip3 install --quiet torchsummary\n",
    "!pip install --quiet scanpy\n",
    "!pip3 install --quiet scvi-tools"
   ]
  },
  {
   "cell_type": "code",
   "execution_count": null,
   "metadata": {
    "colab": {
     "base_uri": "https://localhost:8080/"
    },
    "id": "HYT4qYdJxK7V",
    "outputId": "89e4256d-53d0-4ea4-eea2-5bd9fccb1a48"
   },
   "outputs": [
    {
     "name": "stdout",
     "output_type": "stream",
     "text": [
      "/content/CP_2022/scripts\n"
     ]
    }
   ],
   "source": [
    "%cd /content/CP_2023/scripts"
   ]
  },
  {
   "cell_type": "markdown",
   "metadata": {
    "id": "xC275rCuQpgV"
   },
   "source": [
    "## **Install Packages**"
   ]
  },
  {
   "cell_type": "code",
   "execution_count": null,
   "metadata": {
    "colab": {
     "base_uri": "https://localhost:8080/",
     "height": 126
    },
    "id": "48xvpJbyQSKT",
    "outputId": "b94a3228-3960-4755-ce41-fe02960d7ad8"
   },
   "outputs": [
    {
     "name": "stderr",
     "output_type": "stream",
     "text": [
      "INFO:pytorch_lightning.utilities.seed:Global seed set to 0\n",
      "/usr/local/lib/python3.7/dist-packages/pytorch_lightning/utilities/warnings.py:54: LightningDeprecationWarning: pytorch_lightning.utilities.warnings.rank_zero_deprecation has been deprecated in v1.6 and will be removed in v1.8. Use the equivalent function from the pytorch_lightning.utilities.rank_zero module instead.\n",
      "  \"pytorch_lightning.utilities.warnings.rank_zero_deprecation has been deprecated in v1.6\"\n",
      "/usr/local/lib/python3.7/dist-packages/pytorch_lightning/utilities/warnings.py:58: LightningDeprecationWarning: The `pytorch_lightning.loggers.base.rank_zero_experiment` is deprecated in v1.7 and will be removed in v1.9. Please use `pytorch_lightning.loggers.logger.rank_zero_experiment` instead.\n",
      "  return new_rank_zero_deprecation(*args, **kwargs)\n"
     ]
    }
   ],
   "source": [
    "import anndata\n",
    "import pandas as pd\n",
    "import numpy as np\n",
    "from MCML import MCML #Now has continuous label addition\n",
    "\n",
    "import random\n",
    "import scvi\n",
    "from sklearn.decomposition import TruncatedSVD\n",
    "from sklearn.manifold import TSNE\n",
    "import matplotlib.pyplot as plt\n",
    "from sklearn.neighbors import NeighborhoodComponentsAnalysis, NearestNeighbors\n",
    "from sklearn.metrics import pairwise_distances\n",
    "from sklearn.metrics import accuracy_score\n",
    "from sklearn.preprocessing import scale\n",
    "import torch\n",
    "import time\n",
    "import scanpy as sc\n",
    "import seaborn as sns\n",
    "import umap\n",
    "from scipy import stats\n",
    "import scipy.io as sio\n",
    "sns.set_style('white')"
   ]
  },
  {
   "cell_type": "markdown",
   "metadata": {
    "id": "7Xlo5rzVQrqM"
   },
   "source": [
    "## **Import Data**"
   ]
  },
  {
   "cell_type": "code",
   "execution_count": null,
   "metadata": {
    "id": "4gtBWZVoQjKh"
   },
   "outputs": [],
   "source": [
    "plt.rcParams[\"font.family\"] = \"sans-serif\"\n",
    "plt.rcParams['axes.linewidth'] = 0.1\n",
    "\n",
    "state = 42\n",
    "ndims = 2\n",
    "\n",
    "data_path = '../..'\n",
    "\n",
    "pcs = 50\n",
    "pcs2 = 40\n",
    "n_latent = 50"
   ]
  },
  {
   "cell_type": "code",
   "execution_count": null,
   "metadata": {
    "colab": {
     "base_uri": "https://localhost:8080/"
    },
    "id": "NtpIixyGFiMw",
    "outputId": "89fc4fad-b997-4a96-ed65-951112749509"
   },
   "outputs": [
    {
     "data": {
      "text/plain": [
       "(3850, 1999)"
      ]
     },
     "execution_count": 9,
     "metadata": {},
     "output_type": "execute_result"
    }
   ],
   "source": [
    "count_mat = sio.mmread(data_path+'/smartseq.mtx')\n",
    "count_mat.shape"
   ]
  },
  {
   "cell_type": "code",
   "execution_count": null,
   "metadata": {
    "colab": {
     "base_uri": "https://localhost:8080/"
    },
    "id": "o2zndTR7e7np",
    "outputId": "744e28f6-c0e3-44ea-fdd9-604169fdd394"
   },
   "outputs": [
    {
     "data": {
      "text/plain": [
       "(3850, 1999)"
      ]
     },
     "execution_count": 10,
     "metadata": {},
     "output_type": "execute_result"
    }
   ],
   "source": [
    "raw_count_mat = sio.mmread(data_path+'/smartseqCount.mtx')\n",
    "raw_count_mat.shape"
   ]
  },
  {
   "cell_type": "code",
   "execution_count": null,
   "metadata": {
    "id": "6syqIPjmKnyC"
   },
   "outputs": [],
   "source": [
    "#Center and scale data\n",
    "scaled_mat = scale(count_mat)"
   ]
  },
  {
   "cell_type": "code",
   "execution_count": null,
   "metadata": {
    "colab": {
     "base_uri": "https://localhost:8080/",
     "height": 444
    },
    "id": "rhXu1NykGOOf",
    "outputId": "0a098bf3-2aac-4667-ff5a-c61f3ba5fa31"
   },
   "outputs": [
    {
     "data": {
      "text/html": [
       "\n",
       "  <div id=\"df-7229bcf6-2e0d-4514-92de-4a8ef06d4439\">\n",
       "    <div class=\"colab-df-container\">\n",
       "      <div>\n",
       "<style scoped>\n",
       "    .dataframe tbody tr th:only-of-type {\n",
       "        vertical-align: middle;\n",
       "    }\n",
       "\n",
       "    .dataframe tbody tr th {\n",
       "        vertical-align: top;\n",
       "    }\n",
       "\n",
       "    .dataframe thead th {\n",
       "        text-align: right;\n",
       "    }\n",
       "</style>\n",
       "<table border=\"1\" class=\"dataframe\">\n",
       "  <thead>\n",
       "    <tr style=\"text-align: right;\">\n",
       "      <th></th>\n",
       "      <th>sample_name</th>\n",
       "      <th>smartseq_cluster_id</th>\n",
       "      <th>smartseq_cluster</th>\n",
       "      <th>sex_label</th>\n",
       "      <th>smartseq_cluster_color</th>\n",
       "      <th>medical_cond_label</th>\n",
       "      <th>cell_counts</th>\n",
       "      <th>n_genes</th>\n",
       "      <th>percent_mito</th>\n",
       "      <th>pass_count_filter</th>\n",
       "      <th>pass_mito_filter</th>\n",
       "    </tr>\n",
       "  </thead>\n",
       "  <tbody>\n",
       "    <tr>\n",
       "      <th>SM-GE4R2_S062_E1-50</th>\n",
       "      <td>SM-GE4R2_S062_E1-50</td>\n",
       "      <td>46</td>\n",
       "      <td>Nr5a1_9|11 Rorb</td>\n",
       "      <td>M</td>\n",
       "      <td>#6C39A6</td>\n",
       "      <td>behavior - none</td>\n",
       "      <td>964371.56</td>\n",
       "      <td>9772</td>\n",
       "      <td>0.0</td>\n",
       "      <td>True</td>\n",
       "      <td>True</td>\n",
       "    </tr>\n",
       "    <tr>\n",
       "      <th>SM-GE4SI_S356_E1-50</th>\n",
       "      <td>SM-GE4SI_S356_E1-50</td>\n",
       "      <td>46</td>\n",
       "      <td>Nr5a1_9|11 Rorb</td>\n",
       "      <td>M</td>\n",
       "      <td>#6C39A6</td>\n",
       "      <td>behavior - none</td>\n",
       "      <td>973072.06</td>\n",
       "      <td>8253</td>\n",
       "      <td>0.0</td>\n",
       "      <td>True</td>\n",
       "      <td>True</td>\n",
       "    </tr>\n",
       "    <tr>\n",
       "      <th>SM-GE4SI_S172_E1-50</th>\n",
       "      <td>SM-GE4SI_S172_E1-50</td>\n",
       "      <td>46</td>\n",
       "      <td>Nr5a1_9|11 Rorb</td>\n",
       "      <td>M</td>\n",
       "      <td>#6C39A6</td>\n",
       "      <td>behavior - none</td>\n",
       "      <td>977132.60</td>\n",
       "      <td>9394</td>\n",
       "      <td>0.0</td>\n",
       "      <td>True</td>\n",
       "      <td>True</td>\n",
       "    </tr>\n",
       "    <tr>\n",
       "      <th>LS-15034_S07_E1-50</th>\n",
       "      <td>LS-15034_S07_E1-50</td>\n",
       "      <td>42</td>\n",
       "      <td>Nr5a1_4|7 Glipr1</td>\n",
       "      <td>M</td>\n",
       "      <td>#763BFF</td>\n",
       "      <td>behavior - none</td>\n",
       "      <td>948605.44</td>\n",
       "      <td>10643</td>\n",
       "      <td>0.0</td>\n",
       "      <td>True</td>\n",
       "      <td>True</td>\n",
       "    </tr>\n",
       "    <tr>\n",
       "      <th>LS-15034_S28_E1-50</th>\n",
       "      <td>LS-15034_S28_E1-50</td>\n",
       "      <td>42</td>\n",
       "      <td>Nr5a1_4|7 Glipr1</td>\n",
       "      <td>F</td>\n",
       "      <td>#763BFF</td>\n",
       "      <td>behavior - none</td>\n",
       "      <td>951803.00</td>\n",
       "      <td>10550</td>\n",
       "      <td>0.0</td>\n",
       "      <td>True</td>\n",
       "      <td>True</td>\n",
       "    </tr>\n",
       "  </tbody>\n",
       "</table>\n",
       "</div>\n",
       "      <button class=\"colab-df-convert\" onclick=\"convertToInteractive('df-7229bcf6-2e0d-4514-92de-4a8ef06d4439')\"\n",
       "              title=\"Convert this dataframe to an interactive table.\"\n",
       "              style=\"display:none;\">\n",
       "        \n",
       "  <svg xmlns=\"http://www.w3.org/2000/svg\" height=\"24px\"viewBox=\"0 0 24 24\"\n",
       "       width=\"24px\">\n",
       "    <path d=\"M0 0h24v24H0V0z\" fill=\"none\"/>\n",
       "    <path d=\"M18.56 5.44l.94 2.06.94-2.06 2.06-.94-2.06-.94-.94-2.06-.94 2.06-2.06.94zm-11 1L8.5 8.5l.94-2.06 2.06-.94-2.06-.94L8.5 2.5l-.94 2.06-2.06.94zm10 10l.94 2.06.94-2.06 2.06-.94-2.06-.94-.94-2.06-.94 2.06-2.06.94z\"/><path d=\"M17.41 7.96l-1.37-1.37c-.4-.4-.92-.59-1.43-.59-.52 0-1.04.2-1.43.59L10.3 9.45l-7.72 7.72c-.78.78-.78 2.05 0 2.83L4 21.41c.39.39.9.59 1.41.59.51 0 1.02-.2 1.41-.59l7.78-7.78 2.81-2.81c.8-.78.8-2.07 0-2.86zM5.41 20L4 18.59l7.72-7.72 1.47 1.35L5.41 20z\"/>\n",
       "  </svg>\n",
       "      </button>\n",
       "      \n",
       "  <style>\n",
       "    .colab-df-container {\n",
       "      display:flex;\n",
       "      flex-wrap:wrap;\n",
       "      gap: 12px;\n",
       "    }\n",
       "\n",
       "    .colab-df-convert {\n",
       "      background-color: #E8F0FE;\n",
       "      border: none;\n",
       "      border-radius: 50%;\n",
       "      cursor: pointer;\n",
       "      display: none;\n",
       "      fill: #1967D2;\n",
       "      height: 32px;\n",
       "      padding: 0 0 0 0;\n",
       "      width: 32px;\n",
       "    }\n",
       "\n",
       "    .colab-df-convert:hover {\n",
       "      background-color: #E2EBFA;\n",
       "      box-shadow: 0px 1px 2px rgba(60, 64, 67, 0.3), 0px 1px 3px 1px rgba(60, 64, 67, 0.15);\n",
       "      fill: #174EA6;\n",
       "    }\n",
       "\n",
       "    [theme=dark] .colab-df-convert {\n",
       "      background-color: #3B4455;\n",
       "      fill: #D2E3FC;\n",
       "    }\n",
       "\n",
       "    [theme=dark] .colab-df-convert:hover {\n",
       "      background-color: #434B5C;\n",
       "      box-shadow: 0px 1px 3px 1px rgba(0, 0, 0, 0.15);\n",
       "      filter: drop-shadow(0px 1px 2px rgba(0, 0, 0, 0.3));\n",
       "      fill: #FFFFFF;\n",
       "    }\n",
       "  </style>\n",
       "\n",
       "      <script>\n",
       "        const buttonEl =\n",
       "          document.querySelector('#df-7229bcf6-2e0d-4514-92de-4a8ef06d4439 button.colab-df-convert');\n",
       "        buttonEl.style.display =\n",
       "          google.colab.kernel.accessAllowed ? 'block' : 'none';\n",
       "\n",
       "        async function convertToInteractive(key) {\n",
       "          const element = document.querySelector('#df-7229bcf6-2e0d-4514-92de-4a8ef06d4439');\n",
       "          const dataTable =\n",
       "            await google.colab.kernel.invokeFunction('convertToInteractive',\n",
       "                                                     [key], {});\n",
       "          if (!dataTable) return;\n",
       "\n",
       "          const docLinkHtml = 'Like what you see? Visit the ' +\n",
       "            '<a target=\"_blank\" href=https://colab.research.google.com/notebooks/data_table.ipynb>data table notebook</a>'\n",
       "            + ' to learn more about interactive tables.';\n",
       "          element.innerHTML = '';\n",
       "          dataTable['output_type'] = 'display_data';\n",
       "          await google.colab.output.renderOutput(dataTable, element);\n",
       "          const docLink = document.createElement('div');\n",
       "          docLink.innerHTML = docLinkHtml;\n",
       "          element.appendChild(docLink);\n",
       "        }\n",
       "      </script>\n",
       "    </div>\n",
       "  </div>\n",
       "  "
      ],
      "text/plain": [
       "                             sample_name  smartseq_cluster_id  \\\n",
       "SM-GE4R2_S062_E1-50  SM-GE4R2_S062_E1-50                   46   \n",
       "SM-GE4SI_S356_E1-50  SM-GE4SI_S356_E1-50                   46   \n",
       "SM-GE4SI_S172_E1-50  SM-GE4SI_S172_E1-50                   46   \n",
       "LS-15034_S07_E1-50    LS-15034_S07_E1-50                   42   \n",
       "LS-15034_S28_E1-50    LS-15034_S28_E1-50                   42   \n",
       "\n",
       "                     smartseq_cluster sex_label smartseq_cluster_color  \\\n",
       "SM-GE4R2_S062_E1-50   Nr5a1_9|11 Rorb         M                #6C39A6   \n",
       "SM-GE4SI_S356_E1-50   Nr5a1_9|11 Rorb         M                #6C39A6   \n",
       "SM-GE4SI_S172_E1-50   Nr5a1_9|11 Rorb         M                #6C39A6   \n",
       "LS-15034_S07_E1-50   Nr5a1_4|7 Glipr1         M                #763BFF   \n",
       "LS-15034_S28_E1-50   Nr5a1_4|7 Glipr1         F                #763BFF   \n",
       "\n",
       "                    medical_cond_label  cell_counts  n_genes  percent_mito  \\\n",
       "SM-GE4R2_S062_E1-50    behavior - none    964371.56     9772           0.0   \n",
       "SM-GE4SI_S356_E1-50    behavior - none    973072.06     8253           0.0   \n",
       "SM-GE4SI_S172_E1-50    behavior - none    977132.60     9394           0.0   \n",
       "LS-15034_S07_E1-50     behavior - none    948605.44    10643           0.0   \n",
       "LS-15034_S28_E1-50     behavior - none    951803.00    10550           0.0   \n",
       "\n",
       "                     pass_count_filter  pass_mito_filter  \n",
       "SM-GE4R2_S062_E1-50               True              True  \n",
       "SM-GE4SI_S356_E1-50               True              True  \n",
       "SM-GE4SI_S172_E1-50               True              True  \n",
       "LS-15034_S07_E1-50                True              True  \n",
       "LS-15034_S28_E1-50                True              True  "
      ]
     },
     "execution_count": 12,
     "metadata": {},
     "output_type": "execute_result"
    }
   ],
   "source": [
    "meta = pd.read_csv(data_path+'/metadata.csv',index_col = 0)\n",
    "meta.head()"
   ]
  },
  {
   "cell_type": "code",
   "execution_count": null,
   "metadata": {
    "id": "91x_hzdRNeBd"
   },
   "outputs": [],
   "source": [
    "clusters = np.unique(meta['smartseq_cluster'].values)\n",
    "map_dict = {}\n",
    "for i, c in enumerate(clusters):\n",
    "  map_dict[c] = i\n",
    "new_labs = [map_dict[c] for c in meta['smartseq_cluster'].values]"
   ]
  },
  {
   "cell_type": "code",
   "execution_count": null,
   "metadata": {
    "colab": {
     "base_uri": "https://localhost:8080/"
    },
    "id": "W5A7pbC1jSVu",
    "outputId": "4b9e9ed1-ed69-4cc7-ed52-6cb6f361ae0d"
   },
   "outputs": [
    {
     "name": "stderr",
     "output_type": "stream",
     "text": [
      "/usr/local/lib/python3.7/dist-packages/ipykernel_launcher.py:1: FutureWarning: X.dtype being converted to np.float32 from float64. In the next version of anndata (0.9) conversion will not be automatic. Pass dtype explicitly to avoid this warning. Pass `AnnData(X, dtype=X.dtype, ...)` to get the future behavour.\n",
      "  \"\"\"Entry point for launching an IPython kernel.\n"
     ]
    }
   ],
   "source": [
    "adata = anndata.AnnData(count_mat, obs = meta)\n",
    "adata.X = np.nan_to_num(adata.X)"
   ]
  },
  {
   "cell_type": "code",
   "execution_count": null,
   "metadata": {
    "colab": {
     "base_uri": "https://localhost:8080/"
    },
    "id": "K-Winzp8j3aS",
    "outputId": "cf81b552-a22d-4d6a-be61-0d3e058a051c"
   },
   "outputs": [
    {
     "name": "stderr",
     "output_type": "stream",
     "text": [
      "/usr/local/lib/python3.7/dist-packages/ipykernel_launcher.py:1: FutureWarning: X.dtype being converted to np.float32 from float64. In the next version of anndata (0.9) conversion will not be automatic. Pass dtype explicitly to avoid this warning. Pass `AnnData(X, dtype=X.dtype, ...)` to get the future behavour.\n",
      "  \"\"\"Entry point for launching an IPython kernel.\n"
     ]
    }
   ],
   "source": [
    "adata2 = anndata.AnnData(raw_count_mat, obs = meta)\n",
    "adata2.X = np.nan_to_num(adata2.X)"
   ]
  },
  {
   "cell_type": "code",
   "execution_count": null,
   "metadata": {
    "id": "hz3pgsoK4qmz"
   },
   "outputs": [],
   "source": [
    "def knn_infer(embd_space, labeled_idx, labeled_lab, unlabeled_idx,n_neighbors=50):\n",
    "\t\"\"\"\n",
    "\tPredicts the labels of unlabeled data in the embedded space with KNN.\n",
    "\tParameters\n",
    "\t----------\n",
    "\tembd_space : ndarray (n_samples, embedding_dim)\n",
    "\t\tEach sample is described by the features in the embedded space.\n",
    "\t\tContains all samples, both labeled and unlabeled.\n",
    "\tlabeled_idx : list\n",
    "\t\tIndices of the labeled samples (used for training the classifier).\n",
    "\tlabeled_lab : ndarray (n_labeled_samples)\n",
    "\t\tLabels of the labeled samples.\n",
    "\tunlabeled_idx : list\n",
    "\t\tIndices of the unlabeled samples.\n",
    "\tReturns\n",
    "\t-------\n",
    "\tpred_lab : ndarray (n_unlabeled_samples)\n",
    "\t\tInferred labels of the unlabeled samples.\n",
    "\t\"\"\"\n",
    "\n",
    "\t# obtain labeled data and unlabled data from indices\n",
    "\tlabeled_samp = embd_space[labeled_idx, :]\n",
    "\tunlabeled_samp = embd_space[unlabeled_idx, :]\n",
    "\n",
    "\tfrom sklearn.neighbors import KNeighborsClassifier\n",
    "\n",
    "\tknn = KNeighborsClassifier(n_neighbors=n_neighbors)\n",
    "\tknn.fit(labeled_samp, labeled_lab)\n",
    "\n",
    "\tpred_lab = knn.predict(unlabeled_samp)\n",
    "\treturn pred_lab\n"
   ]
  },
  {
   "cell_type": "markdown",
   "metadata": {
    "id": "lVdEObhjfLue"
   },
   "source": [
    "### **Test Cell Type Prediction Capabilities for Multiple Benchmarks**\n",
    "Also test accuracy for sex labels"
   ]
  },
  {
   "cell_type": "code",
   "execution_count": null,
   "metadata": {
    "id": "Cv4A-t8BfdLW"
   },
   "outputs": [],
   "source": [
    "lab1 = list(meta.smartseq_cluster)\n",
    "lab2 = list(meta.sex_label)\n",
    "lab3 = list(meta.medical_cond_label)\n",
    "\n",
    "lab4 = list(meta.smartseq_cluster_id)\n",
    "\n",
    "\n",
    "allLabs = np.array([lab1])\n",
    "allLabs2 = np.array([lab1,lab2])\n",
    "\n",
    "nanLabs = np.array([[np.nan]*len(lab1)])\n",
    "\n",
    "#Shuffled labels for over-fitting check\n",
    "shuff_lab1 = random.sample(lab1, len(lab1))\n",
    "shuff_lab2 = random.sample(lab2, len(lab2))\n",
    "shuff_allLabs = np.array([shuff_lab1,shuff_lab2])\n",
    "\n",
    "clus_colors = list(pd.unique(meta.smartseq_cluster_color))\n",
    "\n",
    "sex_colors = ['#abacb7','#F8C471']"
   ]
  },
  {
   "cell_type": "markdown",
   "metadata": {
    "id": "Zc6n_BO3IOVw"
   },
   "source": [
    "First test 2D space predictions (t-SNE, UMAP, UMAP-Supervised)"
   ]
  },
  {
   "cell_type": "code",
   "execution_count": null,
   "metadata": {
    "colab": {
     "base_uri": "https://localhost:8080/"
    },
    "id": "iwbEThDEITO7",
    "outputId": "5e1f116b-088e-43c8-a043-c381c81b120d"
   },
   "outputs": [
    {
     "name": "stderr",
     "output_type": "stream",
     "text": [
      "/usr/local/lib/python3.7/dist-packages/sklearn/manifold/_t_sne.py:783: FutureWarning: The default initialization in TSNE will change from 'random' to 'pca' in 1.2.\n",
      "  FutureWarning,\n",
      "/usr/local/lib/python3.7/dist-packages/sklearn/manifold/_t_sne.py:793: FutureWarning: The default learning rate in TSNE will change from 200.0 to 'auto' in 1.2.\n",
      "  FutureWarning,\n",
      "/usr/local/lib/python3.7/dist-packages/sklearn/manifold/_t_sne.py:783: FutureWarning: The default initialization in TSNE will change from 'random' to 'pca' in 1.2.\n",
      "  FutureWarning,\n",
      "/usr/local/lib/python3.7/dist-packages/sklearn/manifold/_t_sne.py:793: FutureWarning: The default learning rate in TSNE will change from 200.0 to 'auto' in 1.2.\n",
      "  FutureWarning,\n",
      "/usr/local/lib/python3.7/dist-packages/sklearn/manifold/_t_sne.py:783: FutureWarning: The default initialization in TSNE will change from 'random' to 'pca' in 1.2.\n",
      "  FutureWarning,\n",
      "/usr/local/lib/python3.7/dist-packages/sklearn/manifold/_t_sne.py:793: FutureWarning: The default learning rate in TSNE will change from 200.0 to 'auto' in 1.2.\n",
      "  FutureWarning,\n"
     ]
    }
   ],
   "source": [
    "ndims = 2\n",
    "acc_score_2D = []\n",
    "\n",
    "for i in range(3):\n",
    "  reducer = umap.UMAP(n_components = ndims)\n",
    "  tsne = TSNE(n_components = ndims)\n",
    "\n",
    "\n",
    "  tsvd = TruncatedSVD(n_components=pcs)\n",
    "  x_pca = tsvd.fit_transform(scaled_mat)\n",
    "\n",
    "  pcaUMAP = reducer.fit_transform(x_pca)\n",
    "  pcaTSNE = tsne.fit_transform(x_pca)\n",
    "\n",
    "  #Partially labeled UMAP\n",
    "\n",
    "  labels = np.array([lab4]).copy().astype(np.int8)\n",
    "  train_inds = np.random.choice(len(scaled_mat), size = int(0.7*len(scaled_mat)),replace=False) #0.7 for training fraction\n",
    "  #Set 30% to no label (nan)\n",
    "  unlab_inds = [i for i in range(len(adata)) if i not in train_inds]\n",
    "  labels[:, unlab_inds] = -1\n",
    "\n",
    "  pcaUMAPLab = reducer.fit_transform(x_pca,y=labels[0])\n",
    "\n",
    "  preds = knn_infer(pcaUMAPLab, train_inds, adata.obs.smartseq_cluster_id.values[train_inds], unlab_inds)\n",
    "  acc = accuracy_score(adata.obs.smartseq_cluster_id.values[unlab_inds], preds)\n",
    "  acc_score_2D.append(acc)\n",
    "\n",
    "  preds = knn_infer(pcaUMAP, train_inds, adata.obs.smartseq_cluster_id.values[train_inds], unlab_inds)\n",
    "  acc = accuracy_score(adata.obs.smartseq_cluster_id.values[unlab_inds], preds)\n",
    "  acc_score_2D.append(acc)\n",
    "\n",
    "  preds = knn_infer(pcaTSNE, train_inds, adata.obs.smartseq_cluster_id.values[train_inds], unlab_inds)\n",
    "  acc = accuracy_score(adata.obs.smartseq_cluster_id.values[unlab_inds], preds)\n",
    "  acc_score_2D.append(acc)"
   ]
  },
  {
   "cell_type": "code",
   "execution_count": null,
   "metadata": {
    "colab": {
     "base_uri": "https://localhost:8080/"
    },
    "id": "KormF0gOITSQ",
    "outputId": "ef5195a3-9762-4865-eff9-bad3ca43a294"
   },
   "outputs": [
    {
     "name": "stdout",
     "output_type": "stream",
     "text": [
      "[0.9012987012987013, 0.8735930735930736, 0.8441558441558441, 0.8917748917748918, 0.8562770562770563, 0.8554112554112554, 0.8640692640692641, 0.8545454545454545, 0.8346320346320346]\n"
     ]
    }
   ],
   "source": [
    " print(acc_score_2D)"
   ]
  },
  {
   "cell_type": "code",
   "execution_count": null,
   "metadata": {
    "id": "EFkiUCcHCkpN"
   },
   "outputs": [],
   "source": [
    "ndims = 2\n",
    "acc_score_40_2D = []\n",
    "\n",
    "for i in range(3):\n",
    "  reducer = umap.UMAP(n_components = ndims)\n",
    "  tsne = TSNE(n_components = ndims)\n",
    "\n",
    "\n",
    "  tsvd = TruncatedSVD(n_components=pcs2)\n",
    "  x_pca = tsvd.fit_transform(scaled_mat)\n",
    "\n",
    "  pcaUMAP = reducer.fit_transform(x_pca)\n",
    "  pcaTSNE = tsne.fit_transform(x_pca)\n",
    "\n",
    "  #Partially labeled UMAP\n",
    "\n",
    "  labels = np.array([lab4]).copy().astype(np.int8)\n",
    "  train_inds = np.random.choice(len(scaled_mat), size = int(0.7*len(scaled_mat)),replace=False) #0.7 for training fraction\n",
    "  #Set 30% to no label (nan)\n",
    "  unlab_inds = [i for i in range(len(adata)) if i not in train_inds]\n",
    "  labels[:, unlab_inds] = -1\n",
    "\n",
    "  pcaUMAPLab = reducer.fit_transform(x_pca,y=labels[0])\n",
    "\n",
    "  preds = knn_infer(pcaUMAPLab, train_inds, adata.obs.smartseq_cluster_id.values[train_inds], unlab_inds)\n",
    "  acc = accuracy_score(adata.obs.smartseq_cluster_id.values[unlab_inds], preds)\n",
    "  acc_score_40_2D.append(acc)\n",
    "\n",
    "  preds = knn_infer(pcaUMAP, train_inds, adata.obs.smartseq_cluster_id.values[train_inds], unlab_inds)\n",
    "  acc = accuracy_score(adata.obs.smartseq_cluster_id.values[unlab_inds], preds)\n",
    "  acc_score_40_2D.append(acc)\n",
    "\n",
    "  preds = knn_infer(pcaTSNE, train_inds, adata.obs.smartseq_cluster_id.values[train_inds], unlab_inds)\n",
    "  acc = accuracy_score(adata.obs.smartseq_cluster_id.values[unlab_inds], preds)\n",
    "  acc_score_40_2D.append(acc)"
   ]
  },
  {
   "cell_type": "code",
   "execution_count": null,
   "metadata": {
    "id": "4zbRGOLzCksR"
   },
   "outputs": [],
   "source": [
    "print(acc_score_40_2D)"
   ]
  },
  {
   "cell_type": "code",
   "execution_count": null,
   "metadata": {
    "colab": {
     "base_uri": "https://localhost:8080/"
    },
    "id": "wbPoMYnoITWG",
    "outputId": "eaf98f01-450f-47a1-c2a6-33a092f2a9a8"
   },
   "outputs": [
    {
     "data": {
      "text/plain": [
       "<tqdm.std.tqdm at 0x7f383ddfae10>"
      ]
     },
     "execution_count": 20,
     "metadata": {},
     "output_type": "execute_result"
    }
   ],
   "source": [
    "from tqdm import tqdm #Need to intialize to stop tqdm errors\n",
    "tqdm(disable=True, total=0)"
   ]
  },
  {
   "cell_type": "code",
   "execution_count": null,
   "metadata": {
    "colab": {
     "base_uri": "https://localhost:8080/"
    },
    "id": "PbHogI-EZT-Y",
    "outputId": "dfb8e646-ee25-46a3-85eb-eb06230275e6"
   },
   "outputs": [
    {
     "name": "stderr",
     "output_type": "stream",
     "text": [
      "/usr/local/lib/python3.7/dist-packages/scvi/data/fields/_layer_field.py:92: UserWarning: adata.X does not contain unnormalized count data. Are you sure this is what you want?\n",
      "  f\"{logger_data_loc} does not contain unnormalized count data. \"\n",
      "INFO:pytorch_lightning.utilities.rank_zero:GPU available: True (cuda), used: True\n",
      "INFO:pytorch_lightning.utilities.rank_zero:TPU available: False, using: 0 TPU cores\n",
      "INFO:pytorch_lightning.utilities.rank_zero:IPU available: False, using: 0 IPUs\n",
      "INFO:pytorch_lightning.utilities.rank_zero:HPU available: False, using: 0 HPUs\n",
      "INFO:pytorch_lightning.accelerators.cuda:LOCAL_RANK: 0 - CUDA_VISIBLE_DEVICES: [0]\n"
     ]
    },
    {
     "name": "stdout",
     "output_type": "stream",
     "text": [
      "Epoch 400/400: 100%|██████████| 400/400 [02:10<00:00,  3.54it/s, loss=4.33e+03, v_num=1]"
     ]
    },
    {
     "name": "stderr",
     "output_type": "stream",
     "text": [
      "INFO:pytorch_lightning.utilities.rank_zero:`Trainer.fit` stopped: `max_epochs=400` reached.\n"
     ]
    },
    {
     "name": "stdout",
     "output_type": "stream",
     "text": [
      "\r",
      "Epoch 400/400: 100%|██████████| 400/400 [02:10<00:00,  3.06it/s, loss=4.33e+03, v_num=1]\n"
     ]
    },
    {
     "name": "stderr",
     "output_type": "stream",
     "text": [
      "INFO:pytorch_lightning.utilities.rank_zero:GPU available: True (cuda), used: True\n",
      "INFO:pytorch_lightning.utilities.rank_zero:TPU available: False, using: 0 TPU cores\n",
      "INFO:pytorch_lightning.utilities.rank_zero:IPU available: False, using: 0 IPUs\n",
      "INFO:pytorch_lightning.utilities.rank_zero:HPU available: False, using: 0 HPUs\n",
      "INFO:pytorch_lightning.accelerators.cuda:LOCAL_RANK: 0 - CUDA_VISIBLE_DEVICES: [0]\n"
     ]
    },
    {
     "name": "stdout",
     "output_type": "stream",
     "text": [
      "Epoch 400/400: 100%|██████████| 400/400 [02:08<00:00,  3.40it/s, loss=4.31e+03, v_num=1]"
     ]
    },
    {
     "name": "stderr",
     "output_type": "stream",
     "text": [
      "INFO:pytorch_lightning.utilities.rank_zero:`Trainer.fit` stopped: `max_epochs=400` reached.\n"
     ]
    },
    {
     "name": "stdout",
     "output_type": "stream",
     "text": [
      "\r",
      "Epoch 400/400: 100%|██████████| 400/400 [02:08<00:00,  3.12it/s, loss=4.31e+03, v_num=1]\n"
     ]
    },
    {
     "name": "stderr",
     "output_type": "stream",
     "text": [
      "INFO:pytorch_lightning.utilities.rank_zero:GPU available: True (cuda), used: True\n",
      "INFO:pytorch_lightning.utilities.rank_zero:TPU available: False, using: 0 TPU cores\n",
      "INFO:pytorch_lightning.utilities.rank_zero:IPU available: False, using: 0 IPUs\n",
      "INFO:pytorch_lightning.utilities.rank_zero:HPU available: False, using: 0 HPUs\n",
      "INFO:pytorch_lightning.accelerators.cuda:LOCAL_RANK: 0 - CUDA_VISIBLE_DEVICES: [0]\n"
     ]
    },
    {
     "name": "stdout",
     "output_type": "stream",
     "text": [
      "Epoch 400/400: 100%|██████████| 400/400 [01:58<00:00,  3.50it/s, loss=4.31e+03, v_num=1]"
     ]
    },
    {
     "name": "stderr",
     "output_type": "stream",
     "text": [
      "INFO:pytorch_lightning.utilities.rank_zero:`Trainer.fit` stopped: `max_epochs=400` reached.\n"
     ]
    },
    {
     "name": "stdout",
     "output_type": "stream",
     "text": [
      "\r",
      "Epoch 400/400: 100%|██████████| 400/400 [01:58<00:00,  3.39it/s, loss=4.31e+03, v_num=1]\n"
     ]
    }
   ],
   "source": [
    "# LDVAE accuracy scores\n",
    "scvi.model.LinearSCVI.setup_anndata(adata2, labels_key='smartseq_cluster_id')\n",
    "acc_score = []\n",
    "acc_score2 = []\n",
    "for i in range(3):\n",
    "  vae = scvi.model.LinearSCVI(adata2,n_latent=n_latent)\n",
    "  vae.train(train_size = 0.7) #train_size = 0.7\n",
    "  latent_ldvae = vae.get_latent_representation()\n",
    "  lab_idx = vae.train_indices\n",
    "  unlabeled_idx = []\n",
    "  for i in range(len(adata2)):\n",
    "    if i not in lab_idx:\n",
    "      unlabeled_idx.append(i)\n",
    "  preds = knn_infer(np.array(latent_ldvae), list(lab_idx), adata2.obs.smartseq_cluster_id.values[lab_idx], unlabeled_idx)\n",
    "  acc = accuracy_score(adata2.obs.smartseq_cluster_id.values[unlabeled_idx], preds)\n",
    "  acc_score.append(acc)\n",
    "\n",
    "  preds2 = knn_infer(np.array(latent_ldvae), list(lab_idx), adata2.obs.sex_label.values[lab_idx], unlabeled_idx)\n",
    "  acc2 = accuracy_score(adata2.obs.sex_label.values[unlabeled_idx], preds2)\n",
    "  acc_score2.append(acc2)"
   ]
  },
  {
   "cell_type": "code",
   "execution_count": null,
   "metadata": {
    "colab": {
     "base_uri": "https://localhost:8080/"
    },
    "id": "uRjcJ7-PJltY",
    "outputId": "70947456-4b28-4ae5-8e1d-64e787c5ff59"
   },
   "outputs": [
    {
     "name": "stdout",
     "output_type": "stream",
     "text": [
      "[0.8285714285714286, 0.8493506493506493, 0.8632034632034632]\n",
      "[0.8935064935064935, 0.8926406926406927, 0.8961038961038961]\n"
     ]
    }
   ],
   "source": [
    "print(acc_score)\n",
    "print(acc_score2)"
   ]
  },
  {
   "cell_type": "code",
   "execution_count": null,
   "metadata": {
    "colab": {
     "base_uri": "https://localhost:8080/"
    },
    "id": "gmnlc72PlnwU",
    "outputId": "84d57fee-5cb2-4e34-e634-6458f9377228"
   },
   "outputs": [
    {
     "name": "stdout",
     "output_type": "stream",
     "text": [
      "[0.8285714285714286, 0.8493506493506493, 0.8632034632034632]\n",
      "[0.8935064935064935, 0.8926406926406927, 0.8961038961038961]\n"
     ]
    }
   ],
   "source": [
    "print(acc_score)\n",
    "print(acc_score2)"
   ]
  },
  {
   "cell_type": "code",
   "execution_count": null,
   "metadata": {
    "colab": {
     "base_uri": "https://localhost:8080/"
    },
    "id": "BmnzoMFjjyTb",
    "outputId": "b6d42297-555b-4dd4-a520-e2364738e0e0"
   },
   "outputs": [
    {
     "name": "stdout",
     "output_type": "stream",
     "text": [
      "\u001b[34mINFO    \u001b[0m Training for \u001b[1;36m400\u001b[0m epochs.                                                                                  \n"
     ]
    },
    {
     "name": "stderr",
     "output_type": "stream",
     "text": [
      "/usr/local/lib/python3.7/dist-packages/scvi/data/fields/_layer_field.py:92: UserWarning: adata.X does not contain unnormalized count data. Are you sure this is what you want?\n",
      "  f\"{logger_data_loc} does not contain unnormalized count data. \"\n",
      "INFO:pytorch_lightning.utilities.rank_zero:GPU available: True (cuda), used: True\n",
      "INFO:pytorch_lightning.utilities.rank_zero:TPU available: False, using: 0 TPU cores\n",
      "INFO:pytorch_lightning.utilities.rank_zero:IPU available: False, using: 0 IPUs\n",
      "INFO:pytorch_lightning.utilities.rank_zero:HPU available: False, using: 0 HPUs\n",
      "INFO:pytorch_lightning.accelerators.cuda:LOCAL_RANK: 0 - CUDA_VISIBLE_DEVICES: [0]\n"
     ]
    },
    {
     "name": "stdout",
     "output_type": "stream",
     "text": [
      "Epoch 1/400:   0%|          | 0/400 [00:00<?, ?it/s]"
     ]
    },
    {
     "name": "stderr",
     "output_type": "stream",
     "text": [
      "/usr/local/lib/python3.7/dist-packages/scvi/distributions/_negative_binomial.py:484: UserWarning: The value argument must be within the support of the distribution\n",
      "  UserWarning,\n"
     ]
    },
    {
     "name": "stdout",
     "output_type": "stream",
     "text": [
      "Epoch 400/400: 100%|██████████| 400/400 [03:56<00:00,  1.70it/s, loss=4.01e+03, v_num=1]"
     ]
    },
    {
     "name": "stderr",
     "output_type": "stream",
     "text": [
      "INFO:pytorch_lightning.utilities.rank_zero:`Trainer.fit` stopped: `max_epochs=400` reached.\n"
     ]
    },
    {
     "name": "stdout",
     "output_type": "stream",
     "text": [
      "\r",
      "Epoch 400/400: 100%|██████████| 400/400 [03:56<00:00,  1.69it/s, loss=4.01e+03, v_num=1]\n",
      "\u001b[34mINFO    \u001b[0m Training for \u001b[1;36m400\u001b[0m epochs.                                                                                  \n"
     ]
    },
    {
     "name": "stderr",
     "output_type": "stream",
     "text": [
      "INFO:pytorch_lightning.utilities.rank_zero:GPU available: True (cuda), used: True\n",
      "INFO:pytorch_lightning.utilities.rank_zero:TPU available: False, using: 0 TPU cores\n",
      "INFO:pytorch_lightning.utilities.rank_zero:IPU available: False, using: 0 IPUs\n",
      "INFO:pytorch_lightning.utilities.rank_zero:HPU available: False, using: 0 HPUs\n",
      "INFO:pytorch_lightning.accelerators.cuda:LOCAL_RANK: 0 - CUDA_VISIBLE_DEVICES: [0]\n"
     ]
    },
    {
     "name": "stdout",
     "output_type": "stream",
     "text": [
      "Epoch 1/400:   0%|          | 0/400 [00:00<?, ?it/s]"
     ]
    },
    {
     "name": "stderr",
     "output_type": "stream",
     "text": [
      "/usr/local/lib/python3.7/dist-packages/scvi/distributions/_negative_binomial.py:484: UserWarning: The value argument must be within the support of the distribution\n",
      "  UserWarning,\n"
     ]
    },
    {
     "name": "stdout",
     "output_type": "stream",
     "text": [
      "Epoch 400/400: 100%|██████████| 400/400 [03:51<00:00,  1.77it/s, loss=4.02e+03, v_num=1]"
     ]
    },
    {
     "name": "stderr",
     "output_type": "stream",
     "text": [
      "INFO:pytorch_lightning.utilities.rank_zero:`Trainer.fit` stopped: `max_epochs=400` reached.\n"
     ]
    },
    {
     "name": "stdout",
     "output_type": "stream",
     "text": [
      "\r",
      "Epoch 400/400: 100%|██████████| 400/400 [03:51<00:00,  1.73it/s, loss=4.02e+03, v_num=1]\n",
      "\u001b[34mINFO    \u001b[0m Training for \u001b[1;36m400\u001b[0m epochs.                                                                                  \n"
     ]
    },
    {
     "name": "stderr",
     "output_type": "stream",
     "text": [
      "INFO:pytorch_lightning.utilities.rank_zero:GPU available: True (cuda), used: True\n",
      "INFO:pytorch_lightning.utilities.rank_zero:TPU available: False, using: 0 TPU cores\n",
      "INFO:pytorch_lightning.utilities.rank_zero:IPU available: False, using: 0 IPUs\n",
      "INFO:pytorch_lightning.utilities.rank_zero:HPU available: False, using: 0 HPUs\n",
      "INFO:pytorch_lightning.accelerators.cuda:LOCAL_RANK: 0 - CUDA_VISIBLE_DEVICES: [0]\n"
     ]
    },
    {
     "name": "stdout",
     "output_type": "stream",
     "text": [
      "Epoch 1/400:   0%|          | 0/400 [00:00<?, ?it/s]"
     ]
    },
    {
     "name": "stderr",
     "output_type": "stream",
     "text": [
      "/usr/local/lib/python3.7/dist-packages/scvi/distributions/_negative_binomial.py:484: UserWarning: The value argument must be within the support of the distribution\n",
      "  UserWarning,\n"
     ]
    },
    {
     "name": "stdout",
     "output_type": "stream",
     "text": [
      "Epoch 400/400: 100%|██████████| 400/400 [03:46<00:00,  1.70it/s, loss=4.02e+03, v_num=1]"
     ]
    },
    {
     "name": "stderr",
     "output_type": "stream",
     "text": [
      "INFO:pytorch_lightning.utilities.rank_zero:`Trainer.fit` stopped: `max_epochs=400` reached.\n"
     ]
    },
    {
     "name": "stdout",
     "output_type": "stream",
     "text": [
      "\r",
      "Epoch 400/400: 100%|██████████| 400/400 [03:46<00:00,  1.76it/s, loss=4.02e+03, v_num=1]\n"
     ]
    }
   ],
   "source": [
    "# SCANVI accuracy scores\n",
    "scvi.model.SCANVI.setup_anndata(adata2,unlabeled_category=99.0,labels_key='smartseq_cluster_id')\n",
    "\n",
    "acc_score_scanvi = []\n",
    "acc_score_scanvi2 = []\n",
    "for i in range(3):\n",
    "  vae = scvi.model.SCANVI(adata2, n_latent=n_latent)\n",
    "  vae.train(train_size = 0.7)\n",
    "  latent_scanvi = vae.get_latent_representation()\n",
    "  lab_idx = vae.train_indices\n",
    "  unlabeled_idx = []\n",
    "  for i in range(len(adata2)):\n",
    "    if i not in lab_idx:\n",
    "      unlabeled_idx.append(i)\n",
    "  preds = knn_infer(np.array(latent_scanvi), list(lab_idx),adata2.obs.smartseq_cluster_id.values[lab_idx], unlabeled_idx)\n",
    "  acc = accuracy_score(adata2.obs.smartseq_cluster_id.values[unlabeled_idx], preds)\n",
    "  acc_score_scanvi.append(acc)\n",
    "\n",
    "  preds2 = knn_infer(np.array(latent_scanvi), list(lab_idx), adata2.obs.sex_label.values[lab_idx], unlabeled_idx)\n",
    "  acc2 = accuracy_score(adata2.obs.sex_label.values[unlabeled_idx], preds2)\n",
    "  acc_score_scanvi2.append(acc2)"
   ]
  },
  {
   "cell_type": "code",
   "execution_count": null,
   "metadata": {
    "colab": {
     "base_uri": "https://localhost:8080/"
    },
    "id": "n5HEONrEQlZ4",
    "outputId": "44f904dd-f426-4fdd-824a-c5d7ca229961"
   },
   "outputs": [
    {
     "name": "stdout",
     "output_type": "stream",
     "text": [
      "[0.8675324675324675, 0.8753246753246753, 0.8701298701298701]\n",
      "[0.896969696969697, 0.8935064935064935, 0.8952380952380953]\n"
     ]
    }
   ],
   "source": [
    "print(acc_score_scanvi)\n",
    "print(acc_score_scanvi2)"
   ]
  },
  {
   "cell_type": "code",
   "execution_count": null,
   "metadata": {
    "colab": {
     "base_uri": "https://localhost:8080/"
    },
    "id": "x8Nk715oLxsK",
    "outputId": "b7d60772-0eca-41dc-e19a-b3cce9e949e8"
   },
   "outputs": [
    {
     "name": "stdout",
     "output_type": "stream",
     "text": [
      "[0.8675324675324675, 0.8753246753246753, 0.8701298701298701]\n",
      "[0.896969696969697, 0.8935064935064935, 0.8952380952380953]\n"
     ]
    }
   ],
   "source": [
    "print(acc_score_scanvi)\n",
    "print(acc_score_scanvi2)"
   ]
  },
  {
   "cell_type": "markdown",
   "metadata": {
    "id": "6OQ2vrrQfRfT"
   },
   "source": [
    "Get labels for MCML Runs"
   ]
  },
  {
   "cell_type": "code",
   "execution_count": null,
   "metadata": {
    "id": "0tS5G3zCfqUt"
   },
   "outputs": [],
   "source": [
    "# Reconstruction loss only\n",
    "acc_scoreR = []\n",
    "acc_scoreR2 = []\n",
    "\n",
    "\n",
    "for i in range(3):\n",
    "  ncaR = MCML(n_latent = n_latent, epochs = 100)\n",
    "  ncaR2 = MCML(n_latent = n_latent, epochs = 100)\n",
    "\n",
    "  labels = np.array([lab1]).copy()\n",
    "  train_inds = np.random.choice(len(scaled_mat), size = int(0.7*len(scaled_mat)),replace=False) #0.7 for training fraction\n",
    "  #Set 30% to no label (nan)\n",
    "  unlab_inds = [i for i in range(len(adata)) if i not in train_inds]\n",
    "  labels[:, unlab_inds] = np.nan\n",
    "\n",
    "  #2 labels\n",
    "  labels2 = allLabs2.copy()\n",
    "  labels2 = allLabs2[:, unlab_inds] = np.nan\n",
    "\n",
    "  lossesR, latentR = ncaR.fit(scaled_mat,nanLabs,fracNCA = 0, silent = True,ret_loss = True) #labels\n",
    "\n",
    "\n",
    "  toc = time.perf_counter()\n",
    "  unlabeled_idx = []\n",
    "  for i in range(len(adata)):\n",
    "      if i not in train_inds:\n",
    "          unlabeled_idx.append(i)\n",
    "  preds = knn_infer(latentR, train_inds, adata.obs.smartseq_cluster.values[train_inds], unlabeled_idx)\n",
    "  acc = accuracy_score(adata.obs.smartseq_cluster.values[unlabeled_idx], preds)\n",
    "  acc_scoreR.append(acc)\n",
    "\n",
    "\n",
    "  preds2 = knn_infer(latentR, train_inds, adata.obs.sex_label.values[train_inds], unlabeled_idx)\n",
    "  acc2 = accuracy_score(adata.obs.sex_label.values[unlabeled_idx], preds2)\n",
    "  acc_scoreR2.append(acc2)\n",
    "  # print(f\"nnNCA fit in {toc - tic:0.4f} seconds\")"
   ]
  },
  {
   "cell_type": "code",
   "execution_count": null,
   "metadata": {
    "colab": {
     "base_uri": "https://localhost:8080/"
    },
    "id": "vMFodv7oM4oq",
    "outputId": "5f74aff5-4408-4bd8-b5af-b76a7e7d3b46"
   },
   "outputs": [
    {
     "name": "stdout",
     "output_type": "stream",
     "text": [
      "[0.8848484848484849, 0.8779220779220779, 0.8805194805194805]\n",
      "[0.8926406926406927, 0.8943722943722944, 0.9047619047619048]\n"
     ]
    }
   ],
   "source": [
    "print(acc_scoreR)\n",
    "print(acc_scoreR2)"
   ]
  },
  {
   "cell_type": "markdown",
   "metadata": {
    "id": "Ezadu5uXLs88"
   },
   "source": [
    "PCA 50D"
   ]
  },
  {
   "cell_type": "code",
   "execution_count": null,
   "metadata": {
    "id": "dMQdSd9cLwRC"
   },
   "outputs": [],
   "source": [
    "# Reconstruction loss only\n",
    "acc_scorePCA = []\n",
    "acc_scorePCA2 = []\n",
    "\n",
    "for i in range(3):\n",
    "\n",
    "  tsvd = TruncatedSVD(n_components=pcs)\n",
    "  x_pca = tsvd.fit_transform(scaled_mat)\n",
    "\n",
    "  labels = np.array([lab1])\n",
    "  train_inds = np.random.choice(len(scaled_mat), size = int(0.7*len(scaled_mat)),replace=False)\n",
    "  unlab_inds = [i for i in range(len(adata)) if i not in train_inds]\n",
    "  labels[:, unlab_inds] = np.nan\n",
    "\n",
    "  unlabeled_idx = []\n",
    "  for i in range(len(adata)):\n",
    "      if i not in train_inds:\n",
    "          unlabeled_idx.append(i)\n",
    "\n",
    "  preds = knn_infer(x_pca, train_inds, adata.obs.smartseq_cluster.values[train_inds], unlabeled_idx)\n",
    "  acc = accuracy_score(adata.obs.smartseq_cluster.values[unlabeled_idx], preds)\n",
    "  acc_scorePCA.append(acc)\n",
    "\n",
    "  preds2 = knn_infer(x_pca, train_inds, adata.obs.sex_label.values[train_inds], unlabeled_idx)\n",
    "  acc2 = accuracy_score(adata.obs.sex_label.values[unlabeled_idx], preds2)\n",
    "  acc_scorePCA2.append(acc2)\n",
    "  # print(f\"nnNCA fit in {toc - tic:0.4f} seconds\")"
   ]
  },
  {
   "cell_type": "code",
   "execution_count": null,
   "metadata": {
    "colab": {
     "base_uri": "https://localhost:8080/"
    },
    "id": "6p6oknUGLwj4",
    "outputId": "20209633-bccb-4be9-9be0-5ec243d5fd45"
   },
   "outputs": [
    {
     "name": "stdout",
     "output_type": "stream",
     "text": [
      "[0.8666666666666667, 0.8961038961038961, 0.8805194805194805]\n",
      "[0.8917748917748918, 0.9038961038961039, 0.8813852813852814]\n"
     ]
    }
   ],
   "source": [
    "print(acc_scorePCA)\n",
    "print(acc_scorePCA2)"
   ]
  },
  {
   "cell_type": "code",
   "execution_count": null,
   "metadata": {
    "id": "pITLfX6cCwfb"
   },
   "outputs": [],
   "source": []
  },
  {
   "cell_type": "markdown",
   "metadata": {
    "id": "wIuZwzWSCw9W"
   },
   "source": [
    "PCA 40D"
   ]
  },
  {
   "cell_type": "code",
   "execution_count": null,
   "metadata": {
    "id": "gylah_VPCwh1"
   },
   "outputs": [],
   "source": [
    "# Reconstruction loss only\n",
    "acc_scorePCA40D = []\n",
    "\n",
    "for i in range(3):\n",
    "\n",
    "  tsvd = TruncatedSVD(n_components=pcs2)\n",
    "  x_pca = tsvd.fit_transform(scaled_mat)\n",
    "\n",
    "  labels = np.array([lab1])\n",
    "  train_inds = np.random.choice(len(scaled_mat), size = int(0.7*len(scaled_mat)),replace=False)\n",
    "  unlab_inds = [i for i in range(len(adata)) if i not in train_inds]\n",
    "  labels[:, unlab_inds] = np.nan\n",
    "\n",
    "  unlabeled_idx = []\n",
    "  for i in range(len(adata)):\n",
    "      if i not in train_inds:\n",
    "          unlabeled_idx.append(i)\n",
    "\n",
    "  preds = knn_infer(x_pca, train_inds, adata.obs.smartseq_cluster.values[train_inds], unlabeled_idx)\n",
    "  acc = accuracy_score(adata.obs.smartseq_cluster.values[unlabeled_idx], preds)\n",
    "  acc_scorePCA40D.append(acc)\n",
    "\n",
    "\n",
    "  # print(f\"nnNCA fit in {toc - tic:0.4f} seconds\")"
   ]
  },
  {
   "cell_type": "code",
   "execution_count": null,
   "metadata": {
    "id": "z8j5eDToCwk7"
   },
   "outputs": [],
   "source": [
    "print(acc_scorePCA40D)"
   ]
  },
  {
   "cell_type": "markdown",
   "metadata": {
    "id": "TGELf4NtAp1u"
   },
   "source": [
    "PCA 100D"
   ]
  },
  {
   "cell_type": "code",
   "execution_count": null,
   "metadata": {
    "id": "U_EwxqvSApRt"
   },
   "outputs": [],
   "source": [
    "# Reconstruction loss only\n",
    "acc_scorePCA100D = []\n",
    "\n",
    "\n",
    "for i in range(3):\n",
    "\n",
    "  tsvd = TruncatedSVD(n_components=100)\n",
    "  x_pca = tsvd.fit_transform(scaled_mat)\n",
    "\n",
    "  labels = np.array([lab1])\n",
    "  train_inds = np.random.choice(len(scaled_mat), size = int(0.7*len(scaled_mat)),replace=False)\n",
    "  unlab_inds = [i for i in range(len(adata)) if i not in train_inds]\n",
    "  labels[:, unlab_inds] = np.nan\n",
    "\n",
    "  unlabeled_idx = []\n",
    "  for i in range(len(adata)):\n",
    "      if i not in train_inds:\n",
    "          unlabeled_idx.append(i)\n",
    "\n",
    "  preds = knn_infer(x_pca, train_inds, adata.obs.smartseq_cluster.values[train_inds], unlabeled_idx)\n",
    "  acc = accuracy_score(adata.obs.smartseq_cluster.values[unlabeled_idx], preds)\n",
    "  acc_scorePCA100D.append(acc)\n"
   ]
  },
  {
   "cell_type": "code",
   "execution_count": null,
   "metadata": {
    "colab": {
     "base_uri": "https://localhost:8080/"
    },
    "id": "h6gLNz_-Apcd",
    "outputId": "c190eeca-c1e7-48bb-c251-3dca2e260f93"
   },
   "outputs": [
    {
     "name": "stdout",
     "output_type": "stream",
     "text": [
      "[0.8692640692640693, 0.8597402597402597, 0.8857142857142857]\n"
     ]
    }
   ],
   "source": [
    "print(acc_scorePCA100D)"
   ]
  },
  {
   "cell_type": "markdown",
   "metadata": {
    "id": "1xKwtdrQE9DC"
   },
   "source": [
    "Check train/test 'overfitting'"
   ]
  },
  {
   "cell_type": "code",
   "execution_count": null,
   "metadata": {
    "id": "nk1YnRWtwRKt"
   },
   "outputs": [],
   "source": [
    "nca = MCML(n_latent = n_latent, epochs = 100)\n",
    "\n",
    "labels = np.array([lab1]).copy()\n",
    "train_inds = np.random.choice(len(scaled_mat), size = int(0.7*len(scaled_mat)),replace=False) #0.7\n",
    "unlab_inds = [i for i in range(len(adata)) if i not in train_inds]\n",
    "labels[:, unlab_inds] = np.nan\n",
    "\n",
    "lossesTrain, lossesTest = nca.trainTest(scaled_mat,labels, fracNCA = 1, silent = True)"
   ]
  },
  {
   "cell_type": "code",
   "execution_count": null,
   "metadata": {
    "colab": {
     "base_uri": "https://localhost:8080/",
     "height": 265
    },
    "id": "yD4D80CJEqfq",
    "outputId": "1dd3d941-5b2b-4e10-ed70-4b7ab99294f1"
   },
   "outputs": [
    {
     "data": {
      "image/png": "[encoded data removed]",
      "text/plain": [
       "<Figure size 576x288 with 4 Axes>"
      ]
     },
     "metadata": {
      "tags": []
     },
     "output_type": "display_data"
    }
   ],
   "source": [
    "fig, axs = plt.subplots(1, lossesTrain.shape[1],figsize=(8,4))\n",
    "for i in range(lossesTrain.shape[1]):\n",
    "  axs[i].plot(lossesTrain[:,i],label=str(i))\n",
    "  axs[i].plot(lossesTest[:,i],label=str(i))\n",
    "\n",
    "plt.legend()\n",
    "plt.show()"
   ]
  },
  {
   "cell_type": "markdown",
   "metadata": {
    "id": "6v9Pev-JLvCb"
   },
   "source": [
    "NCA MCML Below"
   ]
  },
  {
   "cell_type": "code",
   "execution_count": null,
   "metadata": {
    "id": "up8Yft-KvvzU"
   },
   "outputs": [],
   "source": [
    "# NCA loss only\n",
    "acc_scoreNCA = []\n",
    "acc_scoreNCA2 = []\n",
    "acc_scoreNCA3 = []\n",
    "\n",
    "for i in range(1): #3\n",
    "  nca = MCML(n_latent = n_latent, epochs = 100)\n",
    "  ncaR2 = MCML(n_latent = n_latent, epochs = 100)\n",
    "\n",
    "  labels = np.array([lab1]).copy()\n",
    "  train_inds = np.random.choice(len(scaled_mat), size = int(0.7*len(scaled_mat)),replace=False) #0.7\n",
    "  unlab_inds = [i for i in range(len(adata)) if i not in train_inds]\n",
    "  labels[:, unlab_inds] = np.nan\n",
    "\n",
    "  #2 labels\n",
    "  labels2 = allLabs2.copy()\n",
    "  labels2[:, unlab_inds] = np.nan\n",
    "\n",
    "\n",
    "  losses, latent = nca.fit(scaled_mat,labels,fracNCA = 1, silent = True,ret_loss = True)\n",
    "\n",
    "  losses2, latent2 = ncaR2.fit(scaled_mat,labels2,fracNCA = 1, silent = True,ret_loss = True)\n",
    "\n",
    "  toc = time.perf_counter()\n",
    "  unlabeled_idx = []\n",
    "  for i in range(len(adata)):\n",
    "      if i not in train_inds:\n",
    "          unlabeled_idx.append(i)\n",
    "  preds = knn_infer(latent, train_inds, adata.obs.smartseq_cluster.values[train_inds], unlabeled_idx)\n",
    "  acc = accuracy_score(adata.obs.smartseq_cluster.values[unlabeled_idx], preds)\n",
    "  acc_scoreNCA.append(acc)\n",
    "\n",
    "  preds2 = knn_infer(latent2, train_inds, adata.obs.smartseq_cluster.values[train_inds], unlabeled_idx)\n",
    "  acc2 = accuracy_score(adata.obs.smartseq_cluster.values[unlabeled_idx], preds2)\n",
    "  acc_scoreNCA2.append(acc2)\n",
    "\n",
    "  preds2 = knn_infer(latent2, train_inds, adata.obs.sex_label.values[train_inds], unlabeled_idx)\n",
    "  acc2 = accuracy_score(adata.obs.sex_label.values[unlabeled_idx], preds2)\n",
    "  acc_scoreNCA3.append(acc2)\n",
    "  # print(f\"nnNCA fit in {toc - tic:0.4f} seconds\")\n"
   ]
  },
  {
   "cell_type": "code",
   "execution_count": null,
   "metadata": {
    "colab": {
     "base_uri": "https://localhost:8080/"
    },
    "id": "ZDl7u5NpqtWx",
    "outputId": "d89242cf-781e-48e2-9850-94ce88dbb05c"
   },
   "outputs": [
    {
     "name": "stdout",
     "output_type": "stream",
     "text": [
      "[0.6588744588744588]\n",
      "[0.6493506493506493]\n",
      "[0.8909090909090909]\n"
     ]
    }
   ],
   "source": [
    "print(acc_scoreNCA)\n",
    "print(acc_scoreNCA2)\n",
    "print(acc_scoreNCA3)"
   ]
  },
  {
   "cell_type": "code",
   "execution_count": null,
   "metadata": {
    "id": "HYhSKoZ8y6o7"
   },
   "outputs": [],
   "source": [
    "# fracNCA = 0.5\n",
    "acc_scoreBoth = []\n",
    "acc_scoreBoth2 = []\n",
    "acc_scoreBoth3 = []\n",
    "\n",
    "for i in range(3): #3\n",
    "  nca = MCML(n_latent = n_latent, epochs = 100)\n",
    "  ncaR2 = MCML(n_latent = n_latent, epochs = 100)\n",
    "\n",
    "  labels = np.array([lab1]).copy()\n",
    "  train_inds = np.random.choice(len(scaled_mat), size = int(0.7*len(scaled_mat)),replace=False) #0.7\n",
    "  unlab_inds = [i for i in range(len(adata)) if i not in train_inds]\n",
    "  labels[:, unlab_inds] = np.nan\n",
    "\n",
    "  #2 labels\n",
    "  labels2 = allLabs2.copy()\n",
    "  labels2[:, unlab_inds] = np.nan\n",
    "\n",
    "  losses, latent = nca.fit(scaled_mat,labels,fracNCA = 0.3, silent = True,ret_loss = True)\n",
    "\n",
    "  losses2, latent2 = ncaR2.fit(scaled_mat,labels2,fracNCA = 0.3, silent = True,ret_loss = True)\n",
    "\n",
    "  toc = time.perf_counter()\n",
    "  unlabeled_idx = []\n",
    "  for i in range(len(adata)):\n",
    "      if i not in train_inds:\n",
    "          unlabeled_idx.append(i)\n",
    "  preds = knn_infer(latent, train_inds, adata.obs.smartseq_cluster.values[train_inds], unlabeled_idx)\n",
    "  acc = accuracy_score(adata.obs.smartseq_cluster.values[unlabeled_idx], preds)\n",
    "  acc_scoreBoth.append(acc)\n",
    "\n",
    "\n",
    "  preds2 = knn_infer(latent2, train_inds, adata.obs.smartseq_cluster.values[train_inds], unlabeled_idx)\n",
    "  acc2 = accuracy_score(adata.obs.smartseq_cluster.values[unlabeled_idx], preds2)\n",
    "  acc_scoreBoth2.append(acc2)\n",
    "\n",
    "  preds2 = knn_infer(latent2, train_inds, adata.obs.sex_label.values[train_inds], unlabeled_idx)\n",
    "  acc2 = accuracy_score(adata.obs.sex_label.values[unlabeled_idx], preds2)\n",
    "  acc_scoreBoth3.append(acc2)\n",
    "  # print(f\"nnNCA fit in {toc - tic:0.4f} seconds\")"
   ]
  },
  {
   "cell_type": "code",
   "execution_count": null,
   "metadata": {
    "colab": {
     "base_uri": "https://localhost:8080/"
    },
    "id": "dl4LFR7CvnED",
    "outputId": "b5496bc1-8755-40ef-fdbd-b55ddfa56c74"
   },
   "outputs": [
    {
     "name": "stdout",
     "output_type": "stream",
     "text": [
      "[0.8649350649350649, 0.8666666666666667, 0.8926406926406927]\n",
      "[0.8701298701298701, 0.8735930735930736, 0.8987012987012987]\n",
      "[0.90995670995671, 0.9047619047619048, 0.8926406926406927]\n"
     ]
    }
   ],
   "source": [
    "print(acc_scoreBoth)\n",
    "print(acc_scoreBoth2)\n",
    "print(acc_scoreBoth3)"
   ]
  },
  {
   "cell_type": "code",
   "execution_count": null,
   "metadata": {
    "colab": {
     "base_uri": "https://localhost:8080/",
     "height": 267
    },
    "id": "OtXpBw1-FnrC",
    "outputId": "530d0c92-db86-4c57-e266-1f6f82b5b89f"
   },
   "outputs": [
    {
     "data": {
      "image/png": "[encoded data removed]",
      "text/plain": [
       "<Figure size 576x288 with 5 Axes>"
      ]
     },
     "metadata": {
      "tags": []
     },
     "output_type": "display_data"
    }
   ],
   "source": [
    "fig, axs = plt.subplots(1, losses2.shape[1],figsize=(8,4))\n",
    "for i in range(losses2.shape[1]):\n",
    "  axs[i].plot(losses2[:,i],label=str(i))\n",
    "\n",
    "plt.legend()\n",
    "plt.show()"
   ]
  },
  {
   "cell_type": "code",
   "execution_count": null,
   "metadata": {
    "colab": {
     "base_uri": "https://localhost:8080/",
     "height": 265
    },
    "id": "Xan0EK38JhHA",
    "outputId": "a5ab1198-120f-40cc-f854-253b75d2a1da"
   },
   "outputs": [
    {
     "data": {
      "image/png": "[encoded data removed]",
      "text/plain": [
       "<Figure size 576x288 with 5 Axes>"
      ]
     },
     "metadata": {
      "tags": []
     },
     "output_type": "display_data"
    }
   ],
   "source": [
    "fig, axs = plt.subplots(1, losses.shape[1],figsize=(8,4))\n",
    "for i in range(losses.shape[1]):\n",
    "  axs[i].plot(losses[:,i],label=str(i))\n",
    "\n",
    "plt.legend()\n",
    "plt.show()"
   ]
  },
  {
   "cell_type": "code",
   "execution_count": null,
   "metadata": {
    "colab": {
     "base_uri": "https://localhost:8080/"
    },
    "id": "RIAHBwViB01i",
    "outputId": "93c7f511-a38c-482f-ad1a-7c762b172d62"
   },
   "outputs": [
    {
     "data": {
      "text/plain": [
       "array([[0.        , 0.        , 0.        , 4.0293509 , 0.        ],\n",
       "       [0.        , 0.        , 0.        , 3.98338677, 0.        ],\n",
       "       [0.        , 0.        , 0.        , 3.97721616, 0.        ],\n",
       "       ...,\n",
       "       [0.        , 0.        , 0.        , 3.9778574 , 0.        ],\n",
       "       [0.        , 0.        , 0.        , 3.97494724, 0.        ],\n",
       "       [0.        , 0.        , 0.        , 3.97700665, 0.        ]])"
      ]
     },
     "execution_count": 35,
     "metadata": {
      "tags": []
     },
     "output_type": "execute_result"
    }
   ],
   "source": [
    "losses2"
   ]
  },
  {
   "cell_type": "markdown",
   "metadata": {
    "id": "ZwVU28-k-3yP"
   },
   "source": [
    "### **Save Analysis Output**"
   ]
  },
  {
   "cell_type": "code",
   "execution_count": null,
   "metadata": {
    "id": "zoobDgWX4acW"
   },
   "outputs": [],
   "source": [
    "vals = pd.DataFrame()\n",
    "\n",
    "vals['Accuracy'] = acc_score + acc_score_scanvi + acc_scoreR + acc_scoreNCA + acc_scoreBoth + acc_score2 + acc_score_scanvi2 + acc_scoreR2 + acc_scoreNCA3 + acc_scoreBoth3 + acc_scoreNCA2 + acc_scoreBoth2 +acc_scorePCA + acc_scorePCA2 + acc_score_2D + acc_scorePCA100D +acc_score_40_2D +acc_scorePCA40D #+ netAE_score + netAE_score2"
   ]
  },
  {
   "cell_type": "code",
   "execution_count": null,
   "metadata": {
    "id": "AJY7DMRA642i"
   },
   "outputs": [],
   "source": [
    "vals['Embed'] = ['LDVAE']*3 + ['SCANVI']*3 + ['Recon MCML']*3 + ['NCA 100% MCML']*1 + ['NCA-Recon MCML']*3 +['LDVAE']*3 + ['SCANVI']*3 + ['Recon MCML']*3 + ['NCA 100% MCML']*1 + ['NCA-Recon MCML']*3 + ['NCA 100% MCML']*1 + ['NCA-Recon MCML']*3 + ['PCA 50D']*3 +  ['PCA 50D']*3 + ['PCA 50D UMAP Sup.','PCA 50D UMAP','PCA 50D t-SNE']*3 + ['PCA 100D']*3 +['PCA 40D UMAP Sup.','PCA 40D UMAP','PCA 40D t-SNE']*3 + ['PCA 40D']*3#+ ['netAE']*2"
   ]
  },
  {
   "cell_type": "code",
   "execution_count": null,
   "metadata": {
    "id": "Is7_EmhR7tKn"
   },
   "outputs": [],
   "source": [
    "vals['Label'] = ['CellType1']*13 + ['Gender2']*13 + ['CellType2']*4 +['CellType1']*3 + ['Gender2']*3 + ['CellType1']*12+['CellType1']*12 #+  ['CellType1'] #+  ['Gender2']"
   ]
  },
  {
   "cell_type": "code",
   "execution_count": null,
   "metadata": {
    "colab": {
     "base_uri": "https://localhost:8080/",
     "height": 1000
    },
    "id": "cZBM1dlG8K5E",
    "outputId": "f0eaff0e-f4e1-4718-f2b6-ce4cb50c5cc5"
   },
   "outputs": [
    {
     "data": {
      "text/html": [
       "\n",
       "  <div id=\"df-5609002f-2d89-49bd-b119-9827b4bcbb4d\">\n",
       "    <div class=\"colab-df-container\">\n",
       "      <div>\n",
       "<style scoped>\n",
       "    .dataframe tbody tr th:only-of-type {\n",
       "        vertical-align: middle;\n",
       "    }\n",
       "\n",
       "    .dataframe tbody tr th {\n",
       "        vertical-align: top;\n",
       "    }\n",
       "\n",
       "    .dataframe thead th {\n",
       "        text-align: right;\n",
       "    }\n",
       "</style>\n",
       "<table border=\"1\" class=\"dataframe\">\n",
       "  <thead>\n",
       "    <tr style=\"text-align: right;\">\n",
       "      <th></th>\n",
       "      <th>Accuracy</th>\n",
       "      <th>Embed</th>\n",
       "      <th>Label</th>\n",
       "    </tr>\n",
       "  </thead>\n",
       "  <tbody>\n",
       "    <tr>\n",
       "      <th>0</th>\n",
       "      <td>0.828571</td>\n",
       "      <td>LDVAE</td>\n",
       "      <td>CellType1</td>\n",
       "    </tr>\n",
       "    <tr>\n",
       "      <th>1</th>\n",
       "      <td>0.849351</td>\n",
       "      <td>LDVAE</td>\n",
       "      <td>CellType1</td>\n",
       "    </tr>\n",
       "    <tr>\n",
       "      <th>2</th>\n",
       "      <td>0.863203</td>\n",
       "      <td>LDVAE</td>\n",
       "      <td>CellType1</td>\n",
       "    </tr>\n",
       "    <tr>\n",
       "      <th>3</th>\n",
       "      <td>0.867532</td>\n",
       "      <td>SCANVI</td>\n",
       "      <td>CellType1</td>\n",
       "    </tr>\n",
       "    <tr>\n",
       "      <th>4</th>\n",
       "      <td>0.875325</td>\n",
       "      <td>SCANVI</td>\n",
       "      <td>CellType1</td>\n",
       "    </tr>\n",
       "    <tr>\n",
       "      <th>5</th>\n",
       "      <td>0.870130</td>\n",
       "      <td>SCANVI</td>\n",
       "      <td>CellType1</td>\n",
       "    </tr>\n",
       "    <tr>\n",
       "      <th>6</th>\n",
       "      <td>0.884848</td>\n",
       "      <td>Recon MCML</td>\n",
       "      <td>CellType1</td>\n",
       "    </tr>\n",
       "    <tr>\n",
       "      <th>7</th>\n",
       "      <td>0.877922</td>\n",
       "      <td>Recon MCML</td>\n",
       "      <td>CellType1</td>\n",
       "    </tr>\n",
       "    <tr>\n",
       "      <th>8</th>\n",
       "      <td>0.880519</td>\n",
       "      <td>Recon MCML</td>\n",
       "      <td>CellType1</td>\n",
       "    </tr>\n",
       "    <tr>\n",
       "      <th>9</th>\n",
       "      <td>0.658874</td>\n",
       "      <td>NCA 100% MCML</td>\n",
       "      <td>CellType1</td>\n",
       "    </tr>\n",
       "    <tr>\n",
       "      <th>10</th>\n",
       "      <td>0.864935</td>\n",
       "      <td>NCA-Recon MCML</td>\n",
       "      <td>CellType1</td>\n",
       "    </tr>\n",
       "    <tr>\n",
       "      <th>11</th>\n",
       "      <td>0.866667</td>\n",
       "      <td>NCA-Recon MCML</td>\n",
       "      <td>CellType1</td>\n",
       "    </tr>\n",
       "    <tr>\n",
       "      <th>12</th>\n",
       "      <td>0.892641</td>\n",
       "      <td>NCA-Recon MCML</td>\n",
       "      <td>CellType1</td>\n",
       "    </tr>\n",
       "    <tr>\n",
       "      <th>13</th>\n",
       "      <td>0.893506</td>\n",
       "      <td>LDVAE</td>\n",
       "      <td>Gender2</td>\n",
       "    </tr>\n",
       "    <tr>\n",
       "      <th>14</th>\n",
       "      <td>0.892641</td>\n",
       "      <td>LDVAE</td>\n",
       "      <td>Gender2</td>\n",
       "    </tr>\n",
       "    <tr>\n",
       "      <th>15</th>\n",
       "      <td>0.896104</td>\n",
       "      <td>LDVAE</td>\n",
       "      <td>Gender2</td>\n",
       "    </tr>\n",
       "    <tr>\n",
       "      <th>16</th>\n",
       "      <td>0.896970</td>\n",
       "      <td>SCANVI</td>\n",
       "      <td>Gender2</td>\n",
       "    </tr>\n",
       "    <tr>\n",
       "      <th>17</th>\n",
       "      <td>0.893506</td>\n",
       "      <td>SCANVI</td>\n",
       "      <td>Gender2</td>\n",
       "    </tr>\n",
       "    <tr>\n",
       "      <th>18</th>\n",
       "      <td>0.895238</td>\n",
       "      <td>SCANVI</td>\n",
       "      <td>Gender2</td>\n",
       "    </tr>\n",
       "    <tr>\n",
       "      <th>19</th>\n",
       "      <td>0.892641</td>\n",
       "      <td>Recon MCML</td>\n",
       "      <td>Gender2</td>\n",
       "    </tr>\n",
       "    <tr>\n",
       "      <th>20</th>\n",
       "      <td>0.894372</td>\n",
       "      <td>Recon MCML</td>\n",
       "      <td>Gender2</td>\n",
       "    </tr>\n",
       "    <tr>\n",
       "      <th>21</th>\n",
       "      <td>0.904762</td>\n",
       "      <td>Recon MCML</td>\n",
       "      <td>Gender2</td>\n",
       "    </tr>\n",
       "    <tr>\n",
       "      <th>22</th>\n",
       "      <td>0.890909</td>\n",
       "      <td>NCA 100% MCML</td>\n",
       "      <td>Gender2</td>\n",
       "    </tr>\n",
       "    <tr>\n",
       "      <th>23</th>\n",
       "      <td>0.909957</td>\n",
       "      <td>NCA-Recon MCML</td>\n",
       "      <td>Gender2</td>\n",
       "    </tr>\n",
       "    <tr>\n",
       "      <th>24</th>\n",
       "      <td>0.904762</td>\n",
       "      <td>NCA-Recon MCML</td>\n",
       "      <td>Gender2</td>\n",
       "    </tr>\n",
       "    <tr>\n",
       "      <th>25</th>\n",
       "      <td>0.892641</td>\n",
       "      <td>NCA-Recon MCML</td>\n",
       "      <td>Gender2</td>\n",
       "    </tr>\n",
       "    <tr>\n",
       "      <th>26</th>\n",
       "      <td>0.649351</td>\n",
       "      <td>NCA 100% MCML</td>\n",
       "      <td>CellType2</td>\n",
       "    </tr>\n",
       "    <tr>\n",
       "      <th>27</th>\n",
       "      <td>0.870130</td>\n",
       "      <td>NCA-Recon MCML</td>\n",
       "      <td>CellType2</td>\n",
       "    </tr>\n",
       "    <tr>\n",
       "      <th>28</th>\n",
       "      <td>0.873593</td>\n",
       "      <td>NCA-Recon MCML</td>\n",
       "      <td>CellType2</td>\n",
       "    </tr>\n",
       "    <tr>\n",
       "      <th>29</th>\n",
       "      <td>0.898701</td>\n",
       "      <td>NCA-Recon MCML</td>\n",
       "      <td>CellType2</td>\n",
       "    </tr>\n",
       "    <tr>\n",
       "      <th>30</th>\n",
       "      <td>0.866667</td>\n",
       "      <td>PCA 50D</td>\n",
       "      <td>CellType1</td>\n",
       "    </tr>\n",
       "    <tr>\n",
       "      <th>31</th>\n",
       "      <td>0.896104</td>\n",
       "      <td>PCA 50D</td>\n",
       "      <td>CellType1</td>\n",
       "    </tr>\n",
       "    <tr>\n",
       "      <th>32</th>\n",
       "      <td>0.880519</td>\n",
       "      <td>PCA 50D</td>\n",
       "      <td>CellType1</td>\n",
       "    </tr>\n",
       "    <tr>\n",
       "      <th>33</th>\n",
       "      <td>0.891775</td>\n",
       "      <td>PCA 50D</td>\n",
       "      <td>Gender2</td>\n",
       "    </tr>\n",
       "    <tr>\n",
       "      <th>34</th>\n",
       "      <td>0.903896</td>\n",
       "      <td>PCA 50D</td>\n",
       "      <td>Gender2</td>\n",
       "    </tr>\n",
       "    <tr>\n",
       "      <th>35</th>\n",
       "      <td>0.881385</td>\n",
       "      <td>PCA 50D</td>\n",
       "      <td>Gender2</td>\n",
       "    </tr>\n",
       "    <tr>\n",
       "      <th>36</th>\n",
       "      <td>0.901299</td>\n",
       "      <td>PCA UMAP Sup.</td>\n",
       "      <td>CellType1</td>\n",
       "    </tr>\n",
       "    <tr>\n",
       "      <th>37</th>\n",
       "      <td>0.873593</td>\n",
       "      <td>PCA UMAP</td>\n",
       "      <td>CellType1</td>\n",
       "    </tr>\n",
       "    <tr>\n",
       "      <th>38</th>\n",
       "      <td>0.844156</td>\n",
       "      <td>PCA t-SNE</td>\n",
       "      <td>CellType1</td>\n",
       "    </tr>\n",
       "    <tr>\n",
       "      <th>39</th>\n",
       "      <td>0.891775</td>\n",
       "      <td>PCA UMAP Sup.</td>\n",
       "      <td>CellType1</td>\n",
       "    </tr>\n",
       "    <tr>\n",
       "      <th>40</th>\n",
       "      <td>0.856277</td>\n",
       "      <td>PCA UMAP</td>\n",
       "      <td>CellType1</td>\n",
       "    </tr>\n",
       "    <tr>\n",
       "      <th>41</th>\n",
       "      <td>0.855411</td>\n",
       "      <td>PCA t-SNE</td>\n",
       "      <td>CellType1</td>\n",
       "    </tr>\n",
       "    <tr>\n",
       "      <th>42</th>\n",
       "      <td>0.864069</td>\n",
       "      <td>PCA UMAP Sup.</td>\n",
       "      <td>CellType1</td>\n",
       "    </tr>\n",
       "    <tr>\n",
       "      <th>43</th>\n",
       "      <td>0.854545</td>\n",
       "      <td>PCA UMAP</td>\n",
       "      <td>CellType1</td>\n",
       "    </tr>\n",
       "    <tr>\n",
       "      <th>44</th>\n",
       "      <td>0.834632</td>\n",
       "      <td>PCA t-SNE</td>\n",
       "      <td>CellType1</td>\n",
       "    </tr>\n",
       "    <tr>\n",
       "      <th>45</th>\n",
       "      <td>0.869264</td>\n",
       "      <td>PCA 100D</td>\n",
       "      <td>CellType1</td>\n",
       "    </tr>\n",
       "    <tr>\n",
       "      <th>46</th>\n",
       "      <td>0.859740</td>\n",
       "      <td>PCA 100D</td>\n",
       "      <td>CellType1</td>\n",
       "    </tr>\n",
       "    <tr>\n",
       "      <th>47</th>\n",
       "      <td>0.885714</td>\n",
       "      <td>PCA 100D</td>\n",
       "      <td>CellType1</td>\n",
       "    </tr>\n",
       "  </tbody>\n",
       "</table>\n",
       "</div>\n",
       "      <button class=\"colab-df-convert\" onclick=\"convertToInteractive('df-5609002f-2d89-49bd-b119-9827b4bcbb4d')\"\n",
       "              title=\"Convert this dataframe to an interactive table.\"\n",
       "              style=\"display:none;\">\n",
       "        \n",
       "  <svg xmlns=\"http://www.w3.org/2000/svg\" height=\"24px\"viewBox=\"0 0 24 24\"\n",
       "       width=\"24px\">\n",
       "    <path d=\"M0 0h24v24H0V0z\" fill=\"none\"/>\n",
       "    <path d=\"M18.56 5.44l.94 2.06.94-2.06 2.06-.94-2.06-.94-.94-2.06-.94 2.06-2.06.94zm-11 1L8.5 8.5l.94-2.06 2.06-.94-2.06-.94L8.5 2.5l-.94 2.06-2.06.94zm10 10l.94 2.06.94-2.06 2.06-.94-2.06-.94-.94-2.06-.94 2.06-2.06.94z\"/><path d=\"M17.41 7.96l-1.37-1.37c-.4-.4-.92-.59-1.43-.59-.52 0-1.04.2-1.43.59L10.3 9.45l-7.72 7.72c-.78.78-.78 2.05 0 2.83L4 21.41c.39.39.9.59 1.41.59.51 0 1.02-.2 1.41-.59l7.78-7.78 2.81-2.81c.8-.78.8-2.07 0-2.86zM5.41 20L4 18.59l7.72-7.72 1.47 1.35L5.41 20z\"/>\n",
       "  </svg>\n",
       "      </button>\n",
       "      \n",
       "  <style>\n",
       "    .colab-df-container {\n",
       "      display:flex;\n",
       "      flex-wrap:wrap;\n",
       "      gap: 12px;\n",
       "    }\n",
       "\n",
       "    .colab-df-convert {\n",
       "      background-color: #E8F0FE;\n",
       "      border: none;\n",
       "      border-radius: 50%;\n",
       "      cursor: pointer;\n",
       "      display: none;\n",
       "      fill: #1967D2;\n",
       "      height: 32px;\n",
       "      padding: 0 0 0 0;\n",
       "      width: 32px;\n",
       "    }\n",
       "\n",
       "    .colab-df-convert:hover {\n",
       "      background-color: #E2EBFA;\n",
       "      box-shadow: 0px 1px 2px rgba(60, 64, 67, 0.3), 0px 1px 3px 1px rgba(60, 64, 67, 0.15);\n",
       "      fill: #174EA6;\n",
       "    }\n",
       "\n",
       "    [theme=dark] .colab-df-convert {\n",
       "      background-color: #3B4455;\n",
       "      fill: #D2E3FC;\n",
       "    }\n",
       "\n",
       "    [theme=dark] .colab-df-convert:hover {\n",
       "      background-color: #434B5C;\n",
       "      box-shadow: 0px 1px 3px 1px rgba(0, 0, 0, 0.15);\n",
       "      filter: drop-shadow(0px 1px 2px rgba(0, 0, 0, 0.3));\n",
       "      fill: #FFFFFF;\n",
       "    }\n",
       "  </style>\n",
       "\n",
       "      <script>\n",
       "        const buttonEl =\n",
       "          document.querySelector('#df-5609002f-2d89-49bd-b119-9827b4bcbb4d button.colab-df-convert');\n",
       "        buttonEl.style.display =\n",
       "          google.colab.kernel.accessAllowed ? 'block' : 'none';\n",
       "\n",
       "        async function convertToInteractive(key) {\n",
       "          const element = document.querySelector('#df-5609002f-2d89-49bd-b119-9827b4bcbb4d');\n",
       "          const dataTable =\n",
       "            await google.colab.kernel.invokeFunction('convertToInteractive',\n",
       "                                                     [key], {});\n",
       "          if (!dataTable) return;\n",
       "\n",
       "          const docLinkHtml = 'Like what you see? Visit the ' +\n",
       "            '<a target=\"_blank\" href=https://colab.research.google.com/notebooks/data_table.ipynb>data table notebook</a>'\n",
       "            + ' to learn more about interactive tables.';\n",
       "          element.innerHTML = '';\n",
       "          dataTable['output_type'] = 'display_data';\n",
       "          await google.colab.output.renderOutput(dataTable, element);\n",
       "          const docLink = document.createElement('div');\n",
       "          docLink.innerHTML = docLinkHtml;\n",
       "          element.appendChild(docLink);\n",
       "        }\n",
       "      </script>\n",
       "    </div>\n",
       "  </div>\n",
       "  "
      ],
      "text/plain": [
       "    Accuracy           Embed      Label\n",
       "0   0.828571           LDVAE  CellType1\n",
       "1   0.849351           LDVAE  CellType1\n",
       "2   0.863203           LDVAE  CellType1\n",
       "3   0.867532          SCANVI  CellType1\n",
       "4   0.875325          SCANVI  CellType1\n",
       "5   0.870130          SCANVI  CellType1\n",
       "6   0.884848      Recon MCML  CellType1\n",
       "7   0.877922      Recon MCML  CellType1\n",
       "8   0.880519      Recon MCML  CellType1\n",
       "9   0.658874   NCA 100% MCML  CellType1\n",
       "10  0.864935  NCA-Recon MCML  CellType1\n",
       "11  0.866667  NCA-Recon MCML  CellType1\n",
       "12  0.892641  NCA-Recon MCML  CellType1\n",
       "13  0.893506           LDVAE    Gender2\n",
       "14  0.892641           LDVAE    Gender2\n",
       "15  0.896104           LDVAE    Gender2\n",
       "16  0.896970          SCANVI    Gender2\n",
       "17  0.893506          SCANVI    Gender2\n",
       "18  0.895238          SCANVI    Gender2\n",
       "19  0.892641      Recon MCML    Gender2\n",
       "20  0.894372      Recon MCML    Gender2\n",
       "21  0.904762      Recon MCML    Gender2\n",
       "22  0.890909   NCA 100% MCML    Gender2\n",
       "23  0.909957  NCA-Recon MCML    Gender2\n",
       "24  0.904762  NCA-Recon MCML    Gender2\n",
       "25  0.892641  NCA-Recon MCML    Gender2\n",
       "26  0.649351   NCA 100% MCML  CellType2\n",
       "27  0.870130  NCA-Recon MCML  CellType2\n",
       "28  0.873593  NCA-Recon MCML  CellType2\n",
       "29  0.898701  NCA-Recon MCML  CellType2\n",
       "30  0.866667         PCA 50D  CellType1\n",
       "31  0.896104         PCA 50D  CellType1\n",
       "32  0.880519         PCA 50D  CellType1\n",
       "33  0.891775         PCA 50D    Gender2\n",
       "34  0.903896         PCA 50D    Gender2\n",
       "35  0.881385         PCA 50D    Gender2\n",
       "36  0.901299   PCA UMAP Sup.  CellType1\n",
       "37  0.873593        PCA UMAP  CellType1\n",
       "38  0.844156       PCA t-SNE  CellType1\n",
       "39  0.891775   PCA UMAP Sup.  CellType1\n",
       "40  0.856277        PCA UMAP  CellType1\n",
       "41  0.855411       PCA t-SNE  CellType1\n",
       "42  0.864069   PCA UMAP Sup.  CellType1\n",
       "43  0.854545        PCA UMAP  CellType1\n",
       "44  0.834632       PCA t-SNE  CellType1\n",
       "45  0.869264        PCA 100D  CellType1\n",
       "46  0.859740        PCA 100D  CellType1\n",
       "47  0.885714        PCA 100D  CellType1"
      ]
     },
     "execution_count": 46,
     "metadata": {},
     "output_type": "execute_result"
    }
   ],
   "source": [
    "vals\n"
   ]
  },
  {
   "cell_type": "code",
   "execution_count": null,
   "metadata": {
    "colab": {
     "base_uri": "https://localhost:8080/",
     "height": 17
    },
    "id": "mOwQUKce8L7f",
    "outputId": "e335341c-1673-4b58-8c64-7a0c6870d6c1"
   },
   "outputs": [
    {
     "data": {
      "application/javascript": [
       "\n",
       "    async function download(id, filename, size) {\n",
       "      if (!google.colab.kernel.accessAllowed) {\n",
       "        return;\n",
       "      }\n",
       "      const div = document.createElement('div');\n",
       "      const label = document.createElement('label');\n",
       "      label.textContent = `Downloading \"${filename}\": `;\n",
       "      div.appendChild(label);\n",
       "      const progress = document.createElement('progress');\n",
       "      progress.max = size;\n",
       "      div.appendChild(progress);\n",
       "      document.body.appendChild(div);\n",
       "\n",
       "      const buffers = [];\n",
       "      let downloaded = 0;\n",
       "\n",
       "      const channel = await google.colab.kernel.comms.open(id);\n",
       "      // Send a message to notify the kernel that we're ready.\n",
       "      channel.send({})\n",
       "\n",
       "      for await (const message of channel.messages) {\n",
       "        // Send a message to notify the kernel that we're ready.\n",
       "        channel.send({})\n",
       "        if (message.buffers) {\n",
       "          for (const buffer of message.buffers) {\n",
       "            buffers.push(buffer);\n",
       "            downloaded += buffer.byteLength;\n",
       "            progress.value = downloaded;\n",
       "          }\n",
       "        }\n",
       "      }\n",
       "      const blob = new Blob(buffers, {type: 'application/binary'});\n",
       "      const a = document.createElement('a');\n",
       "      a.href = window.URL.createObjectURL(blob);\n",
       "      a.download = filename;\n",
       "      div.appendChild(a);\n",
       "      a.click();\n",
       "      div.remove();\n",
       "    }\n",
       "  "
      ],
      "text/plain": [
       "<IPython.core.display.Javascript object>"
      ]
     },
     "metadata": {},
     "output_type": "display_data"
    },
    {
     "data": {
      "application/javascript": [
       "download(\"download_a2895172-51ff-4c96-8051-13d2186d7ef3\", \"allSmartSeqPreds.csv\", 2008)"
      ],
      "text/plain": [
       "<IPython.core.display.Javascript object>"
      ]
     },
     "metadata": {},
     "output_type": "display_data"
    }
   ],
   "source": [
    "from google.colab import files\n",
    "\n",
    "vals.to_csv('allSmartSeqPreds_22.csv')\n",
    "files.download('allSmartSeqPreds_22.csv')"
   ]
  },
  {
   "cell_type": "code",
   "execution_count": null,
   "metadata": {
    "colab": {
     "base_uri": "https://localhost:8080/"
    },
    "id": "s_Cwp5tBUE0c",
    "outputId": "3e560c37-13a7-47d6-e140-efeb5309a15b"
   },
   "outputs": [
    {
     "data": {
      "text/plain": [
       "0.9201716738197425"
      ]
     },
     "execution_count": 50,
     "metadata": {
      "tags": []
     },
     "output_type": "execute_result"
    }
   ],
   "source": []
  },
  {
   "cell_type": "code",
   "execution_count": null,
   "metadata": {
    "id": "ouTUJS95zEuu"
   },
   "outputs": [],
   "source": []
  },
  {
   "cell_type": "code",
   "execution_count": null,
   "metadata": {
    "id": "wS5CBpMEHfQt"
   },
   "outputs": [],
   "source": []
  }
 ],
 "metadata": {
  "accelerator": "GPU",
  "colab": {
   "include_colab_link": true,
   "name": "kimetal_smartseq_predictions.ipynb",
   "provenance": []
  },
  "kernelspec": {
   "display_name": "Python 3",
   "language": "python",
   "name": "python3"
  },
  "language_info": {
   "codemirror_mode": {
    "name": "ipython",
    "version": 3
   },
   "file_extension": ".py",
   "mimetype": "text/x-python",
   "name": "python",
   "nbconvert_exporter": "python",
   "pygments_lexer": "ipython3",
   "version": "3.8.8"
  },
  "widgets": {
   "application/vnd.jupyter.widget-state+json": {
    "018f83a83a30480693752b48a32b38c7": {
     "model_module": "@jupyter-widgets/base",
     "model_module_version": "1.2.0",
     "model_name": "LayoutModel",
     "state": {
      "_model_module": "@jupyter-widgets/base",
      "_model_module_version": "1.2.0",
      "_model_name": "LayoutModel",
      "_view_count": null,
      "_view_module": "@jupyter-widgets/base",
      "_view_module_version": "1.2.0",
      "_view_name": "LayoutView",
      "align_content": null,
      "align_items": null,
      "align_self": null,
      "border": null,
      "bottom": null,
      "display": null,
      "flex": null,
      "flex_flow": null,
      "grid_area": null,
      "grid_auto_columns": null,
      "grid_auto_flow": null,
      "grid_auto_rows": null,
      "grid_column": null,
      "grid_gap": null,
      "grid_row": null,
      "grid_template_areas": null,
      "grid_template_columns": null,
      "grid_template_rows": null,
      "height": null,
      "justify_content": null,
      "justify_items": null,
      "left": null,
      "margin": null,
      "max_height": null,
      "max_width": null,
      "min_height": null,
      "min_width": null,
      "object_fit": null,
      "object_position": null,
      "order": null,
      "overflow": null,
      "overflow_x": null,
      "overflow_y": null,
      "padding": null,
      "right": null,
      "top": null,
      "visibility": null,
      "width": null
     }
    },
    "03c4a840a57740e8bffe0a57b3dd4b9e": {
     "model_module": "@jupyter-widgets/controls",
     "model_module_version": "1.5.0",
     "model_name": "DescriptionStyleModel",
     "state": {
      "_model_module": "@jupyter-widgets/controls",
      "_model_module_version": "1.5.0",
      "_model_name": "DescriptionStyleModel",
      "_view_count": null,
      "_view_module": "@jupyter-widgets/base",
      "_view_module_version": "1.2.0",
      "_view_name": "StyleView",
      "description_width": ""
     }
    },
    "0b4866d49e8f4db7a62483d36b6813b9": {
     "model_module": "@jupyter-widgets/controls",
     "model_module_version": "1.5.0",
     "model_name": "ProgressStyleModel",
     "state": {
      "_model_module": "@jupyter-widgets/controls",
      "_model_module_version": "1.5.0",
      "_model_name": "ProgressStyleModel",
      "_view_count": null,
      "_view_module": "@jupyter-widgets/base",
      "_view_module_version": "1.2.0",
      "_view_name": "StyleView",
      "bar_color": null,
      "description_width": ""
     }
    },
    "0d2f324766ae4c23a940b751d0cb8d00": {
     "model_module": "@jupyter-widgets/controls",
     "model_module_version": "1.5.0",
     "model_name": "HTMLModel",
     "state": {
      "_dom_classes": [],
      "_model_module": "@jupyter-widgets/controls",
      "_model_module_version": "1.5.0",
      "_model_name": "HTMLModel",
      "_view_count": null,
      "_view_module": "@jupyter-widgets/controls",
      "_view_module_version": "1.5.0",
      "_view_name": "HTMLView",
      "description": "",
      "description_tooltip": null,
      "layout": "IPY_MODEL_59f8baf3160144faa5c2f6ec1128ebbc",
      "placeholder": "​",
      "style": "IPY_MODEL_724fc9d4fe2a44c498acff7054a6c834",
      "value": " 26701/? [00:15&lt;00:00, 6019.52B/s]"
     }
    },
    "1db2a70521444656b883283d132f4d7a": {
     "model_module": "@jupyter-widgets/base",
     "model_module_version": "1.2.0",
     "model_name": "LayoutModel",
     "state": {
      "_model_module": "@jupyter-widgets/base",
      "_model_module_version": "1.2.0",
      "_model_name": "LayoutModel",
      "_view_count": null,
      "_view_module": "@jupyter-widgets/base",
      "_view_module_version": "1.2.0",
      "_view_name": "LayoutView",
      "align_content": null,
      "align_items": null,
      "align_self": null,
      "border": null,
      "bottom": null,
      "display": null,
      "flex": null,
      "flex_flow": null,
      "grid_area": null,
      "grid_auto_columns": null,
      "grid_auto_flow": null,
      "grid_auto_rows": null,
      "grid_column": null,
      "grid_gap": null,
      "grid_row": null,
      "grid_template_areas": null,
      "grid_template_columns": null,
      "grid_template_rows": null,
      "height": null,
      "justify_content": null,
      "justify_items": null,
      "left": null,
      "margin": null,
      "max_height": null,
      "max_width": null,
      "min_height": null,
      "min_width": null,
      "object_fit": null,
      "object_position": null,
      "order": null,
      "overflow": null,
      "overflow_x": null,
      "overflow_y": null,
      "padding": null,
      "right": null,
      "top": null,
      "visibility": null,
      "width": null
     }
    },
    "1dc90c2b8ab24d7a9b8de558e64783ce": {
     "model_module": "@jupyter-widgets/base",
     "model_module_version": "1.2.0",
     "model_name": "LayoutModel",
     "state": {
      "_model_module": "@jupyter-widgets/base",
      "_model_module_version": "1.2.0",
      "_model_name": "LayoutModel",
      "_view_count": null,
      "_view_module": "@jupyter-widgets/base",
      "_view_module_version": "1.2.0",
      "_view_name": "LayoutView",
      "align_content": null,
      "align_items": null,
      "align_self": null,
      "border": null,
      "bottom": null,
      "display": null,
      "flex": null,
      "flex_flow": null,
      "grid_area": null,
      "grid_auto_columns": null,
      "grid_auto_flow": null,
      "grid_auto_rows": null,
      "grid_column": null,
      "grid_gap": null,
      "grid_row": null,
      "grid_template_areas": null,
      "grid_template_columns": null,
      "grid_template_rows": null,
      "height": null,
      "justify_content": null,
      "justify_items": null,
      "left": null,
      "margin": null,
      "max_height": null,
      "max_width": null,
      "min_height": null,
      "min_width": null,
      "object_fit": null,
      "object_position": null,
      "order": null,
      "overflow": null,
      "overflow_x": null,
      "overflow_y": null,
      "padding": null,
      "right": null,
      "top": null,
      "visibility": null,
      "width": null
     }
    },
    "21686e86677442698a3a4b274363dafd": {
     "model_module": "@jupyter-widgets/controls",
     "model_module_version": "1.5.0",
     "model_name": "HTMLModel",
     "state": {
      "_dom_classes": [],
      "_model_module": "@jupyter-widgets/controls",
      "_model_module_version": "1.5.0",
      "_model_name": "HTMLModel",
      "_view_count": null,
      "_view_module": "@jupyter-widgets/controls",
      "_view_module_version": "1.5.0",
      "_view_name": "HTMLView",
      "description": "",
      "description_tooltip": null,
      "layout": "IPY_MODEL_41b59c75e6a84d5dbe0898f81b68ce39",
      "placeholder": "​",
      "style": "IPY_MODEL_eb3395006cba46de85a8efc78e6329d6",
      "value": " 16655/? [02:02&lt;00:00, 9992.97B/s]"
     }
    },
    "242b45cd803e49e9a66a039c669219b5": {
     "model_module": "@jupyter-widgets/controls",
     "model_module_version": "1.5.0",
     "model_name": "HBoxModel",
     "state": {
      "_dom_classes": [],
      "_model_module": "@jupyter-widgets/controls",
      "_model_module_version": "1.5.0",
      "_model_name": "HBoxModel",
      "_view_count": null,
      "_view_module": "@jupyter-widgets/controls",
      "_view_module_version": "1.5.0",
      "_view_name": "HBoxView",
      "box_style": "",
      "children": [
       "IPY_MODEL_be0c4d9c042b445e90c67b78b520741b",
       "IPY_MODEL_8f276704eef44164b5bee0d5480c4caa",
       "IPY_MODEL_bd8a2c23ff5e4bad95aeb0e00dd6da92"
      ],
      "layout": "IPY_MODEL_018f83a83a30480693752b48a32b38c7"
     }
    },
    "2e6cd5dd93d747cf97500d07fc9b4030": {
     "model_module": "@jupyter-widgets/base",
     "model_module_version": "1.2.0",
     "model_name": "LayoutModel",
     "state": {
      "_model_module": "@jupyter-widgets/base",
      "_model_module_version": "1.2.0",
      "_model_name": "LayoutModel",
      "_view_count": null,
      "_view_module": "@jupyter-widgets/base",
      "_view_module_version": "1.2.0",
      "_view_name": "LayoutView",
      "align_content": null,
      "align_items": null,
      "align_self": null,
      "border": null,
      "bottom": null,
      "display": null,
      "flex": null,
      "flex_flow": null,
      "grid_area": null,
      "grid_auto_columns": null,
      "grid_auto_flow": null,
      "grid_auto_rows": null,
      "grid_column": null,
      "grid_gap": null,
      "grid_row": null,
      "grid_template_areas": null,
      "grid_template_columns": null,
      "grid_template_rows": null,
      "height": null,
      "justify_content": null,
      "justify_items": null,
      "left": null,
      "margin": null,
      "max_height": null,
      "max_width": null,
      "min_height": null,
      "min_width": null,
      "object_fit": null,
      "object_position": null,
      "order": null,
      "overflow": null,
      "overflow_x": null,
      "overflow_y": null,
      "padding": null,
      "right": null,
      "top": null,
      "visibility": null,
      "width": null
     }
    },
    "31d2f98e1d9c45d6aa08087d88557634": {
     "model_module": "@jupyter-widgets/controls",
     "model_module_version": "1.5.0",
     "model_name": "HBoxModel",
     "state": {
      "_dom_classes": [],
      "_model_module": "@jupyter-widgets/controls",
      "_model_module_version": "1.5.0",
      "_model_name": "HBoxModel",
      "_view_count": null,
      "_view_module": "@jupyter-widgets/controls",
      "_view_module_version": "1.5.0",
      "_view_name": "HBoxView",
      "box_style": "",
      "children": [
       "IPY_MODEL_4eb3a28d875749b4a444b079a2d0056e",
       "IPY_MODEL_82a782507a7c4eb7badd0df1937599b4",
       "IPY_MODEL_0d2f324766ae4c23a940b751d0cb8d00"
      ],
      "layout": "IPY_MODEL_1dc90c2b8ab24d7a9b8de558e64783ce"
     }
    },
    "3433e61bcd8f43eaac2bc98eaf6c8c0e": {
     "model_module": "@jupyter-widgets/base",
     "model_module_version": "1.2.0",
     "model_name": "LayoutModel",
     "state": {
      "_model_module": "@jupyter-widgets/base",
      "_model_module_version": "1.2.0",
      "_model_name": "LayoutModel",
      "_view_count": null,
      "_view_module": "@jupyter-widgets/base",
      "_view_module_version": "1.2.0",
      "_view_name": "LayoutView",
      "align_content": null,
      "align_items": null,
      "align_self": null,
      "border": null,
      "bottom": null,
      "display": null,
      "flex": null,
      "flex_flow": null,
      "grid_area": null,
      "grid_auto_columns": null,
      "grid_auto_flow": null,
      "grid_auto_rows": null,
      "grid_column": null,
      "grid_gap": null,
      "grid_row": null,
      "grid_template_areas": null,
      "grid_template_columns": null,
      "grid_template_rows": null,
      "height": null,
      "justify_content": null,
      "justify_items": null,
      "left": null,
      "margin": null,
      "max_height": null,
      "max_width": null,
      "min_height": null,
      "min_width": null,
      "object_fit": null,
      "object_position": null,
      "order": null,
      "overflow": null,
      "overflow_x": null,
      "overflow_y": null,
      "padding": null,
      "right": null,
      "top": null,
      "visibility": null,
      "width": null
     }
    },
    "3bc69c18b7db44b4889dd5e62c7eaf4e": {
     "model_module": "@jupyter-widgets/base",
     "model_module_version": "1.2.0",
     "model_name": "LayoutModel",
     "state": {
      "_model_module": "@jupyter-widgets/base",
      "_model_module_version": "1.2.0",
      "_model_name": "LayoutModel",
      "_view_count": null,
      "_view_module": "@jupyter-widgets/base",
      "_view_module_version": "1.2.0",
      "_view_name": "LayoutView",
      "align_content": null,
      "align_items": null,
      "align_self": null,
      "border": null,
      "bottom": null,
      "display": null,
      "flex": null,
      "flex_flow": null,
      "grid_area": null,
      "grid_auto_columns": null,
      "grid_auto_flow": null,
      "grid_auto_rows": null,
      "grid_column": null,
      "grid_gap": null,
      "grid_row": null,
      "grid_template_areas": null,
      "grid_template_columns": null,
      "grid_template_rows": null,
      "height": null,
      "justify_content": null,
      "justify_items": null,
      "left": null,
      "margin": null,
      "max_height": null,
      "max_width": null,
      "min_height": null,
      "min_width": null,
      "object_fit": null,
      "object_position": null,
      "order": null,
      "overflow": null,
      "overflow_x": null,
      "overflow_y": null,
      "padding": null,
      "right": null,
      "top": null,
      "visibility": null,
      "width": null
     }
    },
    "41b59c75e6a84d5dbe0898f81b68ce39": {
     "model_module": "@jupyter-widgets/base",
     "model_module_version": "1.2.0",
     "model_name": "LayoutModel",
     "state": {
      "_model_module": "@jupyter-widgets/base",
      "_model_module_version": "1.2.0",
      "_model_name": "LayoutModel",
      "_view_count": null,
      "_view_module": "@jupyter-widgets/base",
      "_view_module_version": "1.2.0",
      "_view_name": "LayoutView",
      "align_content": null,
      "align_items": null,
      "align_self": null,
      "border": null,
      "bottom": null,
      "display": null,
      "flex": null,
      "flex_flow": null,
      "grid_area": null,
      "grid_auto_columns": null,
      "grid_auto_flow": null,
      "grid_auto_rows": null,
      "grid_column": null,
      "grid_gap": null,
      "grid_row": null,
      "grid_template_areas": null,
      "grid_template_columns": null,
      "grid_template_rows": null,
      "height": null,
      "justify_content": null,
      "justify_items": null,
      "left": null,
      "margin": null,
      "max_height": null,
      "max_width": null,
      "min_height": null,
      "min_width": null,
      "object_fit": null,
      "object_position": null,
      "order": null,
      "overflow": null,
      "overflow_x": null,
      "overflow_y": null,
      "padding": null,
      "right": null,
      "top": null,
      "visibility": null,
      "width": null
     }
    },
    "4d6ab59d003844d2b530a0038044af91": {
     "model_module": "@jupyter-widgets/controls",
     "model_module_version": "1.5.0",
     "model_name": "DescriptionStyleModel",
     "state": {
      "_model_module": "@jupyter-widgets/controls",
      "_model_module_version": "1.5.0",
      "_model_name": "DescriptionStyleModel",
      "_view_count": null,
      "_view_module": "@jupyter-widgets/base",
      "_view_module_version": "1.2.0",
      "_view_name": "StyleView",
      "description_width": ""
     }
    },
    "4eb3a28d875749b4a444b079a2d0056e": {
     "model_module": "@jupyter-widgets/controls",
     "model_module_version": "1.5.0",
     "model_name": "HTMLModel",
     "state": {
      "_dom_classes": [],
      "_model_module": "@jupyter-widgets/controls",
      "_model_module_version": "1.5.0",
      "_model_name": "HTMLModel",
      "_view_count": null,
      "_view_module": "@jupyter-widgets/controls",
      "_view_module_version": "1.5.0",
      "_view_name": "HTMLView",
      "description": "",
      "description_tooltip": null,
      "layout": "IPY_MODEL_2e6cd5dd93d747cf97500d07fc9b4030",
      "placeholder": "​",
      "style": "IPY_MODEL_6f37c0a8fcc142659504d642c298ce4f",
      "value": ""
     }
    },
    "5281d320bad94a3fa99c405d6e14aaeb": {
     "model_module": "@jupyter-widgets/controls",
     "model_module_version": "1.5.0",
     "model_name": "ProgressStyleModel",
     "state": {
      "_model_module": "@jupyter-widgets/controls",
      "_model_module_version": "1.5.0",
      "_model_name": "ProgressStyleModel",
      "_view_count": null,
      "_view_module": "@jupyter-widgets/base",
      "_view_module_version": "1.2.0",
      "_view_name": "StyleView",
      "bar_color": null,
      "description_width": ""
     }
    },
    "58faae5bea2a4002bba21a0aadc5b64c": {
     "model_module": "@jupyter-widgets/controls",
     "model_module_version": "1.5.0",
     "model_name": "FloatProgressModel",
     "state": {
      "_dom_classes": [],
      "_model_module": "@jupyter-widgets/controls",
      "_model_module_version": "1.5.0",
      "_model_name": "FloatProgressModel",
      "_view_count": null,
      "_view_module": "@jupyter-widgets/controls",
      "_view_module_version": "1.5.0",
      "_view_name": "ProgressView",
      "bar_style": "success",
      "description": "",
      "description_tooltip": null,
      "layout": "IPY_MODEL_e283bdc4daed49bbb88dbbb07558ce59",
      "max": 11,
      "min": 0,
      "orientation": "horizontal",
      "style": "IPY_MODEL_780b51b90b93479cbf9a125fcb5376e2",
      "value": 11
     }
    },
    "59f8baf3160144faa5c2f6ec1128ebbc": {
     "model_module": "@jupyter-widgets/base",
     "model_module_version": "1.2.0",
     "model_name": "LayoutModel",
     "state": {
      "_model_module": "@jupyter-widgets/base",
      "_model_module_version": "1.2.0",
      "_model_name": "LayoutModel",
      "_view_count": null,
      "_view_module": "@jupyter-widgets/base",
      "_view_module_version": "1.2.0",
      "_view_name": "LayoutView",
      "align_content": null,
      "align_items": null,
      "align_self": null,
      "border": null,
      "bottom": null,
      "display": null,
      "flex": null,
      "flex_flow": null,
      "grid_area": null,
      "grid_auto_columns": null,
      "grid_auto_flow": null,
      "grid_auto_rows": null,
      "grid_column": null,
      "grid_gap": null,
      "grid_row": null,
      "grid_template_areas": null,
      "grid_template_columns": null,
      "grid_template_rows": null,
      "height": null,
      "justify_content": null,
      "justify_items": null,
      "left": null,
      "margin": null,
      "max_height": null,
      "max_width": null,
      "min_height": null,
      "min_width": null,
      "object_fit": null,
      "object_position": null,
      "order": null,
      "overflow": null,
      "overflow_x": null,
      "overflow_y": null,
      "padding": null,
      "right": null,
      "top": null,
      "visibility": null,
      "width": null
     }
    },
    "6bc98782492c4dabb20c5ea694fabf03": {
     "model_module": "@jupyter-widgets/base",
     "model_module_version": "1.2.0",
     "model_name": "LayoutModel",
     "state": {
      "_model_module": "@jupyter-widgets/base",
      "_model_module_version": "1.2.0",
      "_model_name": "LayoutModel",
      "_view_count": null,
      "_view_module": "@jupyter-widgets/base",
      "_view_module_version": "1.2.0",
      "_view_name": "LayoutView",
      "align_content": null,
      "align_items": null,
      "align_self": null,
      "border": null,
      "bottom": null,
      "display": null,
      "flex": null,
      "flex_flow": null,
      "grid_area": null,
      "grid_auto_columns": null,
      "grid_auto_flow": null,
      "grid_auto_rows": null,
      "grid_column": null,
      "grid_gap": null,
      "grid_row": null,
      "grid_template_areas": null,
      "grid_template_columns": null,
      "grid_template_rows": null,
      "height": null,
      "justify_content": null,
      "justify_items": null,
      "left": null,
      "margin": null,
      "max_height": null,
      "max_width": null,
      "min_height": null,
      "min_width": null,
      "object_fit": null,
      "object_position": null,
      "order": null,
      "overflow": null,
      "overflow_x": null,
      "overflow_y": null,
      "padding": null,
      "right": null,
      "top": null,
      "visibility": null,
      "width": null
     }
    },
    "6d3a0dc3988c46dd8f077ec1ba5d050b": {
     "model_module": "@jupyter-widgets/controls",
     "model_module_version": "1.5.0",
     "model_name": "FloatProgressModel",
     "state": {
      "_dom_classes": [],
      "_model_module": "@jupyter-widgets/controls",
      "_model_module_version": "1.5.0",
      "_model_name": "FloatProgressModel",
      "_view_count": null,
      "_view_module": "@jupyter-widgets/controls",
      "_view_module_version": "1.5.0",
      "_view_name": "ProgressView",
      "bar_style": "success",
      "description": "",
      "description_tooltip": null,
      "layout": "IPY_MODEL_d4627ebe1d944237bcc845bafd8ad1e1",
      "max": 16654,
      "min": 0,
      "orientation": "horizontal",
      "style": "IPY_MODEL_f2d195a97a2d4b6cb3e97bba35c63106",
      "value": 16654
     }
    },
    "6f37c0a8fcc142659504d642c298ce4f": {
     "model_module": "@jupyter-widgets/controls",
     "model_module_version": "1.5.0",
     "model_name": "DescriptionStyleModel",
     "state": {
      "_model_module": "@jupyter-widgets/controls",
      "_model_module_version": "1.5.0",
      "_model_name": "DescriptionStyleModel",
      "_view_count": null,
      "_view_module": "@jupyter-widgets/base",
      "_view_module_version": "1.2.0",
      "_view_name": "StyleView",
      "description_width": ""
     }
    },
    "724fc9d4fe2a44c498acff7054a6c834": {
     "model_module": "@jupyter-widgets/controls",
     "model_module_version": "1.5.0",
     "model_name": "DescriptionStyleModel",
     "state": {
      "_model_module": "@jupyter-widgets/controls",
      "_model_module_version": "1.5.0",
      "_model_name": "DescriptionStyleModel",
      "_view_count": null,
      "_view_module": "@jupyter-widgets/base",
      "_view_module_version": "1.2.0",
      "_view_name": "StyleView",
      "description_width": ""
     }
    },
    "780b51b90b93479cbf9a125fcb5376e2": {
     "model_module": "@jupyter-widgets/controls",
     "model_module_version": "1.5.0",
     "model_name": "ProgressStyleModel",
     "state": {
      "_model_module": "@jupyter-widgets/controls",
      "_model_module_version": "1.5.0",
      "_model_name": "ProgressStyleModel",
      "_view_count": null,
      "_view_module": "@jupyter-widgets/base",
      "_view_module_version": "1.2.0",
      "_view_name": "StyleView",
      "bar_color": null,
      "description_width": ""
     }
    },
    "79c8b8142e38417dbf491856a6fc9839": {
     "model_module": "@jupyter-widgets/controls",
     "model_module_version": "1.5.0",
     "model_name": "HTMLModel",
     "state": {
      "_dom_classes": [],
      "_model_module": "@jupyter-widgets/controls",
      "_model_module_version": "1.5.0",
      "_model_name": "HTMLModel",
      "_view_count": null,
      "_view_module": "@jupyter-widgets/controls",
      "_view_module_version": "1.5.0",
      "_view_name": "HTMLView",
      "description": "",
      "description_tooltip": null,
      "layout": "IPY_MODEL_c8b8652d12124f10811ab11cbc307d3f",
      "placeholder": "​",
      "style": "IPY_MODEL_e853078dd8464727b1020a054db23f4b",
      "value": " 12/? [00:01&lt;00:00,  6.56B/s]"
     }
    },
    "82a782507a7c4eb7badd0df1937599b4": {
     "model_module": "@jupyter-widgets/controls",
     "model_module_version": "1.5.0",
     "model_name": "FloatProgressModel",
     "state": {
      "_dom_classes": [],
      "_model_module": "@jupyter-widgets/controls",
      "_model_module_version": "1.5.0",
      "_model_name": "FloatProgressModel",
      "_view_count": null,
      "_view_module": "@jupyter-widgets/controls",
      "_view_module_version": "1.5.0",
      "_view_name": "ProgressView",
      "bar_style": "success",
      "description": "",
      "description_tooltip": null,
      "layout": "IPY_MODEL_e4f7780d8fb34553a14902a4849d5cd3",
      "max": 26700,
      "min": 0,
      "orientation": "horizontal",
      "style": "IPY_MODEL_5281d320bad94a3fa99c405d6e14aaeb",
      "value": 26700
     }
    },
    "8adb1eda51414b52a2340852fbb7e973": {
     "model_module": "@jupyter-widgets/controls",
     "model_module_version": "1.5.0",
     "model_name": "HBoxModel",
     "state": {
      "_dom_classes": [],
      "_model_module": "@jupyter-widgets/controls",
      "_model_module_version": "1.5.0",
      "_model_name": "HBoxModel",
      "_view_count": null,
      "_view_module": "@jupyter-widgets/controls",
      "_view_module_version": "1.5.0",
      "_view_name": "HBoxView",
      "box_style": "",
      "children": [
       "IPY_MODEL_a146be479e694a9899a7f4bbb48fc620",
       "IPY_MODEL_6d3a0dc3988c46dd8f077ec1ba5d050b",
       "IPY_MODEL_21686e86677442698a3a4b274363dafd"
      ],
      "layout": "IPY_MODEL_dc27445aef5447569ebae8ab499933b9"
     }
    },
    "8f276704eef44164b5bee0d5480c4caa": {
     "model_module": "@jupyter-widgets/controls",
     "model_module_version": "1.5.0",
     "model_name": "FloatProgressModel",
     "state": {
      "_dom_classes": [],
      "_model_module": "@jupyter-widgets/controls",
      "_model_module_version": "1.5.0",
      "_model_name": "FloatProgressModel",
      "_view_count": null,
      "_view_module": "@jupyter-widgets/controls",
      "_view_module_version": "1.5.0",
      "_view_name": "ProgressView",
      "bar_style": "success",
      "description": "",
      "description_tooltip": null,
      "layout": "IPY_MODEL_1db2a70521444656b883283d132f4d7a",
      "max": 64,
      "min": 0,
      "orientation": "horizontal",
      "style": "IPY_MODEL_0b4866d49e8f4db7a62483d36b6813b9",
      "value": 64
     }
    },
    "963694defd2342a9b3cc1c10702e195e": {
     "model_module": "@jupyter-widgets/base",
     "model_module_version": "1.2.0",
     "model_name": "LayoutModel",
     "state": {
      "_model_module": "@jupyter-widgets/base",
      "_model_module_version": "1.2.0",
      "_model_name": "LayoutModel",
      "_view_count": null,
      "_view_module": "@jupyter-widgets/base",
      "_view_module_version": "1.2.0",
      "_view_name": "LayoutView",
      "align_content": null,
      "align_items": null,
      "align_self": null,
      "border": null,
      "bottom": null,
      "display": null,
      "flex": null,
      "flex_flow": null,
      "grid_area": null,
      "grid_auto_columns": null,
      "grid_auto_flow": null,
      "grid_auto_rows": null,
      "grid_column": null,
      "grid_gap": null,
      "grid_row": null,
      "grid_template_areas": null,
      "grid_template_columns": null,
      "grid_template_rows": null,
      "height": null,
      "justify_content": null,
      "justify_items": null,
      "left": null,
      "margin": null,
      "max_height": null,
      "max_width": null,
      "min_height": null,
      "min_width": null,
      "object_fit": null,
      "object_position": null,
      "order": null,
      "overflow": null,
      "overflow_x": null,
      "overflow_y": null,
      "padding": null,
      "right": null,
      "top": null,
      "visibility": null,
      "width": null
     }
    },
    "9d299ef4be824463b8a87d21ef272f15": {
     "model_module": "@jupyter-widgets/base",
     "model_module_version": "1.2.0",
     "model_name": "LayoutModel",
     "state": {
      "_model_module": "@jupyter-widgets/base",
      "_model_module_version": "1.2.0",
      "_model_name": "LayoutModel",
      "_view_count": null,
      "_view_module": "@jupyter-widgets/base",
      "_view_module_version": "1.2.0",
      "_view_name": "LayoutView",
      "align_content": null,
      "align_items": null,
      "align_self": null,
      "border": null,
      "bottom": null,
      "display": null,
      "flex": null,
      "flex_flow": null,
      "grid_area": null,
      "grid_auto_columns": null,
      "grid_auto_flow": null,
      "grid_auto_rows": null,
      "grid_column": null,
      "grid_gap": null,
      "grid_row": null,
      "grid_template_areas": null,
      "grid_template_columns": null,
      "grid_template_rows": null,
      "height": null,
      "justify_content": null,
      "justify_items": null,
      "left": null,
      "margin": null,
      "max_height": null,
      "max_width": null,
      "min_height": null,
      "min_width": null,
      "object_fit": null,
      "object_position": null,
      "order": null,
      "overflow": null,
      "overflow_x": null,
      "overflow_y": null,
      "padding": null,
      "right": null,
      "top": null,
      "visibility": null,
      "width": null
     }
    },
    "a146be479e694a9899a7f4bbb48fc620": {
     "model_module": "@jupyter-widgets/controls",
     "model_module_version": "1.5.0",
     "model_name": "HTMLModel",
     "state": {
      "_dom_classes": [],
      "_model_module": "@jupyter-widgets/controls",
      "_model_module_version": "1.5.0",
      "_model_name": "HTMLModel",
      "_view_count": null,
      "_view_module": "@jupyter-widgets/controls",
      "_view_module_version": "1.5.0",
      "_view_name": "HTMLView",
      "description": "",
      "description_tooltip": null,
      "layout": "IPY_MODEL_9d299ef4be824463b8a87d21ef272f15",
      "placeholder": "​",
      "style": "IPY_MODEL_d20dbb266c8044b5901540e301cc3942",
      "value": ""
     }
    },
    "b032a7cbe2a047fa88510035586306c6": {
     "model_module": "@jupyter-widgets/controls",
     "model_module_version": "1.5.0",
     "model_name": "DescriptionStyleModel",
     "state": {
      "_model_module": "@jupyter-widgets/controls",
      "_model_module_version": "1.5.0",
      "_model_name": "DescriptionStyleModel",
      "_view_count": null,
      "_view_module": "@jupyter-widgets/base",
      "_view_module_version": "1.2.0",
      "_view_name": "StyleView",
      "description_width": ""
     }
    },
    "bd8a2c23ff5e4bad95aeb0e00dd6da92": {
     "model_module": "@jupyter-widgets/controls",
     "model_module_version": "1.5.0",
     "model_name": "HTMLModel",
     "state": {
      "_dom_classes": [],
      "_model_module": "@jupyter-widgets/controls",
      "_model_module_version": "1.5.0",
      "_model_name": "HTMLModel",
      "_view_count": null,
      "_view_module": "@jupyter-widgets/controls",
      "_view_module_version": "1.5.0",
      "_view_name": "HTMLView",
      "description": "",
      "description_tooltip": null,
      "layout": "IPY_MODEL_963694defd2342a9b3cc1c10702e195e",
      "placeholder": "​",
      "style": "IPY_MODEL_4d6ab59d003844d2b530a0038044af91",
      "value": " 65/? [02:20&lt;00:00, 130.41B/s]"
     }
    },
    "be0c4d9c042b445e90c67b78b520741b": {
     "model_module": "@jupyter-widgets/controls",
     "model_module_version": "1.5.0",
     "model_name": "HTMLModel",
     "state": {
      "_dom_classes": [],
      "_model_module": "@jupyter-widgets/controls",
      "_model_module_version": "1.5.0",
      "_model_name": "HTMLModel",
      "_view_count": null,
      "_view_module": "@jupyter-widgets/controls",
      "_view_module_version": "1.5.0",
      "_view_name": "HTMLView",
      "description": "",
      "description_tooltip": null,
      "layout": "IPY_MODEL_3bc69c18b7db44b4889dd5e62c7eaf4e",
      "placeholder": "​",
      "style": "IPY_MODEL_03c4a840a57740e8bffe0a57b3dd4b9e",
      "value": ""
     }
    },
    "c8b8652d12124f10811ab11cbc307d3f": {
     "model_module": "@jupyter-widgets/base",
     "model_module_version": "1.2.0",
     "model_name": "LayoutModel",
     "state": {
      "_model_module": "@jupyter-widgets/base",
      "_model_module_version": "1.2.0",
      "_model_name": "LayoutModel",
      "_view_count": null,
      "_view_module": "@jupyter-widgets/base",
      "_view_module_version": "1.2.0",
      "_view_name": "LayoutView",
      "align_content": null,
      "align_items": null,
      "align_self": null,
      "border": null,
      "bottom": null,
      "display": null,
      "flex": null,
      "flex_flow": null,
      "grid_area": null,
      "grid_auto_columns": null,
      "grid_auto_flow": null,
      "grid_auto_rows": null,
      "grid_column": null,
      "grid_gap": null,
      "grid_row": null,
      "grid_template_areas": null,
      "grid_template_columns": null,
      "grid_template_rows": null,
      "height": null,
      "justify_content": null,
      "justify_items": null,
      "left": null,
      "margin": null,
      "max_height": null,
      "max_width": null,
      "min_height": null,
      "min_width": null,
      "object_fit": null,
      "object_position": null,
      "order": null,
      "overflow": null,
      "overflow_x": null,
      "overflow_y": null,
      "padding": null,
      "right": null,
      "top": null,
      "visibility": null,
      "width": null
     }
    },
    "d20dbb266c8044b5901540e301cc3942": {
     "model_module": "@jupyter-widgets/controls",
     "model_module_version": "1.5.0",
     "model_name": "DescriptionStyleModel",
     "state": {
      "_model_module": "@jupyter-widgets/controls",
      "_model_module_version": "1.5.0",
      "_model_name": "DescriptionStyleModel",
      "_view_count": null,
      "_view_module": "@jupyter-widgets/base",
      "_view_module_version": "1.2.0",
      "_view_name": "StyleView",
      "description_width": ""
     }
    },
    "d4627ebe1d944237bcc845bafd8ad1e1": {
     "model_module": "@jupyter-widgets/base",
     "model_module_version": "1.2.0",
     "model_name": "LayoutModel",
     "state": {
      "_model_module": "@jupyter-widgets/base",
      "_model_module_version": "1.2.0",
      "_model_name": "LayoutModel",
      "_view_count": null,
      "_view_module": "@jupyter-widgets/base",
      "_view_module_version": "1.2.0",
      "_view_name": "LayoutView",
      "align_content": null,
      "align_items": null,
      "align_self": null,
      "border": null,
      "bottom": null,
      "display": null,
      "flex": null,
      "flex_flow": null,
      "grid_area": null,
      "grid_auto_columns": null,
      "grid_auto_flow": null,
      "grid_auto_rows": null,
      "grid_column": null,
      "grid_gap": null,
      "grid_row": null,
      "grid_template_areas": null,
      "grid_template_columns": null,
      "grid_template_rows": null,
      "height": null,
      "justify_content": null,
      "justify_items": null,
      "left": null,
      "margin": null,
      "max_height": null,
      "max_width": null,
      "min_height": null,
      "min_width": null,
      "object_fit": null,
      "object_position": null,
      "order": null,
      "overflow": null,
      "overflow_x": null,
      "overflow_y": null,
      "padding": null,
      "right": null,
      "top": null,
      "visibility": null,
      "width": null
     }
    },
    "d66c204d54354b47b0b03af7fc2a7d39": {
     "model_module": "@jupyter-widgets/controls",
     "model_module_version": "1.5.0",
     "model_name": "HBoxModel",
     "state": {
      "_dom_classes": [],
      "_model_module": "@jupyter-widgets/controls",
      "_model_module_version": "1.5.0",
      "_model_name": "HBoxModel",
      "_view_count": null,
      "_view_module": "@jupyter-widgets/controls",
      "_view_module_version": "1.5.0",
      "_view_name": "HBoxView",
      "box_style": "",
      "children": [
       "IPY_MODEL_de5006eadbfe40769daec38aaea87452",
       "IPY_MODEL_58faae5bea2a4002bba21a0aadc5b64c",
       "IPY_MODEL_79c8b8142e38417dbf491856a6fc9839"
      ],
      "layout": "IPY_MODEL_3433e61bcd8f43eaac2bc98eaf6c8c0e"
     }
    },
    "dc27445aef5447569ebae8ab499933b9": {
     "model_module": "@jupyter-widgets/base",
     "model_module_version": "1.2.0",
     "model_name": "LayoutModel",
     "state": {
      "_model_module": "@jupyter-widgets/base",
      "_model_module_version": "1.2.0",
      "_model_name": "LayoutModel",
      "_view_count": null,
      "_view_module": "@jupyter-widgets/base",
      "_view_module_version": "1.2.0",
      "_view_name": "LayoutView",
      "align_content": null,
      "align_items": null,
      "align_self": null,
      "border": null,
      "bottom": null,
      "display": null,
      "flex": null,
      "flex_flow": null,
      "grid_area": null,
      "grid_auto_columns": null,
      "grid_auto_flow": null,
      "grid_auto_rows": null,
      "grid_column": null,
      "grid_gap": null,
      "grid_row": null,
      "grid_template_areas": null,
      "grid_template_columns": null,
      "grid_template_rows": null,
      "height": null,
      "justify_content": null,
      "justify_items": null,
      "left": null,
      "margin": null,
      "max_height": null,
      "max_width": null,
      "min_height": null,
      "min_width": null,
      "object_fit": null,
      "object_position": null,
      "order": null,
      "overflow": null,
      "overflow_x": null,
      "overflow_y": null,
      "padding": null,
      "right": null,
      "top": null,
      "visibility": null,
      "width": null
     }
    },
    "de5006eadbfe40769daec38aaea87452": {
     "model_module": "@jupyter-widgets/controls",
     "model_module_version": "1.5.0",
     "model_name": "HTMLModel",
     "state": {
      "_dom_classes": [],
      "_model_module": "@jupyter-widgets/controls",
      "_model_module_version": "1.5.0",
      "_model_name": "HTMLModel",
      "_view_count": null,
      "_view_module": "@jupyter-widgets/controls",
      "_view_module_version": "1.5.0",
      "_view_name": "HTMLView",
      "description": "",
      "description_tooltip": null,
      "layout": "IPY_MODEL_6bc98782492c4dabb20c5ea694fabf03",
      "placeholder": "​",
      "style": "IPY_MODEL_b032a7cbe2a047fa88510035586306c6",
      "value": ""
     }
    },
    "e283bdc4daed49bbb88dbbb07558ce59": {
     "model_module": "@jupyter-widgets/base",
     "model_module_version": "1.2.0",
     "model_name": "LayoutModel",
     "state": {
      "_model_module": "@jupyter-widgets/base",
      "_model_module_version": "1.2.0",
      "_model_name": "LayoutModel",
      "_view_count": null,
      "_view_module": "@jupyter-widgets/base",
      "_view_module_version": "1.2.0",
      "_view_name": "LayoutView",
      "align_content": null,
      "align_items": null,
      "align_self": null,
      "border": null,
      "bottom": null,
      "display": null,
      "flex": null,
      "flex_flow": null,
      "grid_area": null,
      "grid_auto_columns": null,
      "grid_auto_flow": null,
      "grid_auto_rows": null,
      "grid_column": null,
      "grid_gap": null,
      "grid_row": null,
      "grid_template_areas": null,
      "grid_template_columns": null,
      "grid_template_rows": null,
      "height": null,
      "justify_content": null,
      "justify_items": null,
      "left": null,
      "margin": null,
      "max_height": null,
      "max_width": null,
      "min_height": null,
      "min_width": null,
      "object_fit": null,
      "object_position": null,
      "order": null,
      "overflow": null,
      "overflow_x": null,
      "overflow_y": null,
      "padding": null,
      "right": null,
      "top": null,
      "visibility": null,
      "width": null
     }
    },
    "e4f7780d8fb34553a14902a4849d5cd3": {
     "model_module": "@jupyter-widgets/base",
     "model_module_version": "1.2.0",
     "model_name": "LayoutModel",
     "state": {
      "_model_module": "@jupyter-widgets/base",
      "_model_module_version": "1.2.0",
      "_model_name": "LayoutModel",
      "_view_count": null,
      "_view_module": "@jupyter-widgets/base",
      "_view_module_version": "1.2.0",
      "_view_name": "LayoutView",
      "align_content": null,
      "align_items": null,
      "align_self": null,
      "border": null,
      "bottom": null,
      "display": null,
      "flex": null,
      "flex_flow": null,
      "grid_area": null,
      "grid_auto_columns": null,
      "grid_auto_flow": null,
      "grid_auto_rows": null,
      "grid_column": null,
      "grid_gap": null,
      "grid_row": null,
      "grid_template_areas": null,
      "grid_template_columns": null,
      "grid_template_rows": null,
      "height": null,
      "justify_content": null,
      "justify_items": null,
      "left": null,
      "margin": null,
      "max_height": null,
      "max_width": null,
      "min_height": null,
      "min_width": null,
      "object_fit": null,
      "object_position": null,
      "order": null,
      "overflow": null,
      "overflow_x": null,
      "overflow_y": null,
      "padding": null,
      "right": null,
      "top": null,
      "visibility": null,
      "width": null
     }
    },
    "e853078dd8464727b1020a054db23f4b": {
     "model_module": "@jupyter-widgets/controls",
     "model_module_version": "1.5.0",
     "model_name": "DescriptionStyleModel",
     "state": {
      "_model_module": "@jupyter-widgets/controls",
      "_model_module_version": "1.5.0",
      "_model_name": "DescriptionStyleModel",
      "_view_count": null,
      "_view_module": "@jupyter-widgets/base",
      "_view_module_version": "1.2.0",
      "_view_name": "StyleView",
      "description_width": ""
     }
    },
    "eb3395006cba46de85a8efc78e6329d6": {
     "model_module": "@jupyter-widgets/controls",
     "model_module_version": "1.5.0",
     "model_name": "DescriptionStyleModel",
     "state": {
      "_model_module": "@jupyter-widgets/controls",
      "_model_module_version": "1.5.0",
      "_model_name": "DescriptionStyleModel",
      "_view_count": null,
      "_view_module": "@jupyter-widgets/base",
      "_view_module_version": "1.2.0",
      "_view_name": "StyleView",
      "description_width": ""
     }
    },
    "f2d195a97a2d4b6cb3e97bba35c63106": {
     "model_module": "@jupyter-widgets/controls",
     "model_module_version": "1.5.0",
     "model_name": "ProgressStyleModel",
     "state": {
      "_model_module": "@jupyter-widgets/controls",
      "_model_module_version": "1.5.0",
      "_model_name": "ProgressStyleModel",
      "_view_count": null,
      "_view_module": "@jupyter-widgets/base",
      "_view_module_version": "1.2.0",
      "_view_name": "StyleView",
      "bar_color": null,
      "description_width": ""
     }
    }
   }
  }
 },
 "nbformat": 4,
 "nbformat_minor": 1
}
